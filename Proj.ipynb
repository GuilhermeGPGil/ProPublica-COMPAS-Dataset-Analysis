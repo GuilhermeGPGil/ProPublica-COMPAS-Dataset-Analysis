{
 "cells": [
  {
   "cell_type": "markdown",
   "metadata": {},
   "source": [
    "# Course Project\n",
    "\n",
    "### Guilherme Gil, Alva Ringi & Francisco Simões\n",
    "\n",
    "## Dataset\n",
    "\n",
    "You will examine the ProPublica COMPAS dataset, which consists of all criminal defendants who were subject to COMPAS screening in Broward County, Florida, during 2013 and 2014. For each defendant, various information fields (‘features’) were also gathered by ProPublica. Broadly, these fields are related to the defendant’s demographic information (e.g., gender and race), criminal history (e.g., the number of prior offenses) and administrative information about the case (e.g., the case number, arrest date, risk of recidivism predicted by the COMPAS tool). Finally, the dataset also contains information about whether the defendant did actually recidivate or not.\n",
    "\n",
    "The COMPAS score uses answers to 137 questions to assign a risk score to defendants -- essentially a probability of re-arrest. The actual output is two-fold: a risk rating of 1-10 and a \"low\", \"medium\", or \"high\" risk label.\n",
    "\n",
    "Link to dataset: https://github.com/propublica/compas-analysis\n",
    "\n",
    "The file we will analyze is: compas-scores-two-years.csv\n",
    "\n",
    "Link to the ProPublica article:\n",
    "\n",
    "https://www.propublica.org/article/machine-bias-risk-assessments-in-criminal-sentencing\n",
    "\n",
    "\n",
    "## Project goal\n",
    "\n",
    "The project has three parts: \n",
    "\n",
    "1. The COMPAS scores have been shown to have biases against certain racial groups. Analyze the dataset to highlight these biases.  \n",
    "\n",
    "2. Based on the features in the COMPAS dataset, train classifiers to predict who will re-offend (hint: no need to use all features, just the ones you find relevant).  Study if your classifiers are more or less fair than the COMPAS classifier. \n",
    "\n",
    "3. Build a fair classifier (last lecture will cover fair classification techniques). Is excluding the race from the feature set enough?\n"
   ]
  },
  {
   "cell_type": "code",
   "execution_count": 11,
   "metadata": {},
   "outputs": [
    {
     "name": "stdout",
     "output_type": "stream",
     "text": [
      "Collecting sklego\n",
      "  Downloading sklego-0.0-py2.py3-none-any.whl (1.1 kB)\n",
      "Collecting scikit-lego\n",
      "  Downloading scikit_lego-0.6.11-py2.py3-none-any.whl (223 kB)\n",
      "\u001b[2K     \u001b[90m━━━━━━━━━━━━━━━━━━━━━━━━━━━━━━━━━━━━━━━\u001b[0m \u001b[32m223.8/223.8 KB\u001b[0m \u001b[31m5.1 MB/s\u001b[0m eta \u001b[36m0:00:00\u001b[0ma \u001b[36m0:00:01\u001b[0m\n",
      "\u001b[?25hCollecting umap-learn>=0.4.6\n",
      "  Downloading umap-learn-0.5.3.tar.gz (88 kB)\n",
      "\u001b[2K     \u001b[90m━━━━━━━━━━━━━━━━━━━━━━━━━━━━━━━━━━━━━━━━\u001b[0m \u001b[32m88.2/88.2 KB\u001b[0m \u001b[31m6.6 MB/s\u001b[0m eta \u001b[36m0:00:00\u001b[0m\n",
      "\u001b[?25h  Preparing metadata (setup.py) ... \u001b[?25ldone\n",
      "\u001b[?25hCollecting Deprecated>=1.2.6\n",
      "  Downloading Deprecated-1.2.13-py2.py3-none-any.whl (9.6 kB)\n",
      "Collecting autograd>=1.2\n",
      "  Downloading autograd-1.4-py3-none-any.whl (48 kB)\n",
      "\u001b[2K     \u001b[90m━━━━━━━━━━━━━━━━━━━━━━━━━━━━━━━━━━━━━━━━\u001b[0m \u001b[32m48.8/48.8 KB\u001b[0m \u001b[31m2.5 MB/s\u001b[0m eta \u001b[36m0:00:00\u001b[0m\n",
      "\u001b[?25hCollecting patsy>=0.5.1\n",
      "  Downloading patsy-0.5.2-py2.py3-none-any.whl (233 kB)\n",
      "\u001b[2K     \u001b[90m━━━━━━━━━━━━━━━━━━━━━━━━━━━━━━━━━━━━━━\u001b[0m \u001b[32m233.7/233.7 KB\u001b[0m \u001b[31m11.0 MB/s\u001b[0m eta \u001b[36m0:00:00\u001b[0m\n",
      "\u001b[?25hRequirement already satisfied: scikit-learn>=0.24.1 in /Library/Frameworks/Python.framework/Versions/3.10/lib/python3.10/site-packages (from scikit-lego->sklego) (1.0.2)\n",
      "Requirement already satisfied: pandas>=1.1.5 in /Library/Frameworks/Python.framework/Versions/3.10/lib/python3.10/site-packages (from scikit-lego->sklego) (1.4.2)\n",
      "Collecting future>=0.15.2\n",
      "  Downloading future-0.18.2.tar.gz (829 kB)\n",
      "\u001b[2K     \u001b[90m━━━━━━━━━━━━━━━━━━━━━━━━━━━━━━━━━━━━━━━\u001b[0m \u001b[32m829.2/829.2 KB\u001b[0m \u001b[31m9.2 MB/s\u001b[0m eta \u001b[36m0:00:00\u001b[0m00:01\u001b[0m00:01\u001b[0m\n",
      "\u001b[?25h  Preparing metadata (setup.py) ... \u001b[?25ldone\n",
      "\u001b[?25hRequirement already satisfied: numpy>=1.12 in /Library/Frameworks/Python.framework/Versions/3.10/lib/python3.10/site-packages (from autograd>=1.2->scikit-lego->sklego) (1.22.3)\n",
      "Requirement already satisfied: wrapt<2,>=1.10 in /Library/Frameworks/Python.framework/Versions/3.10/lib/python3.10/site-packages (from Deprecated>=1.2.6->scikit-lego->sklego) (1.14.0)\n",
      "Requirement already satisfied: python-dateutil>=2.8.1 in /Library/Frameworks/Python.framework/Versions/3.10/lib/python3.10/site-packages (from pandas>=1.1.5->scikit-lego->sklego) (2.8.2)\n",
      "Requirement already satisfied: pytz>=2020.1 in /Library/Frameworks/Python.framework/Versions/3.10/lib/python3.10/site-packages (from pandas>=1.1.5->scikit-lego->sklego) (2022.1)\n",
      "Requirement already satisfied: six in /Library/Frameworks/Python.framework/Versions/3.10/lib/python3.10/site-packages (from patsy>=0.5.1->scikit-lego->sklego) (1.16.0)\n",
      "Requirement already satisfied: joblib>=0.11 in /Library/Frameworks/Python.framework/Versions/3.10/lib/python3.10/site-packages (from scikit-learn>=0.24.1->scikit-lego->sklego) (1.1.0)\n",
      "Requirement already satisfied: scipy>=1.1.0 in /Library/Frameworks/Python.framework/Versions/3.10/lib/python3.10/site-packages (from scikit-learn>=0.24.1->scikit-lego->sklego) (1.8.0)\n",
      "Requirement already satisfied: threadpoolctl>=2.0.0 in /Library/Frameworks/Python.framework/Versions/3.10/lib/python3.10/site-packages (from scikit-learn>=0.24.1->scikit-lego->sklego) (3.1.0)\n",
      "Collecting numba>=0.49\n",
      "  Downloading numba-0.55.1-cp310-cp310-macosx_10_14_x86_64.whl (2.3 MB)\n",
      "\u001b[2K     \u001b[90m━━━━━━━━━━━━━━━━━━━━━━━━━━━━━━━━━━━━━━━━\u001b[0m \u001b[32m2.3/2.3 MB\u001b[0m \u001b[31m9.3 MB/s\u001b[0m eta \u001b[36m0:00:00\u001b[0m:00:01\u001b[0m00:01\u001b[0m\n",
      "\u001b[?25hCollecting pynndescent>=0.5\n",
      "  Downloading pynndescent-0.5.6.tar.gz (1.1 MB)\n",
      "\u001b[2K     \u001b[90m━━━━━━━━━━━━━━━━━━━━━━━━━━━━━━━━━━━━━━━━\u001b[0m \u001b[32m1.1/1.1 MB\u001b[0m \u001b[31m6.7 MB/s\u001b[0m eta \u001b[36m0:00:00\u001b[0m:00:01\u001b[0m00:01\u001b[0m\n",
      "\u001b[?25h  Preparing metadata (setup.py) ... \u001b[?25ldone\n",
      "\u001b[?25hCollecting tqdm\n",
      "  Downloading tqdm-4.64.0-py2.py3-none-any.whl (78 kB)\n",
      "\u001b[2K     \u001b[90m━━━━━━━━━━━━━━━━━━━━━━━━━━━━━━━━━━━━━━━━\u001b[0m \u001b[32m78.4/78.4 KB\u001b[0m \u001b[31m4.5 MB/s\u001b[0m eta \u001b[36m0:00:00\u001b[0m\n",
      "\u001b[?25hRequirement already satisfied: setuptools in /Library/Frameworks/Python.framework/Versions/3.10/lib/python3.10/site-packages (from numba>=0.49->umap-learn>=0.4.6->scikit-lego->sklego) (58.1.0)\n",
      "Collecting llvmlite<0.39,>=0.38.0rc1\n",
      "  Downloading llvmlite-0.38.0-cp310-cp310-macosx_10_9_x86_64.whl (25.5 MB)\n",
      "\u001b[2K     \u001b[90m━━━━━━━━━━━━━━━━━━━━━━━━━━━━━━━━━━━━━━━━\u001b[0m \u001b[32m25.5/25.5 MB\u001b[0m \u001b[31m9.5 MB/s\u001b[0m eta \u001b[36m0:00:00\u001b[0m:00:01\u001b[0m00:01\u001b[0m\n",
      "\u001b[?25hCollecting numpy>=1.12\n",
      "  Downloading numpy-1.21.6-cp310-cp310-macosx_10_9_x86_64.whl (17.0 MB)\n",
      "\u001b[2K     \u001b[90m━━━━━━━━━━━━━━━━━━━━━━━━━━━━━━━━━━━━━━━━\u001b[0m \u001b[32m17.0/17.0 MB\u001b[0m \u001b[31m10.7 MB/s\u001b[0m eta \u001b[36m0:00:00\u001b[0m00:01\u001b[0m00:01\u001b[0m\n",
      "\u001b[?25hBuilding wheels for collected packages: umap-learn, future, pynndescent\n",
      "  Building wheel for umap-learn (setup.py) ... \u001b[?25ldone\n",
      "\u001b[?25h  Created wheel for umap-learn: filename=umap_learn-0.5.3-py3-none-any.whl size=82829 sha256=f2a68da3b685e6eee6f4072605a1b90686c4a6c95b52c43cd5535d9f71adbe16\n",
      "  Stored in directory: /Users/alvaringi/Library/Caches/pip/wheels/a0/e8/c6/a37ea663620bd5200ea1ba0907ab3c217042c1d035ef606acc\n",
      "  Building wheel for future (setup.py) ... \u001b[?25ldone\n",
      "\u001b[?25h  Created wheel for future: filename=future-0.18.2-py3-none-any.whl size=491070 sha256=d060195c20af79343e770dea037c76436317b9b474e33a1bb489b229d7b8dbc4\n",
      "  Stored in directory: /Users/alvaringi/Library/Caches/pip/wheels/22/73/06/557dc4f4ef68179b9d763930d6eec26b88ed7c389b19588a1c\n",
      "  Building wheel for pynndescent (setup.py) ... \u001b[?25ldone\n",
      "\u001b[?25h  Created wheel for pynndescent: filename=pynndescent-0.5.6-py3-none-any.whl size=53943 sha256=ed44e23ae8c9d420198b9a7c060c547b838701cc1c4f9bee97a81e233cb574f3\n",
      "  Stored in directory: /Users/alvaringi/Library/Caches/pip/wheels/03/f6/7a/4d3cf002c42b28ecf83431c8b6563c6a4f7f052d8c64e0dc45\n",
      "Successfully built umap-learn future pynndescent\n",
      "Installing collected packages: tqdm, numpy, llvmlite, future, Deprecated, patsy, numba, autograd, pynndescent, umap-learn, scikit-lego, sklego\n",
      "  Attempting uninstall: numpy\n",
      "    Found existing installation: numpy 1.22.3\n",
      "    Uninstalling numpy-1.22.3:\n",
      "      Successfully uninstalled numpy-1.22.3\n",
      "Successfully installed Deprecated-1.2.13 autograd-1.4 future-0.18.2 llvmlite-0.38.0 numba-0.55.1 numpy-1.21.6 patsy-0.5.2 pynndescent-0.5.6 scikit-lego-0.6.11 sklego-0.0 tqdm-4.64.0 umap-learn-0.5.3\n"
     ]
    }
   ],
   "source": [
    "# installations that might be needed to run this notebook\n",
    "\n",
    "# !pip3 install sklego\n",
    "# !pip3 install cvxpy\n",
    "# !pip3 install tensorflow\n",
    "# !pip3 install seaborn\n",
    "# !pip3 install sklearn"
   ]
  },
  {
   "cell_type": "markdown",
   "metadata": {},
   "source": [
    "## Load the data\n",
    "\n",
    "We first need to load the data from the ProPublica repo:\n",
    "https://github.com/propublica/compas-analysis\n"
   ]
  },
  {
   "cell_type": "code",
   "execution_count": 3,
   "metadata": {},
   "outputs": [
    {
     "name": "stdout",
     "output_type": "stream",
     "text": [
      "Looking for file '%s' in the current directory... compas-scores-two-years.csv\n",
      "File found in current directory..\n"
     ]
    }
   ],
   "source": [
    "import urllib\n",
    "import os,sys\n",
    "import numpy as np\n",
    "import pandas as pd\n",
    "import matplotlib.pyplot as plt\n",
    "import seaborn as sns\n",
    "from sklearn import feature_extraction\n",
    "from sklearn import preprocessing\n",
    "from sklearn.metrics import accuracy_score,confusion_matrix\n",
    "\n",
    "from random import seed, shuffle\n",
    "#from __future__ import division\n",
    "#from collections import defaultdict\n",
    "#import utils as ut\n",
    "\n",
    "SEED = 1234\n",
    "seed(SEED)\n",
    "np.random.seed(SEED)\n",
    "pd.set_option('display.max_columns', None)\n",
    "def check_data_file(fname):\n",
    "    files = os.listdir(\".\") # get the current directory listing\n",
    "    print(\"Looking for file '%s' in the current directory...\",fname)\n",
    "\n",
    "    if fname not in files:\n",
    "        print(\"'%s' not found! Downloading from GitHub...\",fname)\n",
    "        addr = \"https://raw.githubusercontent.com/propublica/compas-analysis/master/compas-scores-two-years.csv\"\n",
    "        response = urllib.request.urlopen(addr)\n",
    "        data = response.read()\n",
    "        fileOut = open(fname, \"wb\")\n",
    "        fileOut.write(data)\n",
    "        fileOut.close()\n",
    "        print(\"'%s' download and saved locally..\",fname)\n",
    "    else:\n",
    "        print(\"File found in current directory..\")\n",
    "    \n",
    "COMPAS_INPUT_FILE = \"compas-scores-two-years.csv\"\n",
    "check_data_file(COMPAS_INPUT_FILE)  \n",
    "\n",
    "df = pd.read_csv(COMPAS_INPUT_FILE)"
   ]
  },
  {
   "cell_type": "markdown",
   "metadata": {},
   "source": [
    "# Part 1: Analysis of the dataset and its biases\n",
    "\n",
    "- **The dataset contains data on how many convicts?** "
   ]
  },
  {
   "cell_type": "code",
   "execution_count": null,
   "metadata": {},
   "outputs": [],
   "source": [
    "print(\"There are \", df.shape[0], \"samples in the dataset.\")"
   ]
  },
  {
   "cell_type": "markdown",
   "metadata": {},
   "source": [
    "- **What are the features the dataset contains?**"
   ]
  },
  {
   "cell_type": "code",
   "execution_count": null,
   "metadata": {},
   "outputs": [],
   "source": [
    "df.head()"
   ]
  },
  {
   "cell_type": "markdown",
   "metadata": {},
   "source": [
    "- **Are there missing values (NaN)? are there outliers?** "
   ]
  },
  {
   "cell_type": "markdown",
   "metadata": {},
   "source": [
    "- **Does ProPublica mentions how to clean the data?** \n",
    "\n",
    "Yes, in the article \"How We Analyzed the COMPAS Recidivism Algorithm\" (https://www.propublica.org/article/how-we-analyzed-the-compas-recidivism-algorithm) ProPublica describes how they cleaned the data. One part of their cleaning was done through the function which is described below.\n",
    "\n",
    "Furthermore the ProPublica article \"Machine Bias Risk Assessments in Crinimal Sentencing\"(https://www.propublica.org/article/machine-bias-risk-assessments-in-criminal-sentencing) discusses what features that should and should not be used for predicting recidivism. Brennan who represents Northpointe that is behind the COMPAS assessment sais that removing all featuers that are in someway correlated to race would give a very low accuracy. There will always be a tradeoff between fairness and accuracy. "
   ]
  },
  {
   "cell_type": "markdown",
   "metadata": {},
   "source": [
    "- **What is the effect of the following function?**"
   ]
  },
  {
   "cell_type": "code",
   "execution_count": 25,
   "metadata": {},
   "outputs": [
    {
     "name": "stdout",
     "output_type": "stream",
     "text": [
      "(7214, 53)\n"
     ]
    }
   ],
   "source": [
    "print(df.shape)\n",
    "df = df.dropna(subset=[\"days_b_screening_arrest\"]) # dropping missing vals\n",
    "df = df[\n",
    "    (df.days_b_screening_arrest <= 30) &  \n",
    "    (df.days_b_screening_arrest >= -30) &  \n",
    "    (df.is_recid != -1) &\n",
    "    (df.c_charge_degree != 'O') &\n",
    "    (df.score_text != 'N/A')\n",
    "]\n",
    "df.reset_index(inplace=True, drop=True) # renumber the rows from 0 again"
   ]
  },
  {
   "cell_type": "markdown",
   "metadata": {},
   "source": [
    "**Comment**: It first removes all rows in the dataset that have no value for the feature \"days before screening arrest\". The we drop rows where the charge date of a defendants Compas scored crime was not within 30 days from when the person was arrested because maybe they don't have the right offense. If there's no compas case, the column \"is_recid\" is marked as -1 so we can also drop these rows. Offenses with a charge degree of 'O' won't result in jail time so we will also not consider the rows with this value. Then we also drop the rows in which the column \"score_text\" has the value 'N/A'."
   ]
  },
  {
   "cell_type": "markdown",
   "metadata": {},
   "source": [
    "## Basic analysis of demographics\n",
    "\n",
    "- **What are the different races present in the dataset?** "
   ]
  },
  {
   "cell_type": "code",
   "execution_count": null,
   "metadata": {},
   "outputs": [],
   "source": [
    "df[\"race\"].unique().tolist()"
   ]
  },
  {
   "cell_type": "markdown",
   "metadata": {},
   "source": [
    "- **What is the number of people by age category?**"
   ]
  },
  {
   "cell_type": "code",
   "execution_count": null,
   "metadata": {},
   "outputs": [],
   "source": [
    "age_cat_names = list(df[\"age_cat\"].unique().tolist())\n",
    "age_cat_size = list(df.groupby([\"age_cat\"], sort=False).size())\n",
    "plt.bar(age_cat_names, age_cat_size)\n",
    "plt.title(\"Number of people per age category\")\n",
    "plt.show()"
   ]
  },
  {
   "cell_type": "markdown",
   "metadata": {},
   "source": [
    "**Comment**: There is a majority of people in the dataset are between 25 and 45 years old."
   ]
  },
  {
   "cell_type": "markdown",
   "metadata": {},
   "source": [
    "- **What is the number of people by COMPAS score (decile_score)?**"
   ]
  },
  {
   "cell_type": "code",
   "execution_count": null,
   "metadata": {},
   "outputs": [],
   "source": [
    "decile_score_names = list(df[\"decile_score\"].unique().tolist())\n",
    "decile_score_size = list(df.groupby(\"decile_score\", sort=False).size())\n",
    "plt.bar(decile_score_names, decile_score_size)\n",
    "plt.title(\"Number of people per COMPAS score\")\n",
    "plt.show()"
   ]
  },
  {
   "cell_type": "markdown",
   "metadata": {},
   "source": [
    "**Comment**: The by far most common score is 1. The higher score, the less common."
   ]
  },
  {
   "cell_type": "markdown",
   "metadata": {},
   "source": [
    "- **What is the number of people by COMPAS risk category (score_text)?**"
   ]
  },
  {
   "cell_type": "code",
   "execution_count": null,
   "metadata": {},
   "outputs": [],
   "source": [
    "score_text_names = list(df[\"score_text\"].unique().tolist())\n",
    "score_text_size = list(df.groupby(\"score_text\", sort=False).size())\n",
    "plt.bar(score_text_names, score_text_size)\n",
    "plt.title(\"Number of people per COMPAS risk category\")\n",
    "plt.show()"
   ]
  },
  {
   "cell_type": "markdown",
   "metadata": {},
   "source": [
    "**Comment**: The by far most common class is \"low score\", followed by \"medium\" and \"high\". This follows well the distribution of the numerical scores observed in the plot above."
   ]
  },
  {
   "cell_type": "markdown",
   "metadata": {},
   "source": [
    "- **What is the number of people by race?**"
   ]
  },
  {
   "cell_type": "code",
   "execution_count": null,
   "metadata": {},
   "outputs": [],
   "source": [
    "race_names = list(df[\"race\"].unique().tolist())\n",
    "race_size = list(df.groupby(\"race\", sort=False).size())\n",
    "plt.bar(race_names, race_size)\n",
    "plt.xticks(rotation=20)\n",
    "plt.title(\"Number of people per race\")\n",
    "plt.show()"
   ]
  },
  {
   "cell_type": "markdown",
   "metadata": {},
   "source": [
    "**Comment**: There are very few Native American and Asian people in this dataset. We do not think there are enough people in these groups to have an unbiased estimator for them. For this reason, we will remove the categories \"Native American\" and \"Asian\" and place these samples in the category \"Other\"."
   ]
  },
  {
   "cell_type": "code",
   "execution_count": null,
   "metadata": {},
   "outputs": [],
   "source": [
    "df.loc[(df.race == 'Asian'),'race']='Other'\n",
    "df.loc[(df.race == 'Native American'),'race']='Other'"
   ]
  },
  {
   "cell_type": "markdown",
   "metadata": {},
   "source": [
    "## Basic investigations of gender and race bias in COMPAS scores"
   ]
  },
  {
   "cell_type": "markdown",
   "metadata": {},
   "source": [
    "- **What is the mean COMPAS score (decile_score) per race and gender?** "
   ]
  },
  {
   "cell_type": "code",
   "execution_count": null,
   "metadata": {},
   "outputs": [],
   "source": [
    "# mean score per race\n",
    "race_names = list(df[\"race\"].unique().tolist())\n",
    "race_score_mean = list(df.groupby([\"race\"], sort=False).mean()[\"decile_score\"])\n",
    "plt.bar(race_names, race_score_mean)\n",
    "plt.title(\"Mean COMPAS score per race\")\n",
    "plt.show()\n",
    "\n",
    "# mean score per gender\n",
    "sex_names = list(df[\"sex\"].unique().tolist())\n",
    "sex_score_mean = list(df.groupby([\"sex\"], sort=False).mean()[\"decile_score\"])\n",
    "plt.bar(sex_names, sex_score_mean)\n",
    "plt.title(\"Mean COMPAS score per gender\")\n",
    "plt.show()"
   ]
  },
  {
   "cell_type": "markdown",
   "metadata": {},
   "source": [
    "**Comment**: The mean score is the highest for the race group \"African-American\". For men and women, the mean score is similar which indicates that there are not much bias based on gender."
   ]
  },
  {
   "cell_type": "markdown",
   "metadata": {},
   "source": [
    "- **What is the distribution (histogram) of decile_score per race and gender?**"
   ]
  },
  {
   "cell_type": "code",
   "execution_count": null,
   "metadata": {},
   "outputs": [],
   "source": [
    "# decile score per race\n",
    "df.hist(column='decile_score', by=[\"race\"],figsize = (9,7));\n",
    "plt.show()\n",
    "\n",
    "# decile score per gender\n",
    "df.hist(column='decile_score', by=[\"sex\"],figsize = (9,3));\n",
    "plt.show()"
   ]
  },
  {
   "cell_type": "markdown",
   "metadata": {},
   "source": [
    "**Comment**: For the African American people the histogram distribution on this race is more evenly distributed when compared to the other races histograms (we can observe a higher percentage of higher scores in the African American race). For the other races we can see that the histogram is more squewed to lower values.\n",
    "\n",
    "Comparing men and women, we see that the decile score distribution is similar for the two genders."
   ]
  },
  {
   "cell_type": "markdown",
   "metadata": {},
   "source": [
    "- **How many people were re-arrested?** "
   ]
  },
  {
   "cell_type": "code",
   "execution_count": 2,
   "metadata": {},
   "outputs": [
    {
     "ename": "NameError",
     "evalue": "name 'df' is not defined",
     "output_type": "error",
     "traceback": [
      "\u001b[0;31m---------------------------------------------------------------------------\u001b[0m",
      "\u001b[0;31mNameError\u001b[0m                                 Traceback (most recent call last)",
      "Input \u001b[0;32mIn [2]\u001b[0m, in \u001b[0;36m<cell line: 1>\u001b[0;34m()\u001b[0m\n\u001b[0;32m----> 1\u001b[0m rearrested \u001b[38;5;241m=\u001b[39m \u001b[43mdf\u001b[49m[df[\u001b[38;5;124m\"\u001b[39m\u001b[38;5;124mtwo_year_recid\u001b[39m\u001b[38;5;124m\"\u001b[39m]\u001b[38;5;241m==\u001b[39m\u001b[38;5;241m1\u001b[39m]\n\u001b[1;32m      2\u001b[0m \u001b[38;5;28mprint\u001b[39m(\u001b[38;5;124m\"\u001b[39m\u001b[38;5;124mNumber of Re-arrests:\u001b[39m\u001b[38;5;124m\"\u001b[39m, \u001b[38;5;28mlen\u001b[39m(rearrested\u001b[38;5;241m.\u001b[39mindex))\n",
      "\u001b[0;31mNameError\u001b[0m: name 'df' is not defined"
     ]
    }
   ],
   "source": [
    "rearrested = df[df[\"two_year_recid\"]==1]\n",
    "print(\"Number of Re-arrests:\", len(rearrested.index))"
   ]
  },
  {
   "cell_type": "markdown",
   "metadata": {},
   "source": [
    "- **Compute the recidivism (i.e., people that got re-arrested) rates by race and gender**"
   ]
  },
  {
   "cell_type": "code",
   "execution_count": null,
   "metadata": {},
   "outputs": [],
   "source": [
    "# calculate number of re-arrested people as well as total number of people per race\n",
    "races_names = list(df[\"race\"].unique().tolist())\n",
    "race_nr_ra = list(df.loc[(df['two_year_recid'] == 0)].groupby([\"race\"], sort=False).size())\n",
    "race_nr = list(df.groupby([\"race\"], sort=False).size())\n",
    "\n",
    "# calculate ratios per race\n",
    "race_ra_rate = []\n",
    "for i in range(len(races_names)):\n",
    "    race_ra_rate.append(1-(race_nr_ra[i] / race_nr[i]))\n",
    "\n",
    "# plot result\n",
    "plt.bar(race_names, race_ra_rate)\n",
    "plt.title(\"Recidivism rate per race\")\n",
    "plt.show()\n",
    "\n",
    "# calculate number of re-arrested people as well as total number of people per gender\n",
    "sex_names = list(df[\"sex\"].unique().tolist())\n",
    "sex_nr_ra = list(df.loc[(df['two_year_recid'] == 0)].groupby([\"sex\"], sort=False).size())\n",
    "sex_nr = list(df.groupby([\"sex\"], sort=False).size())\n",
    "\n",
    "# calculate ratios per gender\n",
    "sex_ra_rate = []\n",
    "for i in range(len(sex_names)):\n",
    "    sex_ra_rate.append(1-(sex_nr_ra[i] / sex_nr[i]))\n",
    "\n",
    "# plot result    \n",
    "plt.bar(sex_names, sex_ra_rate)\n",
    "plt.title(\"Recidivism rate per sex\")\n",
    "plt.show()"
   ]
  },
  {
   "cell_type": "markdown",
   "metadata": {},
   "source": [
    "**Comment**: The recidivism rate is higher for African-Americans compared to the other races. This indicates that the dataset itself is bias. With a bias dataset, classifiers will learn these patterns and, in this case, give higher decile scores to African-Americans which is seen above, e.g. in the histogram. \n",
    "\n",
    "Comparing genders, the recidivism rate is higher for men than women. This is not as clearly reflected in the decile scores as in the case with race. The mean decile score for men and women is more equal than the recidivism rate in the dataset."
   ]
  },
  {
   "cell_type": "code",
   "execution_count": 27,
   "metadata": {},
   "outputs": [
    {
     "name": "stderr",
     "output_type": "stream",
     "text": [
      "/var/folders/pw/jjnmx4s55hg56b5d2ng8cql00000gn/T/ipykernel_87385/368411507.py:9: SettingWithCopyWarning: \n",
      "A value is trying to be set on a copy of a slice from a DataFrame.\n",
      "Try using .loc[row_indexer,col_indexer] = value instead\n",
      "\n",
      "See the caveats in the documentation: https://pandas.pydata.org/pandas-docs/stable/user_guide/indexing.html#returning-a-view-versus-a-copy\n",
      "  dfr['pred_is_recid'] = dfr.apply (lambda row: is_recid(row), axis=1)\n"
     ]
    },
    {
     "data": {
      "text/html": [
       "<div>\n",
       "<style scoped>\n",
       "    .dataframe tbody tr th:only-of-type {\n",
       "        vertical-align: middle;\n",
       "    }\n",
       "\n",
       "    .dataframe tbody tr th {\n",
       "        vertical-align: top;\n",
       "    }\n",
       "\n",
       "    .dataframe thead th {\n",
       "        text-align: right;\n",
       "    }\n",
       "</style>\n",
       "<table border=\"1\" class=\"dataframe\">\n",
       "  <thead>\n",
       "    <tr style=\"text-align: right;\">\n",
       "      <th></th>\n",
       "      <th>decile_score</th>\n",
       "      <th>two_year_recid</th>\n",
       "      <th>sex</th>\n",
       "      <th>race</th>\n",
       "      <th>pred_is_recid</th>\n",
       "    </tr>\n",
       "  </thead>\n",
       "  <tbody>\n",
       "    <tr>\n",
       "      <th>0</th>\n",
       "      <td>1</td>\n",
       "      <td>0</td>\n",
       "      <td>Male</td>\n",
       "      <td>Other</td>\n",
       "      <td>0</td>\n",
       "    </tr>\n",
       "    <tr>\n",
       "      <th>1</th>\n",
       "      <td>3</td>\n",
       "      <td>1</td>\n",
       "      <td>Male</td>\n",
       "      <td>African-American</td>\n",
       "      <td>0</td>\n",
       "    </tr>\n",
       "    <tr>\n",
       "      <th>2</th>\n",
       "      <td>4</td>\n",
       "      <td>1</td>\n",
       "      <td>Male</td>\n",
       "      <td>African-American</td>\n",
       "      <td>0</td>\n",
       "    </tr>\n",
       "    <tr>\n",
       "      <th>3</th>\n",
       "      <td>1</td>\n",
       "      <td>0</td>\n",
       "      <td>Male</td>\n",
       "      <td>Other</td>\n",
       "      <td>0</td>\n",
       "    </tr>\n",
       "    <tr>\n",
       "      <th>4</th>\n",
       "      <td>6</td>\n",
       "      <td>1</td>\n",
       "      <td>Male</td>\n",
       "      <td>Caucasian</td>\n",
       "      <td>1</td>\n",
       "    </tr>\n",
       "  </tbody>\n",
       "</table>\n",
       "</div>"
      ],
      "text/plain": [
       "   decile_score  two_year_recid   sex              race  pred_is_recid\n",
       "0             1               0  Male             Other              0\n",
       "1             3               1  Male  African-American              0\n",
       "2             4               1  Male  African-American              0\n",
       "3             1               0  Male             Other              0\n",
       "4             6               1  Male         Caucasian              1"
      ]
     },
     "execution_count": 27,
     "metadata": {},
     "output_type": "execute_result"
    }
   ],
   "source": [
    "dfr = df[[\"decile_score\",\"two_year_recid\",\"sex\",\"race\"]]\n",
    "\n",
    "def is_recid(row):\n",
    "    if(row[\"decile_score\"] >= 5):\n",
    "        return 1\n",
    "    else:\n",
    "        return 0\n",
    "    \n",
    "dfr['pred_is_recid'] = dfr.apply (lambda row: is_recid(row), axis=1)\n",
    "dfr.head()\n"
   ]
  },
  {
   "cell_type": "markdown",
   "metadata": {},
   "source": [
    "**Comment**: We consider any decile scores equal or above 5 to be a positive recidivism prediction since the decile score goes from 1 to 10."
   ]
  },
  {
   "cell_type": "markdown",
   "metadata": {},
   "source": [
    "- **What is the accuracy of the COMPAS scores to predict recidivism**"
   ]
  },
  {
   "cell_type": "code",
   "execution_count": null,
   "metadata": {},
   "outputs": [],
   "source": [
    "accuracy_score(dfr[\"two_year_recid\"], dfr[\"pred_is_recid\"])"
   ]
  },
  {
   "cell_type": "markdown",
   "metadata": {},
   "source": [
    "- **Is the accuracy higher/lower if we look at particular races/genders?**"
   ]
  },
  {
   "cell_type": "code",
   "execution_count": null,
   "metadata": {},
   "outputs": [],
   "source": [
    "races = df[\"race\"].unique().tolist()\n",
    "genders = [\"Male\",\"Female\"]\n",
    "for race in races:\n",
    "    aux_df = dfr.loc[dfr['race'] == race]\n",
    "    acc = accuracy_score(aux_df[\"two_year_recid\"], aux_df[\"pred_is_recid\"])\n",
    "    print(\"Accuracy for {race} is {acc}\".format(race = race, acc = acc))\n",
    "\n",
    "for sex in genders:\n",
    "    aux_df = dfr.loc[dfr['sex'] == sex]\n",
    "    acc = accuracy_score(aux_df[\"two_year_recid\"], aux_df[\"pred_is_recid\"])\n",
    "    print(\"Accuracy for {sex} is {acc}\".format(sex = sex, acc = acc))"
   ]
  },
  {
   "cell_type": "markdown",
   "metadata": {},
   "source": [
    "**Comment**: The accuracy seems to be lower for African-Americans than for any other race, which might indicate the existence of some bias. As for gender, both accuracies are extremely similar."
   ]
  },
  {
   "cell_type": "markdown",
   "metadata": {},
   "source": [
    "- **What about false positives and false negatives?**"
   ]
  },
  {
   "cell_type": "code",
   "execution_count": 23,
   "metadata": {},
   "outputs": [],
   "source": [
    "def makeCM (dfr,label):\n",
    "    cf_matrix = confusion_matrix(dfr[\"two_year_recid\"], dfr[\"pred_is_recid\"])\n",
    "\n",
    "    group_names = ['True Neg','False Pos','False Neg','True Pos']\n",
    "\n",
    "    group_counts = [\"{0:0.0f}\".format(value) for value in\n",
    "                    cf_matrix.flatten()]\n",
    "\n",
    "    group_percentages = [\"{0:.2%}\".format(value) for value in\n",
    "                         cf_matrix.flatten()/np.sum(cf_matrix)]\n",
    "\n",
    "    labels = [f\"{v1}\\n{v2}\\n{v3}\" for v1, v2, v3 in\n",
    "              zip(group_names,group_counts,group_percentages)]\n",
    "\n",
    "    labels = np.asarray(labels).reshape(2,2)\n",
    "\n",
    "    ax = sns.heatmap(cf_matrix, annot=labels, fmt='', cmap='Blues')\n",
    "\n",
    "    ax.set_title('Confusion Matrix for ' + label);\n",
    "    ax.set_xlabel('\\nPredicted Values')\n",
    "    ax.set_ylabel('Actual Values ');\n",
    "\n",
    "    ## Ticket labels - List must be in alphabetical order\n",
    "    ax.xaxis.set_ticklabels(['False','True'])\n",
    "    ax.yaxis.set_ticklabels(['False','True'])\n",
    "\n",
    "    ## Display the visualization of the Confusion Matrix.\n",
    "    plt.show()"
   ]
  },
  {
   "cell_type": "code",
   "execution_count": 28,
   "metadata": {},
   "outputs": [
    {
     "data": {
      "image/png": "[encoded data removed]",
      "text/plain": [
       "<Figure size 432x288 with 2 Axes>"
      ]
     },
     "metadata": {
      "needs_background": "light"
     },
     "output_type": "display_data"
    },
    {
     "data": {
      "image/png": "[encoded data removed]",
      "text/plain": [
       "<Figure size 432x288 with 2 Axes>"
      ]
     },
     "metadata": {
      "needs_background": "light"
     },
     "output_type": "display_data"
    },
    {
     "data": {
      "image/png": "[encoded data removed]",
      "text/plain": [
       "<Figure size 432x288 with 2 Axes>"
      ]
     },
     "metadata": {
      "needs_background": "light"
     },
     "output_type": "display_data"
    },
    {
     "data": {
      "image/png": "[encoded data removed]",
      "text/plain": [
       "<Figure size 432x288 with 2 Axes>"
      ]
     },
     "metadata": {
      "needs_background": "light"
     },
     "output_type": "display_data"
    },
    {
     "data": {
      "image/png": "[encoded data removed]",
      "text/plain": [
       "<Figure size 432x288 with 2 Axes>"
      ]
     },
     "metadata": {
      "needs_background": "light"
     },
     "output_type": "display_data"
    },
    {
     "data": {
      "image/png": "[encoded data removed]",
      "text/plain": [
       "<Figure size 432x288 with 2 Axes>"
      ]
     },
     "metadata": {
      "needs_background": "light"
     },
     "output_type": "display_data"
    },
    {
     "data": {
      "image/png": "[encoded data removed]",
      "text/plain": [
       "<Figure size 432x288 with 2 Axes>"
      ]
     },
     "metadata": {
      "needs_background": "light"
     },
     "output_type": "display_data"
    },
    {
     "data": {
      "image/png": "[encoded data removed]",
      "text/plain": [
       "<Figure size 432x288 with 2 Axes>"
      ]
     },
     "metadata": {
      "needs_background": "light"
     },
     "output_type": "display_data"
    }
   ],
   "source": [
    "races = df[\"race\"].unique().tolist()\n",
    "genders = [\"Male\",\"Female\"]\n",
    "for race in races:\n",
    "    aux_df = dfr.loc[dfr['race'] == race]\n",
    "    makeCM(aux_df,race)  \n",
    "\n",
    "for sex in genders:\n",
    "    aux_df = dfr.loc[dfr['sex'] == sex]\n",
    "    makeCM(aux_df,sex)"
   ]
  },
  {
   "cell_type": "markdown",
   "metadata": {},
   "source": [
    "**Comment**: From the confusion matrices we can see that the false positive rate is highest among African-Americans indicating that there's a bias against them. The opposite can be found for the other races. The False Negatives is then lower for African-Americans than for other races meaning that the model does a bad job at identifying people that will recomit a crime if they are not African-American.\n",
    "\n",
    "Comparing the confusion matricies for men and women we can see that the false positive rate is higher for women and for men, which means that women that are predicted to recidivate are more likely to not recidivate than men that are predicted to recidivate. Furthermore, the false negative rate is lower for women than men women. This means that women that are predicted to not recidivate do recidivate in a less extent than men that are predicted to recidivate. This indicates that there is a bias against women. \n",
    "\n",
    "For the following parts of this project we will focus on the biases regarding race and not gender. Analyzing more than one sensitive class makes the analysis more complex which we feel that we do not have time for within the scope of this project. "
   ]
  },
  {
   "cell_type": "markdown",
   "metadata": {},
   "source": [
    "# Choosing Features"
   ]
  },
  {
   "cell_type": "markdown",
   "metadata": {},
   "source": [
    "**Comment**: Below we choose what features to use when training our algorithms. We have chosen to use:\n",
    "- **Sex**: Female, male\n",
    "- **Age category**: (<25, 25-45, >45 years) \n",
    "- **Charge degree**: Misdemeanors, felony\n",
    "- **Race**: African american, caucasian, hispanic and others (including asian and native american since we have too little data to analyze these races independently)\n",
    "- **Priors count**: Number of earlier crimes\n",
    "- **Juvenile mesdemeanor count**: Number of juvenile crimes, misdemeanors\n",
    "- **Juvenile felony count**: Number of juvenile crimes, felonies\n",
    "- **Juvenile other count**: Number of juvenile crimes, neither misdemanors nor felonies\n",
    "- **Two years recid**: Ground truth\n",
    "\n",
    "Features like e.g. names and dates are not being used since we do not consider them interesting for the prediction. \n",
    "\n",
    "We also make all features numerical (using the function \"OneHotEncoder\") since some algorithms for classifying can only handle numerical data. "
   ]
  },
  {
   "cell_type": "code",
   "execution_count": 4,
   "metadata": {},
   "outputs": [],
   "source": [
    "# choose features\n",
    "dfa = df[[\"sex\",\"age_cat\",\"race\",\"priors_count\",\"two_year_recid\",\"juv_misd_count\",\"juv_fel_count\",\"juv_other_count\",\"c_charge_degree\"]]"
   ]
  },
  {
   "cell_type": "code",
   "execution_count": 5,
   "metadata": {},
   "outputs": [],
   "source": [
    "# merge race groups \"asian\" and \"native american\" with \"other\"\n",
    "dfa.loc[(df.race == 'Asian'),'race']='Other'\n",
    "dfa.loc[(df.race == 'Native American'),'race']='Other'"
   ]
  },
  {
   "cell_type": "code",
   "execution_count": 6,
   "metadata": {},
   "outputs": [],
   "source": [
    "# make non-numerical features numerical\n",
    "from sklearn.preprocessing import OneHotEncoder\n",
    "from sklearn.compose import make_column_transformer\n",
    "column_trans = make_column_transformer(\n",
    "    (OneHotEncoder(), ['sex', 'age_cat',\"c_charge_degree\",\"race\"]),\n",
    "    remainder='passthrough')\n",
    "d = column_trans.fit_transform(dfa)"
   ]
  },
  {
   "cell_type": "code",
   "execution_count": 7,
   "metadata": {},
   "outputs": [],
   "source": [
    "# clean labels\n",
    "labels = column_trans.get_feature_names_out()\n",
    "\n",
    "def cleanLabels(label):\n",
    "    if(\"onehotencoder__\" in label):\n",
    "        return label.removeprefix(\"onehotencoder__\")\n",
    "    else:\n",
    "        return label.removeprefix(\"remainder__\")\n",
    "cleanedLabels = map(cleanLabels,labels)\n",
    "listedLabels = list(map(cleanLabels,labels))"
   ]
  },
  {
   "cell_type": "code",
   "execution_count": 8,
   "metadata": {
    "scrolled": true
   },
   "outputs": [],
   "source": [
    "# create new dataframe with only numerical data\n",
    "df_cleaned = pd.DataFrame(data=d,columns=cleanedLabels)"
   ]
  },
  {
   "cell_type": "code",
   "execution_count": 9,
   "metadata": {},
   "outputs": [
    {
     "data": {
      "text/html": [
       "<div>\n",
       "<style scoped>\n",
       "    .dataframe tbody tr th:only-of-type {\n",
       "        vertical-align: middle;\n",
       "    }\n",
       "\n",
       "    .dataframe tbody tr th {\n",
       "        vertical-align: top;\n",
       "    }\n",
       "\n",
       "    .dataframe thead th {\n",
       "        text-align: right;\n",
       "    }\n",
       "</style>\n",
       "<table border=\"1\" class=\"dataframe\">\n",
       "  <thead>\n",
       "    <tr style=\"text-align: right;\">\n",
       "      <th></th>\n",
       "      <th>sex_Female</th>\n",
       "      <th>sex_Male</th>\n",
       "      <th>age_cat_25 - 45</th>\n",
       "      <th>age_cat_Greater than 45</th>\n",
       "      <th>age_cat_Less than 25</th>\n",
       "      <th>c_charge_degree_F</th>\n",
       "      <th>c_charge_degree_M</th>\n",
       "      <th>race_African-American</th>\n",
       "      <th>race_Caucasian</th>\n",
       "      <th>race_Hispanic</th>\n",
       "      <th>race_Other</th>\n",
       "      <th>priors_count</th>\n",
       "      <th>two_year_recid</th>\n",
       "      <th>juv_misd_count</th>\n",
       "      <th>juv_fel_count</th>\n",
       "      <th>juv_other_count</th>\n",
       "      <th>priors_count</th>\n",
       "      <th>juv_misd_count</th>\n",
       "      <th>juv_fel_count</th>\n",
       "      <th>juv_other_count</th>\n",
       "    </tr>\n",
       "  </thead>\n",
       "  <tbody>\n",
       "    <tr>\n",
       "      <th>0</th>\n",
       "      <td>0.0</td>\n",
       "      <td>1.0</td>\n",
       "      <td>0.0</td>\n",
       "      <td>1.0</td>\n",
       "      <td>0.0</td>\n",
       "      <td>1.0</td>\n",
       "      <td>0.0</td>\n",
       "      <td>0.0</td>\n",
       "      <td>0.0</td>\n",
       "      <td>0.0</td>\n",
       "      <td>1.0</td>\n",
       "      <td>0.0</td>\n",
       "      <td>0.0</td>\n",
       "      <td>0.0</td>\n",
       "      <td>0.0</td>\n",
       "      <td>0.0</td>\n",
       "      <td>-0.711240</td>\n",
       "      <td>-0.187414</td>\n",
       "      <td>-0.141855</td>\n",
       "      <td>-0.218065</td>\n",
       "    </tr>\n",
       "    <tr>\n",
       "      <th>1</th>\n",
       "      <td>0.0</td>\n",
       "      <td>1.0</td>\n",
       "      <td>1.0</td>\n",
       "      <td>0.0</td>\n",
       "      <td>0.0</td>\n",
       "      <td>1.0</td>\n",
       "      <td>0.0</td>\n",
       "      <td>1.0</td>\n",
       "      <td>0.0</td>\n",
       "      <td>0.0</td>\n",
       "      <td>0.0</td>\n",
       "      <td>0.0</td>\n",
       "      <td>1.0</td>\n",
       "      <td>0.0</td>\n",
       "      <td>0.0</td>\n",
       "      <td>0.0</td>\n",
       "      <td>-0.711240</td>\n",
       "      <td>-0.187414</td>\n",
       "      <td>-0.141855</td>\n",
       "      <td>-0.218065</td>\n",
       "    </tr>\n",
       "    <tr>\n",
       "      <th>2</th>\n",
       "      <td>0.0</td>\n",
       "      <td>1.0</td>\n",
       "      <td>0.0</td>\n",
       "      <td>0.0</td>\n",
       "      <td>1.0</td>\n",
       "      <td>1.0</td>\n",
       "      <td>0.0</td>\n",
       "      <td>1.0</td>\n",
       "      <td>0.0</td>\n",
       "      <td>0.0</td>\n",
       "      <td>0.0</td>\n",
       "      <td>4.0</td>\n",
       "      <td>1.0</td>\n",
       "      <td>0.0</td>\n",
       "      <td>0.0</td>\n",
       "      <td>1.0</td>\n",
       "      <td>0.108063</td>\n",
       "      <td>-0.187414</td>\n",
       "      <td>-0.141855</td>\n",
       "      <td>1.775750</td>\n",
       "    </tr>\n",
       "    <tr>\n",
       "      <th>3</th>\n",
       "      <td>0.0</td>\n",
       "      <td>1.0</td>\n",
       "      <td>0.0</td>\n",
       "      <td>0.0</td>\n",
       "      <td>1.0</td>\n",
       "      <td>1.0</td>\n",
       "      <td>0.0</td>\n",
       "      <td>1.0</td>\n",
       "      <td>0.0</td>\n",
       "      <td>0.0</td>\n",
       "      <td>0.0</td>\n",
       "      <td>1.0</td>\n",
       "      <td>0.0</td>\n",
       "      <td>1.0</td>\n",
       "      <td>0.0</td>\n",
       "      <td>0.0</td>\n",
       "      <td>-0.506414</td>\n",
       "      <td>1.873571</td>\n",
       "      <td>-0.141855</td>\n",
       "      <td>-0.218065</td>\n",
       "    </tr>\n",
       "    <tr>\n",
       "      <th>4</th>\n",
       "      <td>0.0</td>\n",
       "      <td>1.0</td>\n",
       "      <td>1.0</td>\n",
       "      <td>0.0</td>\n",
       "      <td>0.0</td>\n",
       "      <td>1.0</td>\n",
       "      <td>0.0</td>\n",
       "      <td>0.0</td>\n",
       "      <td>0.0</td>\n",
       "      <td>0.0</td>\n",
       "      <td>1.0</td>\n",
       "      <td>2.0</td>\n",
       "      <td>0.0</td>\n",
       "      <td>0.0</td>\n",
       "      <td>0.0</td>\n",
       "      <td>0.0</td>\n",
       "      <td>-0.301588</td>\n",
       "      <td>-0.187414</td>\n",
       "      <td>-0.141855</td>\n",
       "      <td>-0.218065</td>\n",
       "    </tr>\n",
       "    <tr>\n",
       "      <th>...</th>\n",
       "      <td>...</td>\n",
       "      <td>...</td>\n",
       "      <td>...</td>\n",
       "      <td>...</td>\n",
       "      <td>...</td>\n",
       "      <td>...</td>\n",
       "      <td>...</td>\n",
       "      <td>...</td>\n",
       "      <td>...</td>\n",
       "      <td>...</td>\n",
       "      <td>...</td>\n",
       "      <td>...</td>\n",
       "      <td>...</td>\n",
       "      <td>...</td>\n",
       "      <td>...</td>\n",
       "      <td>...</td>\n",
       "      <td>...</td>\n",
       "      <td>...</td>\n",
       "      <td>...</td>\n",
       "      <td>...</td>\n",
       "    </tr>\n",
       "    <tr>\n",
       "      <th>7209</th>\n",
       "      <td>0.0</td>\n",
       "      <td>1.0</td>\n",
       "      <td>0.0</td>\n",
       "      <td>0.0</td>\n",
       "      <td>1.0</td>\n",
       "      <td>1.0</td>\n",
       "      <td>0.0</td>\n",
       "      <td>1.0</td>\n",
       "      <td>0.0</td>\n",
       "      <td>0.0</td>\n",
       "      <td>0.0</td>\n",
       "      <td>0.0</td>\n",
       "      <td>0.0</td>\n",
       "      <td>0.0</td>\n",
       "      <td>0.0</td>\n",
       "      <td>0.0</td>\n",
       "      <td>-0.711240</td>\n",
       "      <td>-0.187414</td>\n",
       "      <td>-0.141855</td>\n",
       "      <td>-0.218065</td>\n",
       "    </tr>\n",
       "    <tr>\n",
       "      <th>7210</th>\n",
       "      <td>0.0</td>\n",
       "      <td>1.0</td>\n",
       "      <td>0.0</td>\n",
       "      <td>0.0</td>\n",
       "      <td>1.0</td>\n",
       "      <td>1.0</td>\n",
       "      <td>0.0</td>\n",
       "      <td>1.0</td>\n",
       "      <td>0.0</td>\n",
       "      <td>0.0</td>\n",
       "      <td>0.0</td>\n",
       "      <td>0.0</td>\n",
       "      <td>0.0</td>\n",
       "      <td>0.0</td>\n",
       "      <td>0.0</td>\n",
       "      <td>0.0</td>\n",
       "      <td>-0.711240</td>\n",
       "      <td>-0.187414</td>\n",
       "      <td>-0.141855</td>\n",
       "      <td>-0.218065</td>\n",
       "    </tr>\n",
       "    <tr>\n",
       "      <th>7211</th>\n",
       "      <td>0.0</td>\n",
       "      <td>1.0</td>\n",
       "      <td>0.0</td>\n",
       "      <td>1.0</td>\n",
       "      <td>0.0</td>\n",
       "      <td>1.0</td>\n",
       "      <td>0.0</td>\n",
       "      <td>0.0</td>\n",
       "      <td>0.0</td>\n",
       "      <td>0.0</td>\n",
       "      <td>1.0</td>\n",
       "      <td>0.0</td>\n",
       "      <td>0.0</td>\n",
       "      <td>0.0</td>\n",
       "      <td>0.0</td>\n",
       "      <td>0.0</td>\n",
       "      <td>-0.711240</td>\n",
       "      <td>-0.187414</td>\n",
       "      <td>-0.141855</td>\n",
       "      <td>-0.218065</td>\n",
       "    </tr>\n",
       "    <tr>\n",
       "      <th>7212</th>\n",
       "      <td>1.0</td>\n",
       "      <td>0.0</td>\n",
       "      <td>1.0</td>\n",
       "      <td>0.0</td>\n",
       "      <td>0.0</td>\n",
       "      <td>0.0</td>\n",
       "      <td>1.0</td>\n",
       "      <td>1.0</td>\n",
       "      <td>0.0</td>\n",
       "      <td>0.0</td>\n",
       "      <td>0.0</td>\n",
       "      <td>3.0</td>\n",
       "      <td>0.0</td>\n",
       "      <td>0.0</td>\n",
       "      <td>0.0</td>\n",
       "      <td>0.0</td>\n",
       "      <td>-0.096763</td>\n",
       "      <td>-0.187414</td>\n",
       "      <td>-0.141855</td>\n",
       "      <td>-0.218065</td>\n",
       "    </tr>\n",
       "    <tr>\n",
       "      <th>7213</th>\n",
       "      <td>1.0</td>\n",
       "      <td>0.0</td>\n",
       "      <td>0.0</td>\n",
       "      <td>0.0</td>\n",
       "      <td>1.0</td>\n",
       "      <td>1.0</td>\n",
       "      <td>0.0</td>\n",
       "      <td>0.0</td>\n",
       "      <td>0.0</td>\n",
       "      <td>1.0</td>\n",
       "      <td>0.0</td>\n",
       "      <td>2.0</td>\n",
       "      <td>1.0</td>\n",
       "      <td>0.0</td>\n",
       "      <td>0.0</td>\n",
       "      <td>0.0</td>\n",
       "      <td>-0.301588</td>\n",
       "      <td>-0.187414</td>\n",
       "      <td>-0.141855</td>\n",
       "      <td>-0.218065</td>\n",
       "    </tr>\n",
       "  </tbody>\n",
       "</table>\n",
       "<p>7214 rows × 20 columns</p>\n",
       "</div>"
      ],
      "text/plain": [
       "      sex_Female  sex_Male  age_cat_25 - 45  age_cat_Greater than 45  \\\n",
       "0            0.0       1.0              0.0                      1.0   \n",
       "1            0.0       1.0              1.0                      0.0   \n",
       "2            0.0       1.0              0.0                      0.0   \n",
       "3            0.0       1.0              0.0                      0.0   \n",
       "4            0.0       1.0              1.0                      0.0   \n",
       "...          ...       ...              ...                      ...   \n",
       "7209         0.0       1.0              0.0                      0.0   \n",
       "7210         0.0       1.0              0.0                      0.0   \n",
       "7211         0.0       1.0              0.0                      1.0   \n",
       "7212         1.0       0.0              1.0                      0.0   \n",
       "7213         1.0       0.0              0.0                      0.0   \n",
       "\n",
       "      age_cat_Less than 25  c_charge_degree_F  c_charge_degree_M  \\\n",
       "0                      0.0                1.0                0.0   \n",
       "1                      0.0                1.0                0.0   \n",
       "2                      1.0                1.0                0.0   \n",
       "3                      1.0                1.0                0.0   \n",
       "4                      0.0                1.0                0.0   \n",
       "...                    ...                ...                ...   \n",
       "7209                   1.0                1.0                0.0   \n",
       "7210                   1.0                1.0                0.0   \n",
       "7211                   0.0                1.0                0.0   \n",
       "7212                   0.0                0.0                1.0   \n",
       "7213                   1.0                1.0                0.0   \n",
       "\n",
       "      race_African-American  race_Caucasian  race_Hispanic  race_Other  \\\n",
       "0                       0.0             0.0            0.0         1.0   \n",
       "1                       1.0             0.0            0.0         0.0   \n",
       "2                       1.0             0.0            0.0         0.0   \n",
       "3                       1.0             0.0            0.0         0.0   \n",
       "4                       0.0             0.0            0.0         1.0   \n",
       "...                     ...             ...            ...         ...   \n",
       "7209                    1.0             0.0            0.0         0.0   \n",
       "7210                    1.0             0.0            0.0         0.0   \n",
       "7211                    0.0             0.0            0.0         1.0   \n",
       "7212                    1.0             0.0            0.0         0.0   \n",
       "7213                    0.0             0.0            1.0         0.0   \n",
       "\n",
       "      priors_count  two_year_recid  juv_misd_count  juv_fel_count  \\\n",
       "0              0.0             0.0             0.0            0.0   \n",
       "1              0.0             1.0             0.0            0.0   \n",
       "2              4.0             1.0             0.0            0.0   \n",
       "3              1.0             0.0             1.0            0.0   \n",
       "4              2.0             0.0             0.0            0.0   \n",
       "...            ...             ...             ...            ...   \n",
       "7209           0.0             0.0             0.0            0.0   \n",
       "7210           0.0             0.0             0.0            0.0   \n",
       "7211           0.0             0.0             0.0            0.0   \n",
       "7212           3.0             0.0             0.0            0.0   \n",
       "7213           2.0             1.0             0.0            0.0   \n",
       "\n",
       "      juv_other_count  priors_count  juv_misd_count  juv_fel_count  \\\n",
       "0                 0.0     -0.711240       -0.187414      -0.141855   \n",
       "1                 0.0     -0.711240       -0.187414      -0.141855   \n",
       "2                 1.0      0.108063       -0.187414      -0.141855   \n",
       "3                 0.0     -0.506414        1.873571      -0.141855   \n",
       "4                 0.0     -0.301588       -0.187414      -0.141855   \n",
       "...               ...           ...             ...            ...   \n",
       "7209              0.0     -0.711240       -0.187414      -0.141855   \n",
       "7210              0.0     -0.711240       -0.187414      -0.141855   \n",
       "7211              0.0     -0.711240       -0.187414      -0.141855   \n",
       "7212              0.0     -0.096763       -0.187414      -0.141855   \n",
       "7213              0.0     -0.301588       -0.187414      -0.141855   \n",
       "\n",
       "      juv_other_count  \n",
       "0           -0.218065  \n",
       "1           -0.218065  \n",
       "2            1.775750  \n",
       "3           -0.218065  \n",
       "4           -0.218065  \n",
       "...               ...  \n",
       "7209        -0.218065  \n",
       "7210        -0.218065  \n",
       "7211        -0.218065  \n",
       "7212        -0.218065  \n",
       "7213        -0.218065  \n",
       "\n",
       "[7214 rows x 20 columns]"
      ]
     },
     "execution_count": 9,
     "metadata": {},
     "output_type": "execute_result"
    }
   ],
   "source": [
    "from sklearn.preprocessing import StandardScaler\n",
    "labels = [\"priors_count\",\"juv_misd_count\",\"juv_fel_count\",\"juv_other_count\"]\n",
    "to_scale = df_cleaned[labels]\n",
    "scaler = StandardScaler()\n",
    "scaled_data = scaler.fit_transform(to_scale)\n",
    "df_scaled =  pd.DataFrame(data=scaled_data,columns = labels)\n",
    "df_cleaned.drop(columns = labels)\n",
    "dfa_num = pd.concat([df_cleaned,df_scaled], axis=1)\n",
    "dfa_num"
   ]
  },
  {
   "cell_type": "markdown",
   "metadata": {},
   "source": [
    "# Part 2: Train Classifiers"
   ]
  },
  {
   "cell_type": "markdown",
   "metadata": {},
   "source": [
    "**Comment**: Below we randomly split our data into a training set (70% of the dataset) and a test set (30% of the dataset). "
   ]
  },
  {
   "cell_type": "code",
   "execution_count": 12,
   "metadata": {},
   "outputs": [],
   "source": [
    "from sklearn.model_selection import train_test_split\n",
    "from sklearn.pipeline import make_pipeline\n",
    "from sklearn.preprocessing import StandardScaler\n",
    "from sklearn.model_selection import cross_validate\n",
    "from sklearn.metrics import f1_score\n",
    "from sklego.metrics import p_percent_score\n",
    "from sklego.metrics import equal_opportunity_score\n",
    "Y = dfa_num[\"two_year_recid\"]\n",
    "X = dfa_num.drop(columns=\"two_year_recid\")\n",
    "\n",
    "X_train, X_test, y_train, y_test = train_test_split( X, Y, test_size=0.30, random_state=42)"
   ]
  },
  {
   "cell_type": "code",
   "execution_count": 13,
   "metadata": {},
   "outputs": [],
   "source": [
    "def DisplayCM (cf_matrix, label):  \n",
    "    group_names = ['True Neg','False Pos','False Neg','True Pos']\n",
    "\n",
    "    group_counts = [\"{0:0.0f}\".format(value) for value in\n",
    "                    cf_matrix.flatten()]\n",
    "\n",
    "    group_percentages = [\"{0:.2%}\".format(value) for value in\n",
    "                         cf_matrix.flatten()/np.sum(cf_matrix)]\n",
    "\n",
    "    labels = [f\"{v1}\\n{v2}\\n{v3}\" for v1, v2, v3 in\n",
    "              zip(group_names,group_counts,group_percentages)]\n",
    "\n",
    "    labels = np.asarray(labels).reshape(2,2)\n",
    "\n",
    "    ax = sns.heatmap(cf_matrix, annot=labels, fmt='', cmap='Blues')\n",
    "\n",
    "    ax.set_title('Confusion Matrix for ' + label);\n",
    "    ax.set_xlabel('\\nPredicted Values')\n",
    "    ax.set_ylabel('Actual Values ');\n",
    "\n",
    "    ## Ticket labels - List must be in alphabetical order\n",
    "    ax.xaxis.set_ticklabels(['False','True'])\n",
    "    ax.yaxis.set_ticklabels(['False','True'])\n",
    "\n",
    "    ## Display the visualization of the Confusion Matrix.\n",
    "    plt.show()"
   ]
  },
  {
   "cell_type": "code",
   "execution_count": 18,
   "metadata": {},
   "outputs": [],
   "source": [
    "def SetupMatrix(cf, normalize):\n",
    "    predictions = cf.predict(X_test)\n",
    "    if normalize:\n",
    "        for p in predictions:\n",
    "            if p[0]>=0.5:\n",
    "                p[0] = 1\n",
    "            else:\n",
    "                p[0] = 0 \n",
    "    cm_data = X_test.copy() # do we change X_test by doing this? If so, we can't do this\n",
    "    cm_data[\"two_year_recid\"] = y_test\n",
    "    cm_data[\"predictions\"] = predictions # add the predictions to the table with data\n",
    "    \n",
    "    \n",
    "    races = [\"race_African-American\",\"race_Caucasian\",\"race_Hispanic\",\"race_Other\"]\n",
    "    genders = [\"sex_Male\",\"sex_Female\"]\n",
    "\n",
    "    for race in races:\n",
    "        cm_data_filtered = cm_data.loc[cm_data[race] == 1.0]\n",
    "        cm = confusion_matrix(cm_data_filtered[\"two_year_recid\"], cm_data_filtered[\"predictions\"])\n",
    "        DisplayCM(cm, race)\n",
    "\n",
    "    for sex in genders:\n",
    "        cm_data_filtered = cm_data.loc[cm_data[sex] == 1.0]\n",
    "        cm = confusion_matrix(cm_data_filtered[\"two_year_recid\"], cm_data_filtered[\"predictions\"])\n",
    "        DisplayCM(cm, sex)"
   ]
  },
  {
   "cell_type": "markdown",
   "metadata": {},
   "source": [
    "## Logistic Regression"
   ]
  },
  {
   "cell_type": "code",
   "execution_count": 14,
   "metadata": {},
   "outputs": [
    {
     "data": {
      "text/plain": [
       "0.6877598152424942"
      ]
     },
     "execution_count": 14,
     "metadata": {},
     "output_type": "execute_result"
    }
   ],
   "source": [
    "from sklearn.linear_model import LogisticRegression\n",
    "clf = LogisticRegression(random_state=0).fit(X_train, y_train)\n",
    "clf.predict(X_test)\n",
    "clf.score(X_test,y_test)\n",
    "#cross validation for reg"
   ]
  },
  {
   "cell_type": "code",
   "execution_count": 15,
   "metadata": {},
   "outputs": [
    {
     "name": "stdout",
     "output_type": "stream",
     "text": [
      "[0.6461335733360996, 0.9600000000000001]\n"
     ]
    }
   ],
   "source": [
    "scores = []\n",
    "for c in np.arange (0.01, 1, 0.05):\n",
    "    clf = LogisticRegression(random_state=0,C = c)\n",
    "    cv = cross_validate(clf, X_train, y_train, cv=10,scoring='f1_macro')\n",
    "    score = np.mean(cv[\"test_score\"])\n",
    "    scores.append([score,c])\n",
    "reg = max(scores)\n",
    "print(reg)"
   ]
  },
  {
   "cell_type": "code",
   "execution_count": 16,
   "metadata": {},
   "outputs": [
    {
     "data": {
      "text/plain": [
       "0.6877598152424942"
      ]
     },
     "execution_count": 16,
     "metadata": {},
     "output_type": "execute_result"
    }
   ],
   "source": [
    "clf = LogisticRegression(random_state=0,C = reg[1] ).fit(X_train, y_train)\n",
    "clf.predict(X_test)\n",
    "clf.score(X_test,y_test)"
   ]
  },
  {
   "cell_type": "code",
   "execution_count": 19,
   "metadata": {},
   "outputs": [
    {
     "data": {
      "image/png": "[encoded data removed]",
      "text/plain": [
       "<Figure size 432x288 with 2 Axes>"
      ]
     },
     "metadata": {
      "needs_background": "light"
     },
     "output_type": "display_data"
    },
    {
     "data": {
      "image/png": "[encoded data removed]",
      "text/plain": [
       "<Figure size 432x288 with 2 Axes>"
      ]
     },
     "metadata": {
      "needs_background": "light"
     },
     "output_type": "display_data"
    },
    {
     "data": {
      "image/png": "[encoded data removed]",
      "text/plain": [
       "<Figure size 432x288 with 2 Axes>"
      ]
     },
     "metadata": {
      "needs_background": "light"
     },
     "output_type": "display_data"
    },
    {
     "data": {
      "image/png": "[encoded data removed]",
      "text/plain": [
       "<Figure size 432x288 with 2 Axes>"
      ]
     },
     "metadata": {
      "needs_background": "light"
     },
     "output_type": "display_data"
    },
    {
     "data": {
      "image/png": "[encoded data removed]",
      "text/plain": [
       "<Figure size 432x288 with 2 Axes>"
      ]
     },
     "metadata": {
      "needs_background": "light"
     },
     "output_type": "display_data"
    },
    {
     "data": {
      "image/png": "[encoded data removed]",
      "text/plain": [
       "<Figure size 432x288 with 2 Axes>"
      ]
     },
     "metadata": {
      "needs_background": "light"
     },
     "output_type": "display_data"
    }
   ],
   "source": [
    "# confusion matrices for logistic regression\n",
    "SetupMatrix(clf,0)"
   ]
  },
  {
   "cell_type": "markdown",
   "metadata": {},
   "source": [
    "**Comment**: Our Logistic Regression model has a higher False Positive rate for African-Americans when compared to the other races. However, it's an improvement from the COMPAS predictor since our False Positive rate is lower by more than 7% (at the cost of -2% for the True Positive rate). Yet, it's still higher than the other races' rates. In fact, the other races present a fairly high False Negative rate, meaning a lot of people predicted to not re-commit crimes will actually do so. Our False Negative rates are worse than the COMPAS' ones."
   ]
  },
  {
   "cell_type": "code",
   "execution_count": 30,
   "metadata": {},
   "outputs": [
    {
     "name": "stdout",
     "output_type": "stream",
     "text": [
      "P% score for African-American feature: 0.4653536429045585\n",
      "P% score for Caucasian feature: 0.6121310616326603\n",
      "P% score for Hispanic feature: 0.4693163978878265\n",
      "P% score for Other Race feature: 0.3843994839684088\n"
     ]
    }
   ],
   "source": [
    "print(\"P% score for African-American feature: \" + str(p_percent_score(sensitive_column=\"race_African-American\")(clf, X)))\n",
    "print(\"P% score for Caucasian feature: \" + str(p_percent_score(sensitive_column=\"race_Caucasian\")(clf, X)))\n",
    "print(\"P% score for Hispanic feature: \" + str(p_percent_score(sensitive_column=\"race_Hispanic\")(clf, X)))\n",
    "print(\"P% score for Other Race feature: \" + str(p_percent_score(sensitive_column=\"race_Other\")(clf, X)))"
   ]
  },
  {
   "cell_type": "code",
   "execution_count": 31,
   "metadata": {},
   "outputs": [
    {
     "name": "stdout",
     "output_type": "stream",
     "text": [
      "Equal opportunity score for African-American feature: 0.5659435766187156\n",
      "Equal opportunity score for Caucasian feature: 0.6731302419075346\n",
      "Equal opportunity score for Hispanic feature: 0.5454062003826894\n",
      "Equal opportunity score for Other Race feature: 0.5212544726138414\n"
     ]
    }
   ],
   "source": [
    "print(\"Equal opportunity score for African-American feature: \" + str(equal_opportunity_score(sensitive_column=\"race_African-American\")(clf, X,Y)))\n",
    "print(\"Equal opportunity score for Caucasian feature: \" + str(equal_opportunity_score(sensitive_column=\"race_Caucasian\")(clf, X,Y)))\n",
    "print(\"Equal opportunity score for Hispanic feature: \" + str(equal_opportunity_score(sensitive_column=\"race_Hispanic\")(clf, X,Y)))\n",
    "print(\"Equal opportunity score for Other Race feature: \" + str(equal_opportunity_score(sensitive_column=\"race_Other\")(clf, X,Y)))"
   ]
  },
  {
   "cell_type": "markdown",
   "metadata": {},
   "source": [
    "**Comment**: The equal opportunity score measuers how far from equal opportunity (definition can be found in the fairness part of this notebook) a classifier is. 1 is perfect and 0 is the worst. For our logistic regression classifier, we can se that the score is higher for caucasians than the other races which means that the classifier favours white (caucasian) people. "
   ]
  },
  {
   "cell_type": "markdown",
   "metadata": {},
   "source": [
    "### Importance of features"
   ]
  },
  {
   "cell_type": "code",
   "execution_count": 33,
   "metadata": {
    "scrolled": false
   },
   "outputs": [
    {
     "name": "stdout",
     "output_type": "stream",
     "text": [
      "Feature: sex_Female, Score: -0.14830\n",
      "Feature: sex_Male, Score: 0.14799\n",
      "Feature: age_cat_25 - 45, Score: 0.00985\n",
      "Feature: age_cat_Greater than 45, Score: -0.62632\n",
      "Feature: age_cat_Less than 25, Score: 0.61616\n",
      "Feature: c_charge_degree_F, Score: 0.11106\n",
      "Feature: c_charge_degree_M, Score: -0.11137\n",
      "Feature: race_African-American, Score: 0.10647\n",
      "Feature: race_Caucasian, Score: 0.08319\n",
      "Feature: race_Hispanic, Score: -0.08026\n",
      "Feature: race_Other, Score: -0.10970\n",
      "Feature: priors_count, Score: 0.13193\n",
      "Feature: two_year_recid, Score: 0.02396\n",
      "Feature: juv_misd_count, Score: 0.03215\n",
      "Feature: juv_fel_count, Score: 0.04329\n",
      "Feature: juv_other_count, Score: 0.02724\n"
     ]
    },
    {
     "ename": "IndexError",
     "evalue": "list index out of range",
     "output_type": "error",
     "traceback": [
      "\u001b[0;31m---------------------------------------------------------------------------\u001b[0m",
      "\u001b[0;31mIndexError\u001b[0m                                Traceback (most recent call last)",
      "Input \u001b[0;32mIn [33]\u001b[0m, in \u001b[0;36m<cell line: 4>\u001b[0;34m()\u001b[0m\n\u001b[1;32m      3\u001b[0m j \u001b[38;5;241m=\u001b[39m \u001b[38;5;241m0\u001b[39m\n\u001b[1;32m      4\u001b[0m \u001b[38;5;28;01mfor\u001b[39;00m i,v \u001b[38;5;129;01min\u001b[39;00m \u001b[38;5;28menumerate\u001b[39m(importance):\n\u001b[0;32m----> 5\u001b[0m     \u001b[38;5;28mprint\u001b[39m(\u001b[38;5;124m'\u001b[39m\u001b[38;5;124mFeature: \u001b[39m\u001b[38;5;132;01m%0s\u001b[39;00m\u001b[38;5;124m, Score: \u001b[39m\u001b[38;5;132;01m%.5f\u001b[39;00m\u001b[38;5;124m'\u001b[39m \u001b[38;5;241m%\u001b[39m (\u001b[43mlistedLabels\u001b[49m\u001b[43m[\u001b[49m\u001b[43mj\u001b[49m\u001b[43m]\u001b[49m,v))\n\u001b[1;32m      6\u001b[0m     j \u001b[38;5;241m+\u001b[39m\u001b[38;5;241m=\u001b[39m \u001b[38;5;241m1\u001b[39m\n\u001b[1;32m      7\u001b[0m \u001b[38;5;66;03m# plot feature importance\u001b[39;00m\n",
      "\u001b[0;31mIndexError\u001b[0m: list index out of range"
     ]
    }
   ],
   "source": [
    "importance = clf.coef_[0]\n",
    "# summarize feature importance\n",
    "j = 0\n",
    "for i,v in enumerate(importance):\n",
    "    print('Feature: %0s, Score: %.5f' % (listedLabels[j],v))\n",
    "    j += 1\n",
    "# plot feature importance\n",
    "print(len(listedLabels))\n",
    "print(len(importance))\n",
    "plt.figure(figsize=(10, 5), dpi=80)\n",
    "plt.bar(listedLabels[:-1], importance)\n",
    "plt.rcParams['font.size'] = '25'\n",
    "plt.xticks(rotation=90)\n",
    "plt.show()"
   ]
  },
  {
   "cell_type": "markdown",
   "metadata": {},
   "source": [
    "**Comment**: The most important feature for predicting recidivism is age. An age under 25 increases the risk of being predicted as high risk. An age over 45 lowers the risk of being predicted high risk. The second most importent features are related to earlier commited crimes. Considering race, african americans and caucasians are more likely to be predicted as high risk than hispanics and others."
   ]
  },
  {
   "cell_type": "markdown",
   "metadata": {},
   "source": [
    "## SVC"
   ]
  },
  {
   "cell_type": "code",
   "execution_count": 34,
   "metadata": {},
   "outputs": [
    {
     "name": "stdout",
     "output_type": "stream",
     "text": [
      "Accuracy 0.6868360277136258\n",
      "F1-Score 0.6751281011636224\n"
     ]
    }
   ],
   "source": [
    "from sklearn.svm import SVC\n",
    "svc = make_pipeline(StandardScaler(), SVC(gamma='auto'))\n",
    "svc.fit(X_train, y_train)\n",
    "svc.score(X_test,y_test)\n",
    "pred = svc.predict(X_test)\n",
    "print( \"Accuracy \" + str(svc.score(X_test,y_test)))\n",
    "f1 = f1_score(y_test, pred, average='macro')\n",
    "print(\"F1-Score \" + str(f1))"
   ]
  },
  {
   "cell_type": "code",
   "execution_count": 36,
   "metadata": {},
   "outputs": [
    {
     "name": "stdout",
     "output_type": "stream",
     "text": [
      "[0.6567664623605218, 0.6100000000000001]\n"
     ]
    }
   ],
   "source": [
    "scores = []\n",
    "for c in np.arange (0.01, 1, 0.05):\n",
    "    svc = make_pipeline(StandardScaler(), SVC(gamma='auto', C = c))\n",
    "    cv = cross_validate(svc, X_train, y_train, cv=10)\n",
    "    score = np.mean(cv[\"test_score\"])\n",
    "    scores.append([score,c])\n",
    "reg = max(scores)\n",
    "print(reg)"
   ]
  },
  {
   "cell_type": "code",
   "execution_count": null,
   "metadata": {},
   "outputs": [],
   "source": [
    "best_svc = make_pipeline(StandardScaler(), SVC(gamma='auto',C = reg[1]))\n",
    "best_svc.fit(X_train, y_train)\n",
    "pred = best_svc.predict(X_test)\n",
    "print( \"Accuracy \" + str(best_svc.score(X_test,y_test)))\n",
    "f1 = f1_score(y_test, pred, average='macro')\n",
    "print(\"F1-Score \" + str(f1))"
   ]
  },
  {
   "cell_type": "code",
   "execution_count": null,
   "metadata": {},
   "outputs": [],
   "source": [
    "# confusion matrices for SVC\n",
    "SetupMatrix(best_svc,0)"
   ]
  },
  {
   "cell_type": "markdown",
   "metadata": {},
   "source": [
    "**Comment**: Just like for the Logistic Regression, we're able to improve the False Positive rate for the African-Americans, yet this value is still higher when compared to the other races. And we can draw the same conclusion regarding the False Negative rates being too high, higher than the COMPAS' rates."
   ]
  },
  {
   "cell_type": "code",
   "execution_count": null,
   "metadata": {},
   "outputs": [],
   "source": [
    "print(\"P% score for African-American feature: \" + str(p_percent_score(sensitive_column=\"race_African-American\")(best_svc, X)))\n",
    "print(\"P% score for Caucasian feature: \" + str(p_percent_score(sensitive_column=\"race_Caucasian\")(best_svc, X)))\n",
    "print(\"P% score for Hispanic feature: \" + str(p_percent_score(sensitive_column=\"race_Hispanic\")(best_svc, X)))\n",
    "print(\"P% score for Other Race feature: \" + str(p_percent_score(sensitive_column=\"race_Other\")(best_svc, X)))"
   ]
  },
  {
   "cell_type": "code",
   "execution_count": 35,
   "metadata": {},
   "outputs": [
    {
     "ename": "NameError",
     "evalue": "name 'best_svc' is not defined",
     "output_type": "error",
     "traceback": [
      "\u001b[0;31m---------------------------------------------------------------------------\u001b[0m",
      "\u001b[0;31mNameError\u001b[0m                                 Traceback (most recent call last)",
      "Input \u001b[0;32mIn [35]\u001b[0m, in \u001b[0;36m<cell line: 1>\u001b[0;34m()\u001b[0m\n\u001b[0;32m----> 1\u001b[0m \u001b[38;5;28mprint\u001b[39m(\u001b[38;5;124m\"\u001b[39m\u001b[38;5;124mEqual opportunity score for African-American feature: \u001b[39m\u001b[38;5;124m\"\u001b[39m \u001b[38;5;241m+\u001b[39m \u001b[38;5;28mstr\u001b[39m(equal_opportunity_score(sensitive_column\u001b[38;5;241m=\u001b[39m\u001b[38;5;124m\"\u001b[39m\u001b[38;5;124mrace_African-American\u001b[39m\u001b[38;5;124m\"\u001b[39m)(\u001b[43mbest_svc\u001b[49m, X,Y)))\n\u001b[1;32m      2\u001b[0m \u001b[38;5;28mprint\u001b[39m(\u001b[38;5;124m\"\u001b[39m\u001b[38;5;124mEqual opportunity score for Caucasian feature: \u001b[39m\u001b[38;5;124m\"\u001b[39m \u001b[38;5;241m+\u001b[39m \u001b[38;5;28mstr\u001b[39m(equal_opportunity_score(sensitive_column\u001b[38;5;241m=\u001b[39m\u001b[38;5;124m\"\u001b[39m\u001b[38;5;124mrace_Caucasian\u001b[39m\u001b[38;5;124m\"\u001b[39m)(best_svc, X,Y)))\n\u001b[1;32m      3\u001b[0m \u001b[38;5;28mprint\u001b[39m(\u001b[38;5;124m\"\u001b[39m\u001b[38;5;124mEqual opportunity score for Hispanic feature: \u001b[39m\u001b[38;5;124m\"\u001b[39m \u001b[38;5;241m+\u001b[39m \u001b[38;5;28mstr\u001b[39m(equal_opportunity_score(sensitive_column\u001b[38;5;241m=\u001b[39m\u001b[38;5;124m\"\u001b[39m\u001b[38;5;124mrace_Hispanic\u001b[39m\u001b[38;5;124m\"\u001b[39m)(best_svc, X,Y)))\n",
      "\u001b[0;31mNameError\u001b[0m: name 'best_svc' is not defined"
     ]
    }
   ],
   "source": [
    "print(\"Equal opportunity score for African-American feature: \" + str(equal_opportunity_score(sensitive_column=\"race_African-American\")(best_svc, X,Y)))\n",
    "print(\"Equal opportunity score for Caucasian feature: \" + str(equal_opportunity_score(sensitive_column=\"race_Caucasian\")(best_svc, X,Y)))\n",
    "print(\"Equal opportunity score for Hispanic feature: \" + str(equal_opportunity_score(sensitive_column=\"race_Hispanic\")(best_svc, X,Y)))\n",
    "print(\"Equal opportunity score for Other Race feature: \" + str(equal_opportunity_score(sensitive_column=\"race_Other\")(best_svc, X,Y)))"
   ]
  },
  {
   "cell_type": "markdown",
   "metadata": {},
   "source": [
    "**Comment**: For our SVC classifier, the equal opportunity scores for the different races are more spread out compared to the logistic regression classifier above. The classifier is not doing good in having equal opportunity for the different races. "
   ]
  },
  {
   "cell_type": "markdown",
   "metadata": {},
   "source": [
    "## Nearest Neighbors"
   ]
  },
  {
   "cell_type": "code",
   "execution_count": null,
   "metadata": {},
   "outputs": [],
   "source": [
    "from sklearn.neighbors import KNeighborsClassifier\n",
    "k_scores = []\n",
    "for k in range(3,12,2):\n",
    "    neigh = KNeighborsClassifier(n_neighbors=k)\n",
    "    cv = cross_validate(neigh, X_train, y_train, cv=5)\n",
    "    k_score = np.mean(cv[\"test_score\"])\n",
    "    k_scores.append([k_score,k])\n",
    "k_reg = max(k_scores)\n",
    "print(k_reg)"
   ]
  },
  {
   "cell_type": "code",
   "execution_count": null,
   "metadata": {},
   "outputs": [],
   "source": [
    "best_neigh = KNeighborsClassifier(n_neighbors=k_reg[1])\n",
    "best_neigh.fit(X_train, y_train)\n",
    "pred = best_neigh.predict(X_test)\n",
    "print( \"Accuracy \" + str(best_neigh.score(X_test,y_test)))\n",
    "f1 = f1_score(y_test, pred, average='macro')\n",
    "print(\"F1-Score \" + str(f1))"
   ]
  },
  {
   "cell_type": "code",
   "execution_count": null,
   "metadata": {},
   "outputs": [],
   "source": [
    "# confusion matrices for Nearest Neighbors\n",
    "SetupMatrix(best_neigh,0)"
   ]
  },
  {
   "cell_type": "markdown",
   "metadata": {},
   "source": [
    "**Comment**: We seem to have an improvement on this classifier regarding the False Positive rates. These have a much smaller variation between races, meaning we're heading torwards a fairer model. We're also able to drop the False Negative rates slightly compared to the previous classifiers, edging closer to the COMPAS' rates."
   ]
  },
  {
   "cell_type": "code",
   "execution_count": null,
   "metadata": {},
   "outputs": [],
   "source": [
    "print(\"P% score for African-American feature: \" + str(p_percent_score(sensitive_column=\"race_African-American\")(best_neigh, X)))\n",
    "print(\"P% score for Caucasian feature: \" + str(p_percent_score(sensitive_column=\"race_Caucasian\")(best_neigh, X)))\n",
    "print(\"P% score for Hispanic feature: \" + str(p_percent_score(sensitive_column=\"race_Hispanic\")(best_neigh, X)))\n",
    "print(\"P% score for Other Race feature: \" + str(p_percent_score(sensitive_column=\"race_Other\")(best_neigh, X)))"
   ]
  },
  {
   "cell_type": "code",
   "execution_count": null,
   "metadata": {},
   "outputs": [],
   "source": [
    "print(\"Equal opportunity score for African-American feature: \" + str(equal_opportunity_score(sensitive_column=\"race_African-American\")(best_neigh, X,Y)))\n",
    "print(\"Equal opportunity score for Caucasian feature: \" + str(equal_opportunity_score(sensitive_column=\"race_Caucasian\")(best_neigh, X,Y)))\n",
    "print(\"Equal opportunity score for Hispanic feature: \" + str(equal_opportunity_score(sensitive_column=\"race_Hispanic\")(best_neigh, X,Y)))\n",
    "print(\"Equal opportunity score for Other Race feature: \" + str(equal_opportunity_score(sensitive_column=\"race_Other\")(best_neigh, X,Y)))"
   ]
  },
  {
   "cell_type": "markdown",
   "metadata": {},
   "source": [
    "**Comment**: The equal opportunity scores for our NN-classifier are similar for all races and also higher compared to the logistic regression and SVC classifiers. The NN-classifier is comparably fair considering equal opportunity for different races. "
   ]
  },
  {
   "cell_type": "markdown",
   "metadata": {},
   "source": [
    "## Random Forest"
   ]
  },
  {
   "cell_type": "code",
   "execution_count": null,
   "metadata": {},
   "outputs": [],
   "source": [
    "from sklearn.ensemble import RandomForestClassifier\n",
    "from sklearn.model_selection import RandomizedSearchCV\n",
    "##code from https://towardsdatascience.com/hyperparameter-tuning-the-random-forest-in-python-using-scikit-learn-28d2aa77dd74\n",
    "n_estimators = [int(x) for x in np.linspace(start = 200, stop = 2000, num = 10)]\n",
    "# Number of features to consider at every split\n",
    "max_features = ['auto', 'sqrt']\n",
    "# Maximum number of levels in tree\n",
    "max_depth = [int(x) for x in np.linspace(10, 110, num = 11)]\n",
    "max_depth.append(None)\n",
    "# Minimum number of samples required to split a node\n",
    "min_samples_split = [2, 5, 10]\n",
    "# Minimum number of samples required at each leaf node\n",
    "min_samples_leaf = [1, 2, 4]\n",
    "# Method of selecting samples for training each tree\n",
    "bootstrap = [True, False]\n",
    "random_grid = {'n_estimators': n_estimators,\n",
    "               'max_features': max_features,\n",
    "               'max_depth': max_depth,\n",
    "               'min_samples_split': min_samples_split,\n",
    "               'min_samples_leaf': min_samples_leaf,\n",
    "               'bootstrap': bootstrap}\n",
    "rf = RandomForestClassifier()\n",
    "rf_random = RandomizedSearchCV(estimator = rf, param_distributions = random_grid, n_iter = 100, cv = 3, verbose=2, random_state=42, n_jobs = -1)\n",
    "rf_random.fit(X_train, y_train)\n"
   ]
  },
  {
   "cell_type": "code",
   "execution_count": null,
   "metadata": {},
   "outputs": [],
   "source": [
    "best_rf = RandomForestClassifier(max_depth=rf_random.best_params_[\"max_depth\"], random_state=0, n_estimators=rf_random.best_params_[\"n_estimators\"],min_samples_split=rf_random.best_params_[\"min_samples_split\"],min_samples_leaf=rf_random.best_params_[\"min_samples_leaf\"],max_features=rf_random.best_params_[\"max_features\"],bootstrap=rf_random.best_params_[\"bootstrap\"])\n",
    "best_rf.fit(X_train, y_train)\n",
    "pred = best_rf.predict(X_test)\n",
    "print( \"Accuracy \" + str(best_rf.score(X_test,y_test)))\n",
    "f1 = f1_score(y_test, pred, average='macro')\n",
    "print(\"F1-Score \" + str(f1))"
   ]
  },
  {
   "cell_type": "code",
   "execution_count": null,
   "metadata": {},
   "outputs": [],
   "source": [
    "# confusion matrices for Random Forest\n",
    "SetupMatrix(best_rf,0)"
   ]
  },
  {
   "cell_type": "markdown",
   "metadata": {},
   "source": [
    "**Comment**: With this model, we achieve our lowest False Positive rate for African-Americans while maintaining a slightly lower rate for the other races. The False Negative rates are still within the expected values (similar to Nearest Neighbors)."
   ]
  },
  {
   "cell_type": "code",
   "execution_count": null,
   "metadata": {},
   "outputs": [],
   "source": [
    "print(\"P% score for African-American feature: \" + str(p_percent_score(sensitive_column=\"race_African-American\")(best_rf, X)))\n",
    "print(\"P% score for Caucasian feature: \" + str(p_percent_score(sensitive_column=\"race_Caucasian\")(best_rf, X)))\n",
    "print(\"P% score for Hispanic feature: \" + str(p_percent_score(sensitive_column=\"race_Hispanic\")(best_rf, X)))\n",
    "print(\"P% score for Other Race feature: \" + str(p_percent_score(sensitive_column=\"race_Other\")(best_rf, X)))"
   ]
  },
  {
   "cell_type": "code",
   "execution_count": null,
   "metadata": {},
   "outputs": [],
   "source": [
    "print(\"Equal opportunity score for African-American feature: \" + str(equal_opportunity_score(sensitive_column=\"race_African-American\")(best_rf, X,Y)))\n",
    "print(\"Equal opportunity score for Caucasian feature: \" + str(equal_opportunity_score(sensitive_column=\"race_Caucasian\")(best_rf, X,Y)))\n",
    "print(\"Equal opportunity score for Hispanic feature: \" + str(equal_opportunity_score(sensitive_column=\"race_Hispanic\")(best_rf, X,Y)))\n",
    "print(\"Equal opportunity score for Other Race feature: \" + str(equal_opportunity_score(sensitive_column=\"race_Other\")(best_rf, X,Y)))"
   ]
  },
  {
   "cell_type": "markdown",
   "metadata": {},
   "source": [
    "**Comment**: The equal opportunity scores for the random forest classifier is following the same pattern as for the logistic regression classifier: similar scores for all races excpet for caucasians for which the score is higher which indicates that caucasians are favoured by the classifier. Compared to the logistic regression classifer the scores are, in over all, higher for the random forest classifer, which means that the random forest is performing better than the logistic regression classifier considering equal opportunity for different races. "
   ]
  },
  {
   "cell_type": "markdown",
   "metadata": {},
   "source": [
    "## Neural Network"
   ]
  },
  {
   "cell_type": "code",
   "execution_count": null,
   "metadata": {
    "scrolled": true
   },
   "outputs": [],
   "source": [
    "#https://medium.com/luca-chuangs-bapm-notes/build-a-neural-network-in-python-binary-classification-49596d7dcabf\n",
    "from keras.wrappers.scikit_learn import KerasClassifier\n",
    "from keras.utils import np_utils\n",
    "from keras.models import Sequential\n",
    "from keras.layers import Dense, Dropout\n",
    "from keras.callbacks import EarlyStopping\n",
    "\n",
    "\n",
    "model = Sequential()\n",
    "model.add(Dense(64, input_shape=(X.shape[1],), activation='relu'))\n",
    "model.add(Dense(32, activation='relu'))\n",
    "model.add(Dense(16, activation='relu'))\n",
    "model.add(Dense(8, activation='relu'))\n",
    "model.add(Dense(1, activation='sigmoid'))\n",
    "model.summary() \n",
    "\n",
    "# compile the model\n",
    "model.compile(optimizer='Adam', \n",
    "              loss='binary_crossentropy',\n",
    "              metrics=['accuracy'])\n",
    "\n",
    "# early stopping callback\n",
    "# This callback will stop the training when there is no improvement in  \n",
    "# the validation loss for 10 consecutive epochs.  \n",
    "es = EarlyStopping(monitor='val_accuracy', \n",
    "                                   mode='max', # don't minimize the accuracy!\n",
    "                                   patience=10,\n",
    "                                   restore_best_weights=True)\n",
    "\n",
    "# now we just update our model fit call\n",
    "history = model.fit(X_train,\n",
    "                    y_train,\n",
    "                    callbacks=[es],\n",
    "                    epochs=500, # you can set this to a big number!\n",
    "                    batch_size=10,\n",
    "                    validation_data=(X_test,y_test),\n",
    "                    shuffle=True,\n",
    "                    verbose=1)\n",
    "\n",
    "\n",
    "\n",
    "history_dict = history.history\n",
    "# Learning curve(Loss)\n",
    "# let's see the training and validation loss by epoch\n",
    "\n",
    "# loss\n",
    "loss_values = history_dict['loss'] # you can change this\n",
    "val_loss_values = history_dict['val_loss'] # you can also change this\n",
    "\n",
    "# range of X (no. of epochs)\n",
    "epochs = range(1, len(loss_values) + 1) \n",
    "\n",
    "# plot\n",
    "plt.plot(epochs, loss_values, 'bo', label='Training loss')\n",
    "plt.plot(epochs, val_loss_values, 'orange', label='Validation loss')\n",
    "plt.title('Training and validation loss')\n",
    "plt.xlabel('Epochs')\n",
    "plt.ylabel('Loss')\n",
    "plt.legend()\n",
    "plt.show()\n",
    "\n",
    "\n",
    "# Learning curve(accuracy)\n",
    "# let's see the training and validation accuracy by epoch\n",
    "\n",
    "# accuracy\n",
    "acc = history.history['accuracy']\n",
    "val_acc = history.history['val_accuracy']\n",
    "\n",
    "# range of X (no. of epochs)\n",
    "epochs = range(1, len(acc) + 1)\n",
    "\n",
    "# plot\n",
    "# \"bo\" is for \"blue dot\"\n",
    "plt.plot(epochs, acc, 'bo', label='Training accuracy')\n",
    "# orange is for \"orange\"\n",
    "plt.plot(epochs, val_acc, 'orange', label='Validation accuracy')\n",
    "plt.title('Training and validation accuracy')\n",
    "plt.xlabel('Epochs')\n",
    "plt.ylabel('Accuracy')\n",
    "plt.legend()\n",
    "plt.show()\n",
    "\n",
    "# this is the max value - should correspond to\n",
    "# the HIGHEST train accuracy\n",
    "#np.max(val_acc)\n",
    "\n",
    "score = model.evaluate(X_test, y_test, verbose=0)\n",
    "print('Test accuracy:', score[1])\n",
    "\n",
    "\n"
   ]
  },
  {
   "cell_type": "code",
   "execution_count": null,
   "metadata": {},
   "outputs": [],
   "source": [
    "# confusion matrices for Neural Network\n",
    "SetupMatrix(model, 1)"
   ]
  },
  {
   "cell_type": "markdown",
   "metadata": {},
   "source": [
    "**Comment**: Our results with the Neural Network are similar to COMPAS, except with the extreme improvement on the False Positive rate, meaning we're not falsefully predicting as many people to re-commit crimes as COMPAS. So we get a strong True Positive rate and a decent False Positive, a vast improvement from COMPAS and one of the best classifiers we trained."
   ]
  },
  {
   "cell_type": "markdown",
   "metadata": {},
   "source": [
    "# Part 3: Fair classifiers"
   ]
  },
  {
   "cell_type": "markdown",
   "metadata": {},
   "source": [
    "Based on the article \"How to define fairness to detect and prevent discriminatory outcomes in Machine Learning\" (Towards Data Science, 2019, https://towardsdatascience.com/how-to-define-fairness-to-detect-and-prevent-discriminatory-outcomes-in-machine-learning-ef23fd408ef2), there are three different perspectives on fairness in machine learning:\n",
    "\n",
    "- **Demographic Parity**: Demographic Parity means that the proportion of each segment of a protected class receives positive outcomes at equal rates. In mathematical terms, Demographic Parity requires the outcome to be independent of the protected class A. With regard to the confusion matrix, we require the Positive Rate (PR) to be the same for each segment of the protected class.\n",
    "\n",
    "\n",
    "- **Equal Opportunity**: Equal Opportunity states that each group should get the positive outcome at equal rates, assuming that people in this group qualify for it. Equal Opportunity requires the positive outcome to be independent of the protected class A, conditional on Y being an actual positive. Based on the confusion matrix, we require the True Positive Rate (TPR) to be the same for each segment of the protected class.\n",
    "\n",
    "\n",
    "- **Equalised Odds**: Correctly identify the positive outcome at equal rates across groups (same as in Equal Opportunity), but also miss-classify the positive outcome at equal rates across groups (creating the same proportion of False Positives across groups). Equalised Odds requires the positive outcome to be independent of the protected class A, conditional on the actual Y. In the confusion matrix, this means that the True Positive Rate (TPR) and False Positive Rate (FPR) should be the same for each segment of the protected class.\n",
    "\n",
    "All three definitions can not be fullfilled at the same time. In this project we will look more into the demographic parity and the opportunity for the different races in the dataset. "
   ]
  },
  {
   "cell_type": "markdown",
   "metadata": {},
   "source": [
    "In search for more fair classifiers we found two variations of logistic regression: DemographicParityClassifier and EqualOpportunityClassifier. \n",
    "\n",
    "The DemographicParityClassifier takes into consideration the p% score but since it is a non-convex function it instead approximates this function by taking the covariance between the users’ sensitive attributes and the decision boundary. "
   ]
  },
  {
   "attachments": {
    "demoparity.png": {
     "image/png": "[encoded data removed]"
    }
   },
   "cell_type": "markdown",
   "metadata": {},
   "source": [
    "![demoparity.png](attachment:demoparity.png)"
   ]
  },
  {
   "cell_type": "code",
   "execution_count": 1,
   "metadata": {},
   "outputs": [
    {
     "ename": "ModuleNotFoundError",
     "evalue": "No module named 'sklego'",
     "output_type": "error",
     "traceback": [
      "\u001b[0;31m---------------------------------------------------------------------------\u001b[0m",
      "\u001b[0;31mModuleNotFoundError\u001b[0m                       Traceback (most recent call last)",
      "Input \u001b[0;32mIn [1]\u001b[0m, in \u001b[0;36m<cell line: 1>\u001b[0;34m()\u001b[0m\n\u001b[0;32m----> 1\u001b[0m \u001b[38;5;28;01mfrom\u001b[39;00m \u001b[38;5;21;01msklego\u001b[39;00m\u001b[38;5;21;01m.\u001b[39;00m\u001b[38;5;21;01mlinear_model\u001b[39;00m \u001b[38;5;28;01mimport\u001b[39;00m DemographicParityClassifier\n\u001b[1;32m      2\u001b[0m \u001b[38;5;28;01mfrom\u001b[39;00m \u001b[38;5;21;01msklego\u001b[39;00m\u001b[38;5;21;01m.\u001b[39;00m\u001b[38;5;21;01mmetrics\u001b[39;00m \u001b[38;5;28;01mimport\u001b[39;00m p_percent_score\n\u001b[1;32m      6\u001b[0m demo_parity \u001b[38;5;241m=\u001b[39m DemographicParityClassifier(sensitive_cols\u001b[38;5;241m=\u001b[39m[\u001b[38;5;124m\"\u001b[39m\u001b[38;5;124mrace_African-American\u001b[39m\u001b[38;5;124m\"\u001b[39m,\u001b[38;5;124m\"\u001b[39m\u001b[38;5;124mrace_Caucasian\u001b[39m\u001b[38;5;124m\"\u001b[39m,\u001b[38;5;124m\"\u001b[39m\u001b[38;5;124mrace_Hispanic\u001b[39m\u001b[38;5;124m\"\u001b[39m,\u001b[38;5;124m\"\u001b[39m\u001b[38;5;124mrace_Other\u001b[39m\u001b[38;5;124m\"\u001b[39m], covariance_threshold\u001b[38;5;241m=\u001b[39m\u001b[38;5;241m0.5\u001b[39m)\n",
      "\u001b[0;31mModuleNotFoundError\u001b[0m: No module named 'sklego'"
     ]
    }
   ],
   "source": [
    "from sklego.linear_model import DemographicParityClassifier\n",
    "from sklego.metrics import p_percent_score\n",
    "\n",
    "\n",
    "\n",
    "demo_parity = DemographicParityClassifier(sensitive_cols=[\"race_African-American\",\"race_Caucasian\",\"race_Hispanic\",\"race_Other\"], covariance_threshold=0.5)\n",
    "demo_parity.fit(X_train, y_train)"
   ]
  },
  {
   "cell_type": "code",
   "execution_count": null,
   "metadata": {},
   "outputs": [],
   "source": [
    "demo_parity.predict(X_test)"
   ]
  },
  {
   "cell_type": "code",
   "execution_count": null,
   "metadata": {},
   "outputs": [],
   "source": [
    "# confusion matrices for demo parity classifier\n",
    "SetupMatrix(demo_parity,0)"
   ]
  },
  {
   "cell_type": "code",
   "execution_count": null,
   "metadata": {},
   "outputs": [],
   "source": [
    "print(\"Demographic Parity Classifier Accuracy: \" + str(demo_parity.score(X_test,y_test)))\n",
    "print(\"Regular Logistic Regression Accuracy: \" + str(clf.score(X_test,y_test)))"
   ]
  },
  {
   "cell_type": "code",
   "execution_count": null,
   "metadata": {},
   "outputs": [],
   "source": [
    "print(\"Demographic Parity Classifier\")\n",
    "print(\"P% score for African-American feature: \" + str(p_percent_score(sensitive_column=\"race_African-American\")(demo_parity, X)))\n",
    "print(\"P% score for Caucasian feature: \" + str(p_percent_score(sensitive_column=\"race_Caucasian\")(demo_parity, X)))\n",
    "print(\"P% score for Hispanic feature: \" + str(p_percent_score(sensitive_column=\"race_Hispanic\")(demo_parity, X)))\n",
    "print(\"P% score for Other Race feature: \" + str(p_percent_score(sensitive_column=\"race_Other\")(demo_parity, X)))"
   ]
  },
  {
   "cell_type": "code",
   "execution_count": null,
   "metadata": {},
   "outputs": [],
   "source": [
    "print(\"Regular Logistic Regression\")\n",
    "print(\"P% score for African-American feature: \" + str(p_percent_score(sensitive_column=\"race_African-American\")(clf, X)))\n",
    "print(\"P% score for Caucasian feature: \" + str(p_percent_score(sensitive_column=\"race_Caucasian\")(clf, X)))\n",
    "print(\"P% score for Hispanic feature: \" + str(p_percent_score(sensitive_column=\"race_Hispanic\")(clf, X)))\n",
    "print(\"P% score for Other Race feature: \" + str(p_percent_score(sensitive_column=\"race_Other\")(clf, X)))"
   ]
  },
  {
   "cell_type": "markdown",
   "metadata": {},
   "source": [
    "**Comment**: As we can see there is a slight decrease in accuracy but a significant improvement in all of the p% scores except for the caucasian."
   ]
  },
  {
   "cell_type": "markdown",
   "metadata": {},
   "source": [
    "The Equal Opportunity Classifier optimizes the following function:"
   ]
  },
  {
   "attachments": {
    "equalopt.png": {
     "image/png": "[encoded data removed]"
    }
   },
   "cell_type": "markdown",
   "metadata": {},
   "source": [
    "![equalopt.png](attachment:equalopt.png)"
   ]
  },
  {
   "cell_type": "code",
   "execution_count": null,
   "metadata": {
    "scrolled": true
   },
   "outputs": [],
   "source": [
    "from sklego.linear_model import EqualOpportunityClassifier\n",
    "\n",
    "equal_opt = EqualOpportunityClassifier(sensitive_cols=[\"race_African-American\",\"race_Caucasian\",\"race_Hispanic\",\"race_Other\"], covariance_threshold=0.5,positive_target=True)\n",
    "equal_opt.fit(X_train, y_train)"
   ]
  },
  {
   "cell_type": "code",
   "execution_count": null,
   "metadata": {},
   "outputs": [],
   "source": [
    "equal_opt.predict(X_test)"
   ]
  },
  {
   "cell_type": "code",
   "execution_count": null,
   "metadata": {},
   "outputs": [],
   "source": [
    "# confusion matrices for demo parity classifier\n",
    "SetupMatrix(clf,0)"
   ]
  },
  {
   "cell_type": "code",
   "execution_count": null,
   "metadata": {},
   "outputs": [],
   "source": [
    "print(\"Equal Opportunity Classifier accuracy: \" + str(equal_opt.score(X_test,y_test)))\n",
    "print(\"Regular Logistic Regression Accuracy: \" + str(clf.score(X_test,y_test)))"
   ]
  },
  {
   "cell_type": "code",
   "execution_count": null,
   "metadata": {},
   "outputs": [],
   "source": [
    "print(\"Equal Opportunity Classifier\")\n",
    "print(\"Equal opportunity score for African-American feature: \" + str(equal_opportunity_score(sensitive_column=\"race_African-American\")(equal_opt, X,Y)))\n",
    "print(\"Equal opportunity score for Caucasian feature: \" + str(equal_opportunity_score(sensitive_column=\"race_Caucasian\")(equal_opt, X,Y)))\n",
    "print(\"Equal opportunity score for Hispanic feature: \" + str(equal_opportunity_score(sensitive_column=\"race_Hispanic\")(equal_opt, X,Y)))\n",
    "print(\"Equal opportunity score for Other Race feature: \" + str(equal_opportunity_score(sensitive_column=\"race_Other\")(equal_opt, X,Y)))"
   ]
  },
  {
   "cell_type": "code",
   "execution_count": null,
   "metadata": {},
   "outputs": [],
   "source": [
    "print(\"Regular Logistic Regression\")\n",
    "print(\"Equal opportunity score for African-American feature: \" + str(equal_opportunity_score(sensitive_column=\"race_African-American\")(clf, X,Y)))\n",
    "print(\"Equal opportunity score for Caucasian feature: \" + str(equal_opportunity_score(sensitive_column=\"race_Caucasian\")(clf, X,Y)))\n",
    "print(\"Equal opportunity score for Hispanic feature: \" + str(equal_opportunity_score(sensitive_column=\"race_Hispanic\")(clf, X,Y)))\n",
    "print(\"Equal opportunity score for Other Race feature: \" + str(equal_opportunity_score(sensitive_column=\"race_Other\")(clf, X,Y)))"
   ]
  },
  {
   "cell_type": "markdown",
   "metadata": {},
   "source": [
    "**Comment**: Again using this classifier we get a slight hit on accuracy but we get improved equal opportunity score for every race except the caucasian."
   ]
  }
 ],
 "metadata": {
  "kernelspec": {
   "display_name": "Python 3 (ipykernel)",
   "language": "python",
   "name": "python3"
  },
  "language_info": {
   "codemirror_mode": {
    "name": "ipython",
    "version": 3
   },
   "file_extension": ".py",
   "mimetype": "text/x-python",
   "name": "python",
   "nbconvert_exporter": "python",
   "pygments_lexer": "ipython3",
   "version": "3.10.4"
  }
 },
 "nbformat": 4,
 "nbformat_minor": 4
}
