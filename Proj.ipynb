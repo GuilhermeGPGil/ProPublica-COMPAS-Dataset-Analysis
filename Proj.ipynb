{
 "cells": [
  {
   "cell_type": "markdown",
   "metadata": {},
   "source": [
    "# Course Project\n",
    "\n",
    "## Dataset\n",
    "\n",
    "You will examine the ProPublica COMPAS dataset, which consists of all criminal defendants who were subject to COMPAS screening in Broward County, Florida, during 2013 and 2014. For each defendant, various information fields (‘features’) were also gathered by ProPublica. Broadly, these fields are related to the defendant’s demographic information (e.g., gender and race), criminal history (e.g., the number of prior offenses) and administrative information about the case (e.g., the case number, arrest date, risk of recidivism predicted by the COMPAS tool). Finally, the dataset also contains information about whether the defendant did actually recidivate or not.\n",
    "\n",
    "The COMPAS score uses answers to 137 questions to assign a risk score to defendants -- essentially a probability of re-arrest. The actual output is two-fold: a risk rating of 1-10 and a \"low\", \"medium\", or \"high\" risk label.\n",
    "\n",
    "Link to dataset: https://github.com/propublica/compas-analysis\n",
    "\n",
    "The file we will analyze is: compas-scores-two-years.csv\n",
    "\n",
    "Link to the ProPublica article:\n",
    "\n",
    "https://www.propublica.org/article/machine-bias-risk-assessments-in-criminal-sentencing\n",
    "\n",
    "\n",
    "## Project goal\n",
    "\n",
    "The project has three parts: \n",
    "\n",
    "- The COMPAS scores have been shown to have biases against certain racial groups. Analyze the dataset to highlight these biases.  \n",
    "\n",
    "- Based on the features in the COMPAS dataset, train classifiers to predict who will re-offend (hint: no need to use all features, just the ones you find relevant).  Study if your classifiers are more or less fair than the COMPAS classifier. \n",
    "\n",
    "- Build a fair classifier (last lecture will cover fair classification techniques). Is excluding the race from the feature set enough?\n"
   ]
  },
  {
   "cell_type": "code",
   "execution_count": 4,
   "metadata": {},
   "outputs": [
    {
     "name": "stdout",
     "output_type": "stream",
     "text": [
      "Collecting tensorflow\n",
      "  Downloading tensorflow-2.8.0-cp310-cp310-macosx_10_14_x86_64.whl (217.5 MB)\n",
      "\u001b[2K     \u001b[90m━━━━━━━━━━━━━━━━━━━━━━━━━━━━━━━━━━━━━━━\u001b[0m \u001b[32m217.5/217.5 MB\u001b[0m \u001b[31m2.0 MB/s\u001b[0m eta \u001b[36m0:00:00\u001b[0m00:01\u001b[0m00:01\u001b[0m\n",
      "\u001b[?25hCollecting typing-extensions>=3.6.6\n",
      "  Using cached typing_extensions-4.2.0-py3-none-any.whl (24 kB)\n",
      "Requirement already satisfied: numpy>=1.20 in /Library/Frameworks/Python.framework/Versions/3.10/lib/python3.10/site-packages (from tensorflow) (1.22.3)\n",
      "Collecting libclang>=9.0.1\n",
      "  Using cached libclang-13.0.0-py2.py3-none-macosx_10_9_x86_64.whl (13.0 MB)\n",
      "Collecting tensorboard<2.9,>=2.8\n",
      "  Using cached tensorboard-2.8.0-py3-none-any.whl (5.8 MB)\n",
      "Collecting opt-einsum>=2.3.2\n",
      "  Using cached opt_einsum-3.3.0-py3-none-any.whl (65 kB)\n",
      "Collecting keras-preprocessing>=1.1.1\n",
      "  Using cached Keras_Preprocessing-1.1.2-py2.py3-none-any.whl (42 kB)\n",
      "Collecting wrapt>=1.11.0\n",
      "  Downloading wrapt-1.14.0-cp310-cp310-macosx_10_9_x86_64.whl (35 kB)\n",
      "Requirement already satisfied: setuptools in /Library/Frameworks/Python.framework/Versions/3.10/lib/python3.10/site-packages (from tensorflow) (58.1.0)\n",
      "Collecting tensorflow-io-gcs-filesystem>=0.23.1\n",
      "  Downloading tensorflow_io_gcs_filesystem-0.24.0-cp310-cp310-macosx_10_14_x86_64.whl (1.6 MB)\n",
      "\u001b[2K     \u001b[90m━━━━━━━━━━━━━━━━━━━━━━━━━━━━━━━━━━━━━━━━\u001b[0m \u001b[32m1.6/1.6 MB\u001b[0m \u001b[31m5.6 MB/s\u001b[0m eta \u001b[36m0:00:00\u001b[0m00:01\u001b[0m00:01\u001b[0m\n",
      "\u001b[?25hCollecting flatbuffers>=1.12\n",
      "  Using cached flatbuffers-2.0-py2.py3-none-any.whl (26 kB)\n",
      "Requirement already satisfied: six>=1.12.0 in /Library/Frameworks/Python.framework/Versions/3.10/lib/python3.10/site-packages (from tensorflow) (1.16.0)\n",
      "Collecting gast>=0.2.1\n",
      "  Using cached gast-0.5.3-py3-none-any.whl (19 kB)\n",
      "Collecting grpcio<2.0,>=1.24.3\n",
      "  Downloading grpcio-1.44.0-cp310-cp310-macosx_10_10_universal2.whl (4.1 MB)\n",
      "\u001b[2K     \u001b[90m━━━━━━━━━━━━━━━━━━━━━━━━━━━━━━━━━━━━━━━━\u001b[0m \u001b[32m4.1/4.1 MB\u001b[0m \u001b[31m7.1 MB/s\u001b[0m eta \u001b[36m0:00:00\u001b[0m00:01\u001b[0m00:01\u001b[0m\n",
      "\u001b[?25hCollecting termcolor>=1.1.0\n",
      "  Using cached termcolor-1.1.0.tar.gz (3.9 kB)\n",
      "  Preparing metadata (setup.py) ... \u001b[?25ldone\n",
      "\u001b[?25hCollecting google-pasta>=0.1.1\n",
      "  Using cached google_pasta-0.2.0-py3-none-any.whl (57 kB)\n",
      "Collecting h5py>=2.9.0\n",
      "  Downloading h5py-3.6.0-cp310-cp310-macosx_10_9_x86_64.whl (3.1 MB)\n",
      "\u001b[2K     \u001b[90m━━━━━━━━━━━━━━━━━━━━━━━━━━━━━━━━━━━━━━━━\u001b[0m \u001b[32m3.1/3.1 MB\u001b[0m \u001b[31m5.6 MB/s\u001b[0m eta \u001b[36m0:00:00\u001b[0m00:01\u001b[0m00:01\u001b[0m\n",
      "\u001b[?25hCollecting keras<2.9,>=2.8.0rc0\n",
      "  Using cached keras-2.8.0-py2.py3-none-any.whl (1.4 MB)\n",
      "Collecting protobuf>=3.9.2\n",
      "  Downloading protobuf-3.20.0-cp310-cp310-macosx_10_9_universal2.whl (962 kB)\n",
      "\u001b[2K     \u001b[90m━━━━━━━━━━━━━━━━━━━━━━━━━━━━━━━━━━━━━━━\u001b[0m \u001b[32m962.3/962.3 KB\u001b[0m \u001b[31m4.8 MB/s\u001b[0m eta \u001b[36m0:00:00\u001b[0m00:01\u001b[0m00:01\u001b[0m\n",
      "\u001b[?25hCollecting astunparse>=1.6.0\n",
      "  Using cached astunparse-1.6.3-py2.py3-none-any.whl (12 kB)\n",
      "Collecting absl-py>=0.4.0\n",
      "  Using cached absl_py-1.0.0-py3-none-any.whl (126 kB)\n",
      "Collecting tf-estimator-nightly==2.8.0.dev2021122109\n",
      "  Using cached tf_estimator_nightly-2.8.0.dev2021122109-py2.py3-none-any.whl (462 kB)\n",
      "Collecting wheel<1.0,>=0.23.0\n",
      "  Downloading wheel-0.37.1-py2.py3-none-any.whl (35 kB)\n",
      "Collecting requests<3,>=2.21.0\n",
      "  Using cached requests-2.27.1-py2.py3-none-any.whl (63 kB)\n",
      "Collecting markdown>=2.6.8\n",
      "  Using cached Markdown-3.3.6-py3-none-any.whl (97 kB)\n",
      "Collecting werkzeug>=0.11.15\n",
      "  Using cached Werkzeug-2.1.1-py3-none-any.whl (224 kB)\n",
      "Collecting google-auth-oauthlib<0.5,>=0.4.1\n",
      "  Using cached google_auth_oauthlib-0.4.6-py2.py3-none-any.whl (18 kB)\n",
      "Collecting tensorboard-data-server<0.7.0,>=0.6.0\n",
      "  Using cached tensorboard_data_server-0.6.1-py3-none-macosx_10_9_x86_64.whl (3.5 MB)\n",
      "Collecting google-auth<3,>=1.6.3\n",
      "  Using cached google_auth-2.6.5-py2.py3-none-any.whl (156 kB)\n",
      "Collecting tensorboard-plugin-wit>=1.6.0\n",
      "  Using cached tensorboard_plugin_wit-1.8.1-py3-none-any.whl (781 kB)\n",
      "Collecting pyasn1-modules>=0.2.1\n",
      "  Using cached pyasn1_modules-0.2.8-py2.py3-none-any.whl (155 kB)\n",
      "Collecting rsa<5,>=3.1.4\n",
      "  Using cached rsa-4.8-py3-none-any.whl (39 kB)\n",
      "Collecting cachetools<6.0,>=2.0.0\n",
      "  Using cached cachetools-5.0.0-py3-none-any.whl (9.1 kB)\n",
      "Collecting requests-oauthlib>=0.7.0\n",
      "  Using cached requests_oauthlib-1.3.1-py2.py3-none-any.whl (23 kB)\n",
      "Collecting certifi>=2017.4.17\n",
      "  Using cached certifi-2021.10.8-py2.py3-none-any.whl (149 kB)\n",
      "Collecting charset-normalizer~=2.0.0\n",
      "  Using cached charset_normalizer-2.0.12-py3-none-any.whl (39 kB)\n",
      "Collecting idna<4,>=2.5\n",
      "  Using cached idna-3.3-py3-none-any.whl (61 kB)\n",
      "Collecting urllib3<1.27,>=1.21.1\n",
      "  Using cached urllib3-1.26.9-py2.py3-none-any.whl (138 kB)\n",
      "Collecting pyasn1<0.5.0,>=0.4.6\n",
      "  Using cached pyasn1-0.4.8-py2.py3-none-any.whl (77 kB)\n",
      "Collecting oauthlib>=3.0.0\n",
      "  Using cached oauthlib-3.2.0-py3-none-any.whl (151 kB)\n",
      "Using legacy 'setup.py install' for termcolor, since package 'wheel' is not installed.\n",
      "Installing collected packages: tf-estimator-nightly, termcolor, tensorboard-plugin-wit, pyasn1, libclang, keras, flatbuffers, certifi, wrapt, wheel, werkzeug, urllib3, typing-extensions, tensorflow-io-gcs-filesystem, tensorboard-data-server, rsa, pyasn1-modules, protobuf, opt-einsum, oauthlib, markdown, keras-preprocessing, idna, h5py, grpcio, google-pasta, gast, charset-normalizer, cachetools, absl-py, requests, google-auth, astunparse, requests-oauthlib, google-auth-oauthlib, tensorboard, tensorflow\n",
      "  Running setup.py install for termcolor ... \u001b[?25ldone\n",
      "\u001b[?25hSuccessfully installed absl-py-1.0.0 astunparse-1.6.3 cachetools-5.0.0 certifi-2021.10.8 charset-normalizer-2.0.12 flatbuffers-2.0 gast-0.5.3 google-auth-2.6.5 google-auth-oauthlib-0.4.6 google-pasta-0.2.0 grpcio-1.44.0 h5py-3.6.0 idna-3.3 keras-2.8.0 keras-preprocessing-1.1.2 libclang-13.0.0 markdown-3.3.6 oauthlib-3.2.0 opt-einsum-3.3.0 protobuf-3.20.0 pyasn1-0.4.8 pyasn1-modules-0.2.8 requests-2.27.1 requests-oauthlib-1.3.1 rsa-4.8 tensorboard-2.8.0 tensorboard-data-server-0.6.1 tensorboard-plugin-wit-1.8.1 tensorflow-2.8.0 tensorflow-io-gcs-filesystem-0.24.0 termcolor-1.1.0 tf-estimator-nightly-2.8.0.dev2021122109 typing-extensions-4.2.0 urllib3-1.26.9 werkzeug-2.1.1 wheel-0.37.1 wrapt-1.14.0\n"
     ]
    }
   ],
   "source": [
    "!pip3 install tensorflow\n",
    "# !pip3 install seaborn\n",
    "# !pip3 install sklearn"
   ]
  },
  {
   "cell_type": "markdown",
   "metadata": {},
   "source": [
    "## Download the data\n",
    "\n",
    "We first need to load the data from the ProPublica repo:\n",
    "https://github.com/propublica/compas-analysis\n"
   ]
  },
  {
   "cell_type": "code",
   "execution_count": 5,
   "metadata": {},
   "outputs": [
    {
     "name": "stdout",
     "output_type": "stream",
     "text": [
      "Looking for file '%s' in the current directory... compas-scores-two-years.csv\n",
      "File found in current directory..\n"
     ]
    }
   ],
   "source": [
    "import urllib\n",
    "import os,sys\n",
    "import numpy as np\n",
    "import pandas as pd\n",
    "import matplotlib.pyplot as plt\n",
    "import seaborn as sns\n",
    "from sklearn import feature_extraction\n",
    "from sklearn import preprocessing\n",
    "from sklearn.metrics import accuracy_score,confusion_matrix\n",
    "\n",
    "from random import seed, shuffle\n",
    "#from __future__ import division\n",
    "#from collections import defaultdict\n",
    "#import utils as ut\n",
    "\n",
    "SEED = 1234\n",
    "seed(SEED)\n",
    "np.random.seed(SEED)\n",
    "pd.set_option('display.max_columns', None)\n",
    "def check_data_file(fname):\n",
    "    files = os.listdir(\".\") # get the current directory listing\n",
    "    print(\"Looking for file '%s' in the current directory...\",fname)\n",
    "\n",
    "    if fname not in files:\n",
    "        print(\"'%s' not found! Downloading from GitHub...\",fname)\n",
    "        addr = \"https://raw.githubusercontent.com/propublica/compas-analysis/master/compas-scores-two-years.csv\"\n",
    "        response = urllib.request.urlopen(addr)\n",
    "        data = response.read()\n",
    "        fileOut = open(fname, \"wb\")\n",
    "        fileOut.write(data)\n",
    "        fileOut.close()\n",
    "        print(\"'%s' download and saved locally..\",fname)\n",
    "    else:\n",
    "        print(\"File found in current directory..\")\n",
    "    \n",
    "COMPAS_INPUT_FILE = \"compas-scores-two-years.csv\"\n",
    "check_data_file(COMPAS_INPUT_FILE)  "
   ]
  },
  {
   "cell_type": "markdown",
   "metadata": {},
   "source": [
    "## Load data and clean it up\n",
    "\n",
    "__Load the data__\n",
    "\n",
    "hint: data is in csv format; pandas is a python library that can read csv files\n",
    "\n",
    "you can choose to represent your data either as a DataFrame or as a dictionary\n",
    "\n",
    "- The dataset contains data on how many convicts? \n",
    "\n",
    "- What are the features the dataset contains?\n",
    "\n",
    "hint pandas: check pandas functions shape, column, head\n",
    "\n",
    "hint dictionary: check keys() function\n",
    "\n",
    "__Cleanup the data__\n",
    "\n",
    "- Are there missing values (NaN)? are there outliers?  \n",
    "\n",
    "hint pandas: check isnull function in pandas\n",
    "\n",
    "hint dictionary: implement a for and check if the variable is None\n",
    "\n",
    "- Does ProPublica mentions how to clean the data?  \n",
    "\n",
    "__What is the effect of the following function?__\n",
    "\n",
    "df = pd.read_csv(COMPAS_INPUT_FILE)\n",
    "\n",
    "print(df.shape)\n",
    "\n",
    "df = df.dropna(subset=[\"days_b_screening_arrest\"]) # dropping missing vals\n",
    "\n",
    "df = df[\n",
    "    (df.days_b_screening_arrest <= 30) &  \n",
    "    (df.days_b_screening_arrest >= -30) &  \n",
    "    (df.is_recid != -1) &\n",
    "    (df.c_charge_degree != 'O') &\n",
    "    (df.score_text != 'N/A')\n",
    "]\n",
    "\n",
    "df.reset_index(inplace=True, drop=True) # renumber the rows from 0 again"
   ]
  },
  {
   "cell_type": "code",
   "execution_count": 6,
   "metadata": {},
   "outputs": [
    {
     "data": {
      "text/html": [
       "<div>\n",
       "<style scoped>\n",
       "    .dataframe tbody tr th:only-of-type {\n",
       "        vertical-align: middle;\n",
       "    }\n",
       "\n",
       "    .dataframe tbody tr th {\n",
       "        vertical-align: top;\n",
       "    }\n",
       "\n",
       "    .dataframe thead th {\n",
       "        text-align: right;\n",
       "    }\n",
       "</style>\n",
       "<table border=\"1\" class=\"dataframe\">\n",
       "  <thead>\n",
       "    <tr style=\"text-align: right;\">\n",
       "      <th></th>\n",
       "      <th>id</th>\n",
       "      <th>name</th>\n",
       "      <th>first</th>\n",
       "      <th>last</th>\n",
       "      <th>compas_screening_date</th>\n",
       "      <th>sex</th>\n",
       "      <th>dob</th>\n",
       "      <th>age</th>\n",
       "      <th>age_cat</th>\n",
       "      <th>race</th>\n",
       "      <th>juv_fel_count</th>\n",
       "      <th>decile_score</th>\n",
       "      <th>juv_misd_count</th>\n",
       "      <th>juv_other_count</th>\n",
       "      <th>priors_count</th>\n",
       "      <th>days_b_screening_arrest</th>\n",
       "      <th>c_jail_in</th>\n",
       "      <th>c_jail_out</th>\n",
       "      <th>c_case_number</th>\n",
       "      <th>c_offense_date</th>\n",
       "      <th>c_arrest_date</th>\n",
       "      <th>c_days_from_compas</th>\n",
       "      <th>c_charge_degree</th>\n",
       "      <th>c_charge_desc</th>\n",
       "      <th>is_recid</th>\n",
       "      <th>r_case_number</th>\n",
       "      <th>r_charge_degree</th>\n",
       "      <th>r_days_from_arrest</th>\n",
       "      <th>r_offense_date</th>\n",
       "      <th>r_charge_desc</th>\n",
       "      <th>r_jail_in</th>\n",
       "      <th>r_jail_out</th>\n",
       "      <th>violent_recid</th>\n",
       "      <th>is_violent_recid</th>\n",
       "      <th>vr_case_number</th>\n",
       "      <th>vr_charge_degree</th>\n",
       "      <th>vr_offense_date</th>\n",
       "      <th>vr_charge_desc</th>\n",
       "      <th>type_of_assessment</th>\n",
       "      <th>decile_score.1</th>\n",
       "      <th>score_text</th>\n",
       "      <th>screening_date</th>\n",
       "      <th>v_type_of_assessment</th>\n",
       "      <th>v_decile_score</th>\n",
       "      <th>v_score_text</th>\n",
       "      <th>v_screening_date</th>\n",
       "      <th>in_custody</th>\n",
       "      <th>out_custody</th>\n",
       "      <th>priors_count.1</th>\n",
       "      <th>start</th>\n",
       "      <th>end</th>\n",
       "      <th>event</th>\n",
       "      <th>two_year_recid</th>\n",
       "    </tr>\n",
       "  </thead>\n",
       "  <tbody>\n",
       "    <tr>\n",
       "      <th>0</th>\n",
       "      <td>1</td>\n",
       "      <td>miguel hernandez</td>\n",
       "      <td>miguel</td>\n",
       "      <td>hernandez</td>\n",
       "      <td>2013-08-14</td>\n",
       "      <td>Male</td>\n",
       "      <td>1947-04-18</td>\n",
       "      <td>69</td>\n",
       "      <td>Greater than 45</td>\n",
       "      <td>Other</td>\n",
       "      <td>0</td>\n",
       "      <td>1</td>\n",
       "      <td>0</td>\n",
       "      <td>0</td>\n",
       "      <td>0</td>\n",
       "      <td>-1.0</td>\n",
       "      <td>2013-08-13 06:03:42</td>\n",
       "      <td>2013-08-14 05:41:20</td>\n",
       "      <td>13011352CF10A</td>\n",
       "      <td>2013-08-13</td>\n",
       "      <td>NaN</td>\n",
       "      <td>1.0</td>\n",
       "      <td>F</td>\n",
       "      <td>Aggravated Assault w/Firearm</td>\n",
       "      <td>0</td>\n",
       "      <td>NaN</td>\n",
       "      <td>NaN</td>\n",
       "      <td>NaN</td>\n",
       "      <td>NaN</td>\n",
       "      <td>NaN</td>\n",
       "      <td>NaN</td>\n",
       "      <td>NaN</td>\n",
       "      <td>NaN</td>\n",
       "      <td>0</td>\n",
       "      <td>NaN</td>\n",
       "      <td>NaN</td>\n",
       "      <td>NaN</td>\n",
       "      <td>NaN</td>\n",
       "      <td>Risk of Recidivism</td>\n",
       "      <td>1</td>\n",
       "      <td>Low</td>\n",
       "      <td>2013-08-14</td>\n",
       "      <td>Risk of Violence</td>\n",
       "      <td>1</td>\n",
       "      <td>Low</td>\n",
       "      <td>2013-08-14</td>\n",
       "      <td>2014-07-07</td>\n",
       "      <td>2014-07-14</td>\n",
       "      <td>0</td>\n",
       "      <td>0</td>\n",
       "      <td>327</td>\n",
       "      <td>0</td>\n",
       "      <td>0</td>\n",
       "    </tr>\n",
       "    <tr>\n",
       "      <th>1</th>\n",
       "      <td>3</td>\n",
       "      <td>kevon dixon</td>\n",
       "      <td>kevon</td>\n",
       "      <td>dixon</td>\n",
       "      <td>2013-01-27</td>\n",
       "      <td>Male</td>\n",
       "      <td>1982-01-22</td>\n",
       "      <td>34</td>\n",
       "      <td>25 - 45</td>\n",
       "      <td>African-American</td>\n",
       "      <td>0</td>\n",
       "      <td>3</td>\n",
       "      <td>0</td>\n",
       "      <td>0</td>\n",
       "      <td>0</td>\n",
       "      <td>-1.0</td>\n",
       "      <td>2013-01-26 03:45:27</td>\n",
       "      <td>2013-02-05 05:36:53</td>\n",
       "      <td>13001275CF10A</td>\n",
       "      <td>2013-01-26</td>\n",
       "      <td>NaN</td>\n",
       "      <td>1.0</td>\n",
       "      <td>F</td>\n",
       "      <td>Felony Battery w/Prior Convict</td>\n",
       "      <td>1</td>\n",
       "      <td>13009779CF10A</td>\n",
       "      <td>(F3)</td>\n",
       "      <td>NaN</td>\n",
       "      <td>2013-07-05</td>\n",
       "      <td>Felony Battery (Dom Strang)</td>\n",
       "      <td>NaN</td>\n",
       "      <td>NaN</td>\n",
       "      <td>NaN</td>\n",
       "      <td>1</td>\n",
       "      <td>13009779CF10A</td>\n",
       "      <td>(F3)</td>\n",
       "      <td>2013-07-05</td>\n",
       "      <td>Felony Battery (Dom Strang)</td>\n",
       "      <td>Risk of Recidivism</td>\n",
       "      <td>3</td>\n",
       "      <td>Low</td>\n",
       "      <td>2013-01-27</td>\n",
       "      <td>Risk of Violence</td>\n",
       "      <td>1</td>\n",
       "      <td>Low</td>\n",
       "      <td>2013-01-27</td>\n",
       "      <td>2013-01-26</td>\n",
       "      <td>2013-02-05</td>\n",
       "      <td>0</td>\n",
       "      <td>9</td>\n",
       "      <td>159</td>\n",
       "      <td>1</td>\n",
       "      <td>1</td>\n",
       "    </tr>\n",
       "    <tr>\n",
       "      <th>2</th>\n",
       "      <td>4</td>\n",
       "      <td>ed philo</td>\n",
       "      <td>ed</td>\n",
       "      <td>philo</td>\n",
       "      <td>2013-04-14</td>\n",
       "      <td>Male</td>\n",
       "      <td>1991-05-14</td>\n",
       "      <td>24</td>\n",
       "      <td>Less than 25</td>\n",
       "      <td>African-American</td>\n",
       "      <td>0</td>\n",
       "      <td>4</td>\n",
       "      <td>0</td>\n",
       "      <td>1</td>\n",
       "      <td>4</td>\n",
       "      <td>-1.0</td>\n",
       "      <td>2013-04-13 04:58:34</td>\n",
       "      <td>2013-04-14 07:02:04</td>\n",
       "      <td>13005330CF10A</td>\n",
       "      <td>2013-04-13</td>\n",
       "      <td>NaN</td>\n",
       "      <td>1.0</td>\n",
       "      <td>F</td>\n",
       "      <td>Possession of Cocaine</td>\n",
       "      <td>1</td>\n",
       "      <td>13011511MM10A</td>\n",
       "      <td>(M1)</td>\n",
       "      <td>0.0</td>\n",
       "      <td>2013-06-16</td>\n",
       "      <td>Driving Under The Influence</td>\n",
       "      <td>2013-06-16</td>\n",
       "      <td>2013-06-16</td>\n",
       "      <td>NaN</td>\n",
       "      <td>0</td>\n",
       "      <td>NaN</td>\n",
       "      <td>NaN</td>\n",
       "      <td>NaN</td>\n",
       "      <td>NaN</td>\n",
       "      <td>Risk of Recidivism</td>\n",
       "      <td>4</td>\n",
       "      <td>Low</td>\n",
       "      <td>2013-04-14</td>\n",
       "      <td>Risk of Violence</td>\n",
       "      <td>3</td>\n",
       "      <td>Low</td>\n",
       "      <td>2013-04-14</td>\n",
       "      <td>2013-06-16</td>\n",
       "      <td>2013-06-16</td>\n",
       "      <td>4</td>\n",
       "      <td>0</td>\n",
       "      <td>63</td>\n",
       "      <td>0</td>\n",
       "      <td>1</td>\n",
       "    </tr>\n",
       "    <tr>\n",
       "      <th>3</th>\n",
       "      <td>5</td>\n",
       "      <td>marcu brown</td>\n",
       "      <td>marcu</td>\n",
       "      <td>brown</td>\n",
       "      <td>2013-01-13</td>\n",
       "      <td>Male</td>\n",
       "      <td>1993-01-21</td>\n",
       "      <td>23</td>\n",
       "      <td>Less than 25</td>\n",
       "      <td>African-American</td>\n",
       "      <td>0</td>\n",
       "      <td>8</td>\n",
       "      <td>1</td>\n",
       "      <td>0</td>\n",
       "      <td>1</td>\n",
       "      <td>NaN</td>\n",
       "      <td>NaN</td>\n",
       "      <td>NaN</td>\n",
       "      <td>13000570CF10A</td>\n",
       "      <td>2013-01-12</td>\n",
       "      <td>NaN</td>\n",
       "      <td>1.0</td>\n",
       "      <td>F</td>\n",
       "      <td>Possession of Cannabis</td>\n",
       "      <td>0</td>\n",
       "      <td>NaN</td>\n",
       "      <td>NaN</td>\n",
       "      <td>NaN</td>\n",
       "      <td>NaN</td>\n",
       "      <td>NaN</td>\n",
       "      <td>NaN</td>\n",
       "      <td>NaN</td>\n",
       "      <td>NaN</td>\n",
       "      <td>0</td>\n",
       "      <td>NaN</td>\n",
       "      <td>NaN</td>\n",
       "      <td>NaN</td>\n",
       "      <td>NaN</td>\n",
       "      <td>Risk of Recidivism</td>\n",
       "      <td>8</td>\n",
       "      <td>High</td>\n",
       "      <td>2013-01-13</td>\n",
       "      <td>Risk of Violence</td>\n",
       "      <td>6</td>\n",
       "      <td>Medium</td>\n",
       "      <td>2013-01-13</td>\n",
       "      <td>NaN</td>\n",
       "      <td>NaN</td>\n",
       "      <td>1</td>\n",
       "      <td>0</td>\n",
       "      <td>1174</td>\n",
       "      <td>0</td>\n",
       "      <td>0</td>\n",
       "    </tr>\n",
       "    <tr>\n",
       "      <th>4</th>\n",
       "      <td>6</td>\n",
       "      <td>bouthy pierrelouis</td>\n",
       "      <td>bouthy</td>\n",
       "      <td>pierrelouis</td>\n",
       "      <td>2013-03-26</td>\n",
       "      <td>Male</td>\n",
       "      <td>1973-01-22</td>\n",
       "      <td>43</td>\n",
       "      <td>25 - 45</td>\n",
       "      <td>Other</td>\n",
       "      <td>0</td>\n",
       "      <td>1</td>\n",
       "      <td>0</td>\n",
       "      <td>0</td>\n",
       "      <td>2</td>\n",
       "      <td>NaN</td>\n",
       "      <td>NaN</td>\n",
       "      <td>NaN</td>\n",
       "      <td>12014130CF10A</td>\n",
       "      <td>NaN</td>\n",
       "      <td>2013-01-09</td>\n",
       "      <td>76.0</td>\n",
       "      <td>F</td>\n",
       "      <td>arrest case no charge</td>\n",
       "      <td>0</td>\n",
       "      <td>NaN</td>\n",
       "      <td>NaN</td>\n",
       "      <td>NaN</td>\n",
       "      <td>NaN</td>\n",
       "      <td>NaN</td>\n",
       "      <td>NaN</td>\n",
       "      <td>NaN</td>\n",
       "      <td>NaN</td>\n",
       "      <td>0</td>\n",
       "      <td>NaN</td>\n",
       "      <td>NaN</td>\n",
       "      <td>NaN</td>\n",
       "      <td>NaN</td>\n",
       "      <td>Risk of Recidivism</td>\n",
       "      <td>1</td>\n",
       "      <td>Low</td>\n",
       "      <td>2013-03-26</td>\n",
       "      <td>Risk of Violence</td>\n",
       "      <td>1</td>\n",
       "      <td>Low</td>\n",
       "      <td>2013-03-26</td>\n",
       "      <td>NaN</td>\n",
       "      <td>NaN</td>\n",
       "      <td>2</td>\n",
       "      <td>0</td>\n",
       "      <td>1102</td>\n",
       "      <td>0</td>\n",
       "      <td>0</td>\n",
       "    </tr>\n",
       "  </tbody>\n",
       "</table>\n",
       "</div>"
      ],
      "text/plain": [
       "   id                name   first         last compas_screening_date   sex  \\\n",
       "0   1    miguel hernandez  miguel    hernandez            2013-08-14  Male   \n",
       "1   3         kevon dixon   kevon        dixon            2013-01-27  Male   \n",
       "2   4            ed philo      ed        philo            2013-04-14  Male   \n",
       "3   5         marcu brown   marcu        brown            2013-01-13  Male   \n",
       "4   6  bouthy pierrelouis  bouthy  pierrelouis            2013-03-26  Male   \n",
       "\n",
       "          dob  age          age_cat              race  juv_fel_count  \\\n",
       "0  1947-04-18   69  Greater than 45             Other              0   \n",
       "1  1982-01-22   34          25 - 45  African-American              0   \n",
       "2  1991-05-14   24     Less than 25  African-American              0   \n",
       "3  1993-01-21   23     Less than 25  African-American              0   \n",
       "4  1973-01-22   43          25 - 45             Other              0   \n",
       "\n",
       "   decile_score  juv_misd_count  juv_other_count  priors_count  \\\n",
       "0             1               0                0             0   \n",
       "1             3               0                0             0   \n",
       "2             4               0                1             4   \n",
       "3             8               1                0             1   \n",
       "4             1               0                0             2   \n",
       "\n",
       "   days_b_screening_arrest            c_jail_in           c_jail_out  \\\n",
       "0                     -1.0  2013-08-13 06:03:42  2013-08-14 05:41:20   \n",
       "1                     -1.0  2013-01-26 03:45:27  2013-02-05 05:36:53   \n",
       "2                     -1.0  2013-04-13 04:58:34  2013-04-14 07:02:04   \n",
       "3                      NaN                  NaN                  NaN   \n",
       "4                      NaN                  NaN                  NaN   \n",
       "\n",
       "   c_case_number c_offense_date c_arrest_date  c_days_from_compas  \\\n",
       "0  13011352CF10A     2013-08-13           NaN                 1.0   \n",
       "1  13001275CF10A     2013-01-26           NaN                 1.0   \n",
       "2  13005330CF10A     2013-04-13           NaN                 1.0   \n",
       "3  13000570CF10A     2013-01-12           NaN                 1.0   \n",
       "4  12014130CF10A            NaN    2013-01-09                76.0   \n",
       "\n",
       "  c_charge_degree                   c_charge_desc  is_recid  r_case_number  \\\n",
       "0               F    Aggravated Assault w/Firearm         0            NaN   \n",
       "1               F  Felony Battery w/Prior Convict         1  13009779CF10A   \n",
       "2               F           Possession of Cocaine         1  13011511MM10A   \n",
       "3               F          Possession of Cannabis         0            NaN   \n",
       "4               F           arrest case no charge         0            NaN   \n",
       "\n",
       "  r_charge_degree  r_days_from_arrest r_offense_date  \\\n",
       "0             NaN                 NaN            NaN   \n",
       "1            (F3)                 NaN     2013-07-05   \n",
       "2            (M1)                 0.0     2013-06-16   \n",
       "3             NaN                 NaN            NaN   \n",
       "4             NaN                 NaN            NaN   \n",
       "\n",
       "                 r_charge_desc   r_jail_in  r_jail_out  violent_recid  \\\n",
       "0                          NaN         NaN         NaN            NaN   \n",
       "1  Felony Battery (Dom Strang)         NaN         NaN            NaN   \n",
       "2  Driving Under The Influence  2013-06-16  2013-06-16            NaN   \n",
       "3                          NaN         NaN         NaN            NaN   \n",
       "4                          NaN         NaN         NaN            NaN   \n",
       "\n",
       "   is_violent_recid vr_case_number vr_charge_degree vr_offense_date  \\\n",
       "0                 0            NaN              NaN             NaN   \n",
       "1                 1  13009779CF10A             (F3)      2013-07-05   \n",
       "2                 0            NaN              NaN             NaN   \n",
       "3                 0            NaN              NaN             NaN   \n",
       "4                 0            NaN              NaN             NaN   \n",
       "\n",
       "                vr_charge_desc  type_of_assessment  decile_score.1 score_text  \\\n",
       "0                          NaN  Risk of Recidivism               1        Low   \n",
       "1  Felony Battery (Dom Strang)  Risk of Recidivism               3        Low   \n",
       "2                          NaN  Risk of Recidivism               4        Low   \n",
       "3                          NaN  Risk of Recidivism               8       High   \n",
       "4                          NaN  Risk of Recidivism               1        Low   \n",
       "\n",
       "  screening_date v_type_of_assessment  v_decile_score v_score_text  \\\n",
       "0     2013-08-14     Risk of Violence               1          Low   \n",
       "1     2013-01-27     Risk of Violence               1          Low   \n",
       "2     2013-04-14     Risk of Violence               3          Low   \n",
       "3     2013-01-13     Risk of Violence               6       Medium   \n",
       "4     2013-03-26     Risk of Violence               1          Low   \n",
       "\n",
       "  v_screening_date  in_custody out_custody  priors_count.1  start   end  \\\n",
       "0       2013-08-14  2014-07-07  2014-07-14               0      0   327   \n",
       "1       2013-01-27  2013-01-26  2013-02-05               0      9   159   \n",
       "2       2013-04-14  2013-06-16  2013-06-16               4      0    63   \n",
       "3       2013-01-13         NaN         NaN               1      0  1174   \n",
       "4       2013-03-26         NaN         NaN               2      0  1102   \n",
       "\n",
       "   event  two_year_recid  \n",
       "0      0               0  \n",
       "1      1               1  \n",
       "2      0               1  \n",
       "3      0               0  \n",
       "4      0               0  "
      ]
     },
     "execution_count": 6,
     "metadata": {},
     "output_type": "execute_result"
    }
   ],
   "source": [
    "df = pd.read_csv(COMPAS_INPUT_FILE)\n",
    "df.head()"
   ]
  },
  {
   "cell_type": "markdown",
   "metadata": {},
   "source": [
    "## Basic analysis of demographics\n",
    "\n",
    "- **What are the different races present in the dataset?** "
   ]
  },
  {
   "cell_type": "code",
   "execution_count": 7,
   "metadata": {},
   "outputs": [
    {
     "data": {
      "text/plain": [
       "['Other',\n",
       " 'African-American',\n",
       " 'Caucasian',\n",
       " 'Hispanic',\n",
       " 'Native American',\n",
       " 'Asian']"
      ]
     },
     "execution_count": 7,
     "metadata": {},
     "output_type": "execute_result"
    }
   ],
   "source": [
    "df[\"race\"].unique().tolist()"
   ]
  },
  {
   "cell_type": "markdown",
   "metadata": {},
   "source": [
    "- **What is the number of people by age category?**"
   ]
  },
  {
   "cell_type": "code",
   "execution_count": 8,
   "metadata": {},
   "outputs": [
    {
     "data": {
      "text/plain": [
       "age_cat\n",
       "25 - 45            4109\n",
       "Greater than 45    1576\n",
       "Less than 25       1529\n",
       "dtype: int64"
      ]
     },
     "execution_count": 8,
     "metadata": {},
     "output_type": "execute_result"
    }
   ],
   "source": [
    "df.groupby(\"age_cat\").size()"
   ]
  },
  {
   "cell_type": "markdown",
   "metadata": {},
   "source": [
    "- **What is the number of people by COMPAS score (decile_score)?**"
   ]
  },
  {
   "cell_type": "code",
   "execution_count": 9,
   "metadata": {},
   "outputs": [
    {
     "data": {
      "text/plain": [
       "decile_score\n",
       "1     1440\n",
       "2      941\n",
       "3      747\n",
       "4      769\n",
       "5      681\n",
       "6      641\n",
       "7      592\n",
       "8      512\n",
       "9      508\n",
       "10     383\n",
       "dtype: int64"
      ]
     },
     "execution_count": 9,
     "metadata": {},
     "output_type": "execute_result"
    }
   ],
   "source": [
    "df.groupby(\"decile_score\").size()"
   ]
  },
  {
   "cell_type": "markdown",
   "metadata": {},
   "source": [
    "- **What is the number of people by race?**"
   ]
  },
  {
   "cell_type": "code",
   "execution_count": 10,
   "metadata": {},
   "outputs": [
    {
     "data": {
      "text/plain": [
       "race\n",
       "African-American    3696\n",
       "Asian                 32\n",
       "Caucasian           2454\n",
       "Hispanic             637\n",
       "Native American       18\n",
       "Other                377\n",
       "dtype: int64"
      ]
     },
     "execution_count": 10,
     "metadata": {},
     "output_type": "execute_result"
    }
   ],
   "source": [
    "df.groupby(\"race\").size()"
   ]
  },
  {
   "cell_type": "markdown",
   "metadata": {},
   "source": [
    "- **What is the number of people by COMPAS risk category (score_text)?**"
   ]
  },
  {
   "cell_type": "code",
   "execution_count": 11,
   "metadata": {},
   "outputs": [
    {
     "data": {
      "text/plain": [
       "score_text\n",
       "High      1403\n",
       "Low       3897\n",
       "Medium    1914\n",
       "dtype: int64"
      ]
     },
     "execution_count": 11,
     "metadata": {},
     "output_type": "execute_result"
    }
   ],
   "source": [
    "df.groupby(\"score_text\").size()"
   ]
  },
  {
   "cell_type": "markdown",
   "metadata": {},
   "source": [
    "## Basic investigations of gender and race bias in COMPAS scores\n",
    "\n",
    "*decile_score -- is the score given by the COMPAS algorithm that estimates the risk to re-offend.*\n",
    "\n",
    "*score_text -- is the level of risk: Low, Medium, High*\n",
    "\n",
    "*two_years_recid -- is the ground truth data on whether the offender recidivated or not* "
   ]
  },
  {
   "cell_type": "markdown",
   "metadata": {},
   "source": [
    "- **What is the mean COMPAS score (decile_score) per race and gender?** "
   ]
  },
  {
   "cell_type": "code",
   "execution_count": 12,
   "metadata": {},
   "outputs": [
    {
     "name": "stdout",
     "output_type": "stream",
     "text": [
      "race              sex   \n",
      "African-American  Female    4.757669\n",
      "                  Male      5.499671\n",
      "Asian             Female    2.000000\n",
      "                  Male      3.000000\n",
      "Caucasian         Female    3.897707\n",
      "                  Male      3.686275\n",
      "Hispanic          Female    2.883495\n",
      "                  Male      3.574906\n",
      "Native American   Female    6.500000\n",
      "                  Male      6.071429\n",
      "Other             Female    2.701493\n",
      "                  Male      3.003226\n",
      "Name: decile_score, dtype: float64\n"
     ]
    }
   ],
   "source": [
    "print(df.groupby([\"race\",\"sex\"]).mean()[\"decile_score\"])"
   ]
  },
  {
   "cell_type": "markdown",
   "metadata": {},
   "source": [
    "**Comment**: Since there are only 11 Native American people in this data set we think we should disregard them. The same applies to the Asian group, we think there are simply not enough Asian people in order to have an unbiased estimator for Asian people. For this reason, we will remove the categories \"Native American\" and \"Asian\" and place these samples in the category \"Other\". For all races we can clearly see there is more data for male than there are for female so we will have to deal with this lack of balance in some way."
   ]
  },
  {
   "cell_type": "code",
   "execution_count": 13,
   "metadata": {},
   "outputs": [],
   "source": [
    "df.loc[(df.race == 'Asian'),'race']='Other'\n",
    "df.loc[(df.race == 'Native American'),'race']='Other'"
   ]
  },
  {
   "cell_type": "markdown",
   "metadata": {},
   "source": [
    "- **What is the distribution (histogram) of decile_score per race and gender?**"
   ]
  },
  {
   "cell_type": "code",
   "execution_count": 14,
   "metadata": {},
   "outputs": [
    {
     "data": {
      "image/png": "[encoded data removed]",
      "text/plain": [
       "<Figure size 792x864 with 9 Axes>"
      ]
     },
     "metadata": {
      "needs_background": "light"
     },
     "output_type": "display_data"
    }
   ],
   "source": [
    "df.hist(column='decile_score', by=[\"race\",\"sex\"],figsize = (11,12));\n",
    "plt.show()"
   ]
  },
  {
   "cell_type": "markdown",
   "metadata": {},
   "source": [
    "**Comment**: As we can see there seems to be a bias towards African American people since the histogram distribution on this race is a lot more evenly distributed when compared to the other races histograms (we can observe a higher percentage of higher scores in the African American race). For the other races we can clearly see that the  histogram is a lot more squewed to lower values. This applies both for men and women."
   ]
  },
  {
   "cell_type": "markdown",
   "metadata": {},
   "source": [
    "*The two_year_recid field records whether or not each person was re-arrested for a violent offense within two years, which is what COMPAS is trying to predict.*\n",
    "\n",
    "- **How many people were re-arrested?** \n",
    "\n"
   ]
  },
  {
   "cell_type": "code",
   "execution_count": 15,
   "metadata": {},
   "outputs": [
    {
     "name": "stdout",
     "output_type": "stream",
     "text": [
      "Number of Re-arrests: 3251\n"
     ]
    }
   ],
   "source": [
    "rearrested = df[df[\"two_year_recid\"]==1]\n",
    "print(\"Number of Re-arrests:\", len(rearrested.index))"
   ]
  },
  {
   "cell_type": "markdown",
   "metadata": {},
   "source": [
    "- **Compute the recidivism (i.e., people that got re-arrested) rates by race and gender**"
   ]
  },
  {
   "cell_type": "code",
   "execution_count": 16,
   "metadata": {},
   "outputs": [
    {
     "data": {
      "image/png": "[encoded data removed]",
      "text/plain": [
       "<Figure size 216x216 with 1 Axes>"
      ]
     },
     "metadata": {},
     "output_type": "display_data"
    },
    {
     "data": {
      "image/png": "[encoded data removed]",
      "text/plain": [
       "<Figure size 216x216 with 1 Axes>"
      ]
     },
     "metadata": {},
     "output_type": "display_data"
    },
    {
     "data": {
      "image/png": "[encoded data removed]",
      "text/plain": [
       "<Figure size 216x216 with 1 Axes>"
      ]
     },
     "metadata": {},
     "output_type": "display_data"
    },
    {
     "data": {
      "image/png": "[encoded data removed]",
      "text/plain": [
       "<Figure size 216x216 with 1 Axes>"
      ]
     },
     "metadata": {},
     "output_type": "display_data"
    },
    {
     "data": {
      "image/png": "[encoded data removed]",
      "text/plain": [
       "<Figure size 216x216 with 1 Axes>"
      ]
     },
     "metadata": {},
     "output_type": "display_data"
    },
    {
     "data": {
      "image/png": "[encoded data removed]",
      "text/plain": [
       "<Figure size 216x216 with 1 Axes>"
      ]
     },
     "metadata": {},
     "output_type": "display_data"
    }
   ],
   "source": [
    "races = df[\"race\"].unique().tolist()\n",
    "\n",
    "for race in races:\n",
    "    df.loc[df['race'] == race].groupby([\"race\",\"two_year_recid\"]).size().plot(kind = \"pie\", subplots=True , title = \"Re-arrested rate by race\",autopct='%1.0f%%',label =\"\", figsize=(3,3)) \n",
    "    plt.show()\n",
    "    \n",
    "df.loc[df['sex'] == \"Male\"].groupby([\"sex\",\"two_year_recid\"]).size().plot(kind = \"pie\", subplots=True , title = \"Re-arrested rate by race\",autopct='%1.0f%%',label =\"\", figsize=(3,3)) \n",
    "plt.show()\n",
    "\n",
    "df.loc[df['sex'] == \"Female\"].groupby([\"sex\",\"two_year_recid\"]).size().plot(kind = \"pie\", subplots=True , title = \"Re-arrested rate by race\",autopct='%1.0f%%',label =\"\", figsize=(3,3)) \n",
    "plt.show()\n",
    "    \n",
    "    \n",
    "#try bar chart later"
   ]
  },
  {
   "cell_type": "code",
   "execution_count": 17,
   "metadata": {},
   "outputs": [
    {
     "data": {
      "image/png": "[encoded data removed]",
      "text/plain": [
       "<Figure size 432x288 with 1 Axes>"
      ]
     },
     "metadata": {
      "needs_background": "light"
     },
     "output_type": "display_data"
    }
   ],
   "source": [
    "races_names = list(df[\"race\"].unique().tolist())\n",
    "races_size = list(df.groupby(\"race\").size())\n",
    "\n",
    "plt.bar(races_names, races_size)\n",
    "plt.show()"
   ]
  },
  {
   "cell_type": "code",
   "execution_count": 18,
   "metadata": {},
   "outputs": [
    {
     "name": "stderr",
     "output_type": "stream",
     "text": [
      "/var/folders/pw/jjnmx4s55hg56b5d2ng8cql00000gn/T/ipykernel_77448/368411507.py:9: SettingWithCopyWarning: \n",
      "A value is trying to be set on a copy of a slice from a DataFrame.\n",
      "Try using .loc[row_indexer,col_indexer] = value instead\n",
      "\n",
      "See the caveats in the documentation: https://pandas.pydata.org/pandas-docs/stable/user_guide/indexing.html#returning-a-view-versus-a-copy\n",
      "  dfr['pred_is_recid'] = dfr.apply (lambda row: is_recid(row), axis=1)\n"
     ]
    },
    {
     "data": {
      "text/html": [
       "<div>\n",
       "<style scoped>\n",
       "    .dataframe tbody tr th:only-of-type {\n",
       "        vertical-align: middle;\n",
       "    }\n",
       "\n",
       "    .dataframe tbody tr th {\n",
       "        vertical-align: top;\n",
       "    }\n",
       "\n",
       "    .dataframe thead th {\n",
       "        text-align: right;\n",
       "    }\n",
       "</style>\n",
       "<table border=\"1\" class=\"dataframe\">\n",
       "  <thead>\n",
       "    <tr style=\"text-align: right;\">\n",
       "      <th></th>\n",
       "      <th>decile_score</th>\n",
       "      <th>two_year_recid</th>\n",
       "      <th>sex</th>\n",
       "      <th>race</th>\n",
       "      <th>pred_is_recid</th>\n",
       "    </tr>\n",
       "  </thead>\n",
       "  <tbody>\n",
       "    <tr>\n",
       "      <th>0</th>\n",
       "      <td>1</td>\n",
       "      <td>0</td>\n",
       "      <td>Male</td>\n",
       "      <td>Other</td>\n",
       "      <td>0</td>\n",
       "    </tr>\n",
       "    <tr>\n",
       "      <th>1</th>\n",
       "      <td>3</td>\n",
       "      <td>1</td>\n",
       "      <td>Male</td>\n",
       "      <td>African-American</td>\n",
       "      <td>0</td>\n",
       "    </tr>\n",
       "    <tr>\n",
       "      <th>2</th>\n",
       "      <td>4</td>\n",
       "      <td>1</td>\n",
       "      <td>Male</td>\n",
       "      <td>African-American</td>\n",
       "      <td>0</td>\n",
       "    </tr>\n",
       "    <tr>\n",
       "      <th>3</th>\n",
       "      <td>8</td>\n",
       "      <td>0</td>\n",
       "      <td>Male</td>\n",
       "      <td>African-American</td>\n",
       "      <td>1</td>\n",
       "    </tr>\n",
       "    <tr>\n",
       "      <th>4</th>\n",
       "      <td>1</td>\n",
       "      <td>0</td>\n",
       "      <td>Male</td>\n",
       "      <td>Other</td>\n",
       "      <td>0</td>\n",
       "    </tr>\n",
       "  </tbody>\n",
       "</table>\n",
       "</div>"
      ],
      "text/plain": [
       "   decile_score  two_year_recid   sex              race  pred_is_recid\n",
       "0             1               0  Male             Other              0\n",
       "1             3               1  Male  African-American              0\n",
       "2             4               1  Male  African-American              0\n",
       "3             8               0  Male  African-American              1\n",
       "4             1               0  Male             Other              0"
      ]
     },
     "execution_count": 18,
     "metadata": {},
     "output_type": "execute_result"
    }
   ],
   "source": [
    "dfr = df[[\"decile_score\",\"two_year_recid\",\"sex\",\"race\"]]\n",
    "\n",
    "def is_recid(row):\n",
    "    if(row[\"decile_score\"] >= 5):\n",
    "        return 1\n",
    "    else:\n",
    "        return 0\n",
    "    \n",
    "dfr['pred_is_recid'] = dfr.apply (lambda row: is_recid(row), axis=1)\n",
    "dfr.head()\n"
   ]
  },
  {
   "cell_type": "markdown",
   "metadata": {},
   "source": [
    "**Comment**: We consider any decile scores equal or above 5 to be a positive recidivism prediction since the decile score goes from 1 to 10."
   ]
  },
  {
   "cell_type": "markdown",
   "metadata": {},
   "source": [
    "- **What is the accuracy of the COMPAS scores to predict recidivism**"
   ]
  },
  {
   "cell_type": "code",
   "execution_count": 19,
   "metadata": {},
   "outputs": [
    {
     "data": {
      "text/plain": [
       "0.6537288605489326"
      ]
     },
     "execution_count": 19,
     "metadata": {},
     "output_type": "execute_result"
    }
   ],
   "source": [
    "accuracy_score(dfr[\"two_year_recid\"], dfr[\"pred_is_recid\"])"
   ]
  },
  {
   "cell_type": "markdown",
   "metadata": {},
   "source": [
    "- **Is the accuracy higher/lower if we look at particular races/genders?**"
   ]
  },
  {
   "cell_type": "code",
   "execution_count": 20,
   "metadata": {},
   "outputs": [
    {
     "name": "stdout",
     "output_type": "stream",
     "text": [
      "Accuracy for Other is 0.6838407494145199\n",
      "Accuracy for African-American is 0.6382575757575758\n",
      "Accuracy for Caucasian is 0.6699266503667481\n",
      "Accuracy for Hispanic is 0.6609105180533752\n",
      "Accuracy for Male is 0.6537205705447672\n",
      "Accuracy for Female is 0.6537634408602151\n"
     ]
    }
   ],
   "source": [
    "races = df[\"race\"].unique().tolist()\n",
    "genders = [\"Male\",\"Female\"]\n",
    "for race in races:\n",
    "    aux_df = dfr.loc[dfr['race'] == race]\n",
    "    acc = accuracy_score(aux_df[\"two_year_recid\"], aux_df[\"pred_is_recid\"])\n",
    "    print(\"Accuracy for {race} is {acc}\".format(race = race, acc = acc))\n",
    "\n",
    "for sex in genders:\n",
    "    aux_df = dfr.loc[dfr['sex'] == sex]\n",
    "    acc = accuracy_score(aux_df[\"two_year_recid\"], aux_df[\"pred_is_recid\"])\n",
    "    print(\"Accuracy for {sex} is {acc}\".format(sex = sex, acc = acc))"
   ]
  },
  {
   "cell_type": "markdown",
   "metadata": {},
   "source": [
    "**Comment**: The accuracy seems to be lower for African-Americans than for any other race, which might indicate the existence of some bias. As for gender, both accuracies are extremely similar."
   ]
  },
  {
   "cell_type": "markdown",
   "metadata": {},
   "source": [
    "- **What about false positives and false negatives?**"
   ]
  },
  {
   "cell_type": "code",
   "execution_count": 21,
   "metadata": {},
   "outputs": [],
   "source": [
    "def makeCM (dfr,label):\n",
    "    cf_matrix = confusion_matrix(dfr[\"two_year_recid\"], dfr[\"pred_is_recid\"])\n",
    "\n",
    "    group_names = ['True Neg','False Pos','False Neg','True Pos']\n",
    "\n",
    "    group_counts = [\"{0:0.0f}\".format(value) for value in\n",
    "                    cf_matrix.flatten()]\n",
    "\n",
    "    group_percentages = [\"{0:.2%}\".format(value) for value in\n",
    "                         cf_matrix.flatten()/np.sum(cf_matrix)]\n",
    "\n",
    "    labels = [f\"{v1}\\n{v2}\\n{v3}\" for v1, v2, v3 in\n",
    "              zip(group_names,group_counts,group_percentages)]\n",
    "\n",
    "    labels = np.asarray(labels).reshape(2,2)\n",
    "\n",
    "    ax = sns.heatmap(cf_matrix, annot=labels, fmt='', cmap='Blues')\n",
    "\n",
    "    ax.set_title('Confusion Matrix for ' + label);\n",
    "    ax.set_xlabel('\\nPredicted Values')\n",
    "    ax.set_ylabel('Actual Values ');\n",
    "\n",
    "    ## Ticket labels - List must be in alphabetical order\n",
    "    ax.xaxis.set_ticklabels(['False','True'])\n",
    "    ax.yaxis.set_ticklabels(['False','True'])\n",
    "\n",
    "    ## Display the visualization of the Confusion Matrix.\n",
    "    plt.show()"
   ]
  },
  {
   "cell_type": "code",
   "execution_count": 22,
   "metadata": {},
   "outputs": [
    {
     "data": {
      "image/png": "[encoded data removed]",
      "text/plain": [
       "<Figure size 432x288 with 2 Axes>"
      ]
     },
     "metadata": {
      "needs_background": "light"
     },
     "output_type": "display_data"
    },
    {
     "data": {
      "image/png": "[encoded data removed]",
      "text/plain": [
       "<Figure size 432x288 with 2 Axes>"
      ]
     },
     "metadata": {
      "needs_background": "light"
     },
     "output_type": "display_data"
    },
    {
     "data": {
      "image/png": "[encoded data removed]",
      "text/plain": [
       "<Figure size 432x288 with 2 Axes>"
      ]
     },
     "metadata": {
      "needs_background": "light"
     },
     "output_type": "display_data"
    },
    {
     "data": {
      "image/png": "[encoded data removed]",
      "text/plain": [
       "<Figure size 432x288 with 2 Axes>"
      ]
     },
     "metadata": {
      "needs_background": "light"
     },
     "output_type": "display_data"
    },
    {
     "data": {
      "image/png": "[encoded data removed]",
      "text/plain": [
       "<Figure size 432x288 with 2 Axes>"
      ]
     },
     "metadata": {
      "needs_background": "light"
     },
     "output_type": "display_data"
    },
    {
     "data": {
      "image/png": "[encoded data removed]",
      "text/plain": [
       "<Figure size 432x288 with 2 Axes>"
      ]
     },
     "metadata": {
      "needs_background": "light"
     },
     "output_type": "display_data"
    }
   ],
   "source": [
    "races = df[\"race\"].unique().tolist()\n",
    "genders = [\"Male\",\"Female\"]\n",
    "for race in races:\n",
    "    aux_df = dfr.loc[dfr['race'] == race]\n",
    "    makeCM(aux_df,race)  \n",
    "\n",
    "for sex in genders:\n",
    "    aux_df = dfr.loc[dfr['sex'] == sex]\n",
    "    makeCM(aux_df,sex)"
   ]
  },
  {
   "cell_type": "markdown",
   "metadata": {},
   "source": [
    "**Comment**: From the confusion matrices we can see that the false positive rate is highest among African-Americans indicating that there's a bias against them. The opposite can be found for the other races. The False Negatives is then lower for African-Americans than for other races meaning that the model does a bad job at identifying people that will recomit a crime if they are not African-American."
   ]
  },
  {
   "cell_type": "markdown",
   "metadata": {},
   "source": [
    "# Choosing Features"
   ]
  },
  {
   "cell_type": "markdown",
   "metadata": {},
   "source": [
    "**Comment**: Below we choose what features to use when training our algorithms. We have chosen to use:\n",
    "- **Sex**: Female, male\n",
    "- **Age category**: (<25, 25-45, >45 years) \n",
    "- **Charge degree**: Misdemeanors, felony\n",
    "- **Race**: African american, caucasian, hispanic and others (including asian and native american since we have too little data to analyze these races independently)\n",
    "- **Priors count**: Number of earlier crimes\n",
    "- **Juvenile mesdemeanor count**: Number of juvenile crimes, misdemeanors\n",
    "- **Juvenile felony count**: Number of juvenile crimes, felonies\n",
    "- **Juvenile other count**: Number of juvenile crimes, neither misdemanors nor felonies\n",
    "- **Two years recid**: Ground truth\n",
    "\n",
    "Features like e.g. names and dates are not being used since we do not consider them interesting for the prediction. \n",
    "\n",
    "We also make all features numerical (using the function \"OneHotEncoder\") since some algorithms for classifying can only handle numerical data. "
   ]
  },
  {
   "cell_type": "code",
   "execution_count": 23,
   "metadata": {},
   "outputs": [],
   "source": [
    "dfa = df[[\"sex\",\"age_cat\",\"race\",\"priors_count\",\"two_year_recid\",\"juv_misd_count\",\"juv_fel_count\",\"juv_other_count\",\"c_charge_degree\"]]"
   ]
  },
  {
   "cell_type": "code",
   "execution_count": 24,
   "metadata": {},
   "outputs": [
    {
     "data": {
      "text/html": [
       "<div>\n",
       "<style scoped>\n",
       "    .dataframe tbody tr th:only-of-type {\n",
       "        vertical-align: middle;\n",
       "    }\n",
       "\n",
       "    .dataframe tbody tr th {\n",
       "        vertical-align: top;\n",
       "    }\n",
       "\n",
       "    .dataframe thead th {\n",
       "        text-align: right;\n",
       "    }\n",
       "</style>\n",
       "<table border=\"1\" class=\"dataframe\">\n",
       "  <thead>\n",
       "    <tr style=\"text-align: right;\">\n",
       "      <th></th>\n",
       "      <th>sex</th>\n",
       "      <th>age_cat</th>\n",
       "      <th>race</th>\n",
       "      <th>priors_count</th>\n",
       "      <th>two_year_recid</th>\n",
       "      <th>juv_misd_count</th>\n",
       "      <th>juv_fel_count</th>\n",
       "      <th>juv_other_count</th>\n",
       "      <th>c_charge_degree</th>\n",
       "    </tr>\n",
       "  </thead>\n",
       "  <tbody>\n",
       "    <tr>\n",
       "      <th>0</th>\n",
       "      <td>Male</td>\n",
       "      <td>Greater than 45</td>\n",
       "      <td>Other</td>\n",
       "      <td>0</td>\n",
       "      <td>0</td>\n",
       "      <td>0</td>\n",
       "      <td>0</td>\n",
       "      <td>0</td>\n",
       "      <td>F</td>\n",
       "    </tr>\n",
       "    <tr>\n",
       "      <th>1</th>\n",
       "      <td>Male</td>\n",
       "      <td>25 - 45</td>\n",
       "      <td>African-American</td>\n",
       "      <td>0</td>\n",
       "      <td>1</td>\n",
       "      <td>0</td>\n",
       "      <td>0</td>\n",
       "      <td>0</td>\n",
       "      <td>F</td>\n",
       "    </tr>\n",
       "    <tr>\n",
       "      <th>2</th>\n",
       "      <td>Male</td>\n",
       "      <td>Less than 25</td>\n",
       "      <td>African-American</td>\n",
       "      <td>4</td>\n",
       "      <td>1</td>\n",
       "      <td>0</td>\n",
       "      <td>0</td>\n",
       "      <td>1</td>\n",
       "      <td>F</td>\n",
       "    </tr>\n",
       "    <tr>\n",
       "      <th>3</th>\n",
       "      <td>Male</td>\n",
       "      <td>Less than 25</td>\n",
       "      <td>African-American</td>\n",
       "      <td>1</td>\n",
       "      <td>0</td>\n",
       "      <td>1</td>\n",
       "      <td>0</td>\n",
       "      <td>0</td>\n",
       "      <td>F</td>\n",
       "    </tr>\n",
       "    <tr>\n",
       "      <th>4</th>\n",
       "      <td>Male</td>\n",
       "      <td>25 - 45</td>\n",
       "      <td>Other</td>\n",
       "      <td>2</td>\n",
       "      <td>0</td>\n",
       "      <td>0</td>\n",
       "      <td>0</td>\n",
       "      <td>0</td>\n",
       "      <td>F</td>\n",
       "    </tr>\n",
       "    <tr>\n",
       "      <th>...</th>\n",
       "      <td>...</td>\n",
       "      <td>...</td>\n",
       "      <td>...</td>\n",
       "      <td>...</td>\n",
       "      <td>...</td>\n",
       "      <td>...</td>\n",
       "      <td>...</td>\n",
       "      <td>...</td>\n",
       "      <td>...</td>\n",
       "    </tr>\n",
       "    <tr>\n",
       "      <th>7209</th>\n",
       "      <td>Male</td>\n",
       "      <td>Less than 25</td>\n",
       "      <td>African-American</td>\n",
       "      <td>0</td>\n",
       "      <td>0</td>\n",
       "      <td>0</td>\n",
       "      <td>0</td>\n",
       "      <td>0</td>\n",
       "      <td>F</td>\n",
       "    </tr>\n",
       "    <tr>\n",
       "      <th>7210</th>\n",
       "      <td>Male</td>\n",
       "      <td>Less than 25</td>\n",
       "      <td>African-American</td>\n",
       "      <td>0</td>\n",
       "      <td>0</td>\n",
       "      <td>0</td>\n",
       "      <td>0</td>\n",
       "      <td>0</td>\n",
       "      <td>F</td>\n",
       "    </tr>\n",
       "    <tr>\n",
       "      <th>7211</th>\n",
       "      <td>Male</td>\n",
       "      <td>Greater than 45</td>\n",
       "      <td>Other</td>\n",
       "      <td>0</td>\n",
       "      <td>0</td>\n",
       "      <td>0</td>\n",
       "      <td>0</td>\n",
       "      <td>0</td>\n",
       "      <td>F</td>\n",
       "    </tr>\n",
       "    <tr>\n",
       "      <th>7212</th>\n",
       "      <td>Female</td>\n",
       "      <td>25 - 45</td>\n",
       "      <td>African-American</td>\n",
       "      <td>3</td>\n",
       "      <td>0</td>\n",
       "      <td>0</td>\n",
       "      <td>0</td>\n",
       "      <td>0</td>\n",
       "      <td>M</td>\n",
       "    </tr>\n",
       "    <tr>\n",
       "      <th>7213</th>\n",
       "      <td>Female</td>\n",
       "      <td>Less than 25</td>\n",
       "      <td>Hispanic</td>\n",
       "      <td>2</td>\n",
       "      <td>1</td>\n",
       "      <td>0</td>\n",
       "      <td>0</td>\n",
       "      <td>0</td>\n",
       "      <td>F</td>\n",
       "    </tr>\n",
       "  </tbody>\n",
       "</table>\n",
       "<p>7214 rows × 9 columns</p>\n",
       "</div>"
      ],
      "text/plain": [
       "         sex          age_cat              race  priors_count  two_year_recid  \\\n",
       "0       Male  Greater than 45             Other             0               0   \n",
       "1       Male          25 - 45  African-American             0               1   \n",
       "2       Male     Less than 25  African-American             4               1   \n",
       "3       Male     Less than 25  African-American             1               0   \n",
       "4       Male          25 - 45             Other             2               0   \n",
       "...      ...              ...               ...           ...             ...   \n",
       "7209    Male     Less than 25  African-American             0               0   \n",
       "7210    Male     Less than 25  African-American             0               0   \n",
       "7211    Male  Greater than 45             Other             0               0   \n",
       "7212  Female          25 - 45  African-American             3               0   \n",
       "7213  Female     Less than 25          Hispanic             2               1   \n",
       "\n",
       "      juv_misd_count  juv_fel_count  juv_other_count c_charge_degree  \n",
       "0                  0              0                0               F  \n",
       "1                  0              0                0               F  \n",
       "2                  0              0                1               F  \n",
       "3                  1              0                0               F  \n",
       "4                  0              0                0               F  \n",
       "...              ...            ...              ...             ...  \n",
       "7209               0              0                0               F  \n",
       "7210               0              0                0               F  \n",
       "7211               0              0                0               F  \n",
       "7212               0              0                0               M  \n",
       "7213               0              0                0               F  \n",
       "\n",
       "[7214 rows x 9 columns]"
      ]
     },
     "execution_count": 24,
     "metadata": {},
     "output_type": "execute_result"
    }
   ],
   "source": [
    "dfa.loc[(df.race == 'Asian'),'race']='Other'\n",
    "dfa.loc[(df.race == 'Native American'),'race']='Other'\n",
    "dfa"
   ]
  },
  {
   "cell_type": "code",
   "execution_count": 25,
   "metadata": {},
   "outputs": [],
   "source": [
    "from sklearn.preprocessing import OneHotEncoder\n",
    "from sklearn.compose import make_column_transformer\n",
    "column_trans = make_column_transformer(\n",
    "    (OneHotEncoder(), ['sex', 'age_cat',\"c_charge_degree\",\"race\"]),\n",
    "    remainder='passthrough')\n",
    "d = column_trans.fit_transform(dfa)"
   ]
  },
  {
   "cell_type": "code",
   "execution_count": 26,
   "metadata": {},
   "outputs": [],
   "source": [
    "labels = column_trans.get_feature_names_out()\n",
    "\n",
    "def cleanLabels(label):\n",
    "    if(\"onehotencoder__\" in label):\n",
    "        return label.removeprefix(\"onehotencoder__\")\n",
    "    else:\n",
    "        return label.removeprefix(\"remainder__\")\n",
    "cleanedLabels = map(cleanLabels,labels)\n",
    "listedLabels = list(map(cleanLabels,labels))"
   ]
  },
  {
   "cell_type": "code",
   "execution_count": 27,
   "metadata": {
    "scrolled": true
   },
   "outputs": [
    {
     "data": {
      "text/html": [
       "<div>\n",
       "<style scoped>\n",
       "    .dataframe tbody tr th:only-of-type {\n",
       "        vertical-align: middle;\n",
       "    }\n",
       "\n",
       "    .dataframe tbody tr th {\n",
       "        vertical-align: top;\n",
       "    }\n",
       "\n",
       "    .dataframe thead th {\n",
       "        text-align: right;\n",
       "    }\n",
       "</style>\n",
       "<table border=\"1\" class=\"dataframe\">\n",
       "  <thead>\n",
       "    <tr style=\"text-align: right;\">\n",
       "      <th></th>\n",
       "      <th>sex_Female</th>\n",
       "      <th>sex_Male</th>\n",
       "      <th>age_cat_25 - 45</th>\n",
       "      <th>age_cat_Greater than 45</th>\n",
       "      <th>age_cat_Less than 25</th>\n",
       "      <th>c_charge_degree_F</th>\n",
       "      <th>c_charge_degree_M</th>\n",
       "      <th>race_African-American</th>\n",
       "      <th>race_Caucasian</th>\n",
       "      <th>race_Hispanic</th>\n",
       "      <th>race_Other</th>\n",
       "      <th>priors_count</th>\n",
       "      <th>two_year_recid</th>\n",
       "      <th>juv_misd_count</th>\n",
       "      <th>juv_fel_count</th>\n",
       "      <th>juv_other_count</th>\n",
       "    </tr>\n",
       "  </thead>\n",
       "  <tbody>\n",
       "    <tr>\n",
       "      <th>0</th>\n",
       "      <td>0.0</td>\n",
       "      <td>1.0</td>\n",
       "      <td>0.0</td>\n",
       "      <td>1.0</td>\n",
       "      <td>0.0</td>\n",
       "      <td>1.0</td>\n",
       "      <td>0.0</td>\n",
       "      <td>0.0</td>\n",
       "      <td>0.0</td>\n",
       "      <td>0.0</td>\n",
       "      <td>1.0</td>\n",
       "      <td>0.0</td>\n",
       "      <td>0.0</td>\n",
       "      <td>0.0</td>\n",
       "      <td>0.0</td>\n",
       "      <td>0.0</td>\n",
       "    </tr>\n",
       "    <tr>\n",
       "      <th>1</th>\n",
       "      <td>0.0</td>\n",
       "      <td>1.0</td>\n",
       "      <td>1.0</td>\n",
       "      <td>0.0</td>\n",
       "      <td>0.0</td>\n",
       "      <td>1.0</td>\n",
       "      <td>0.0</td>\n",
       "      <td>1.0</td>\n",
       "      <td>0.0</td>\n",
       "      <td>0.0</td>\n",
       "      <td>0.0</td>\n",
       "      <td>0.0</td>\n",
       "      <td>1.0</td>\n",
       "      <td>0.0</td>\n",
       "      <td>0.0</td>\n",
       "      <td>0.0</td>\n",
       "    </tr>\n",
       "    <tr>\n",
       "      <th>2</th>\n",
       "      <td>0.0</td>\n",
       "      <td>1.0</td>\n",
       "      <td>0.0</td>\n",
       "      <td>0.0</td>\n",
       "      <td>1.0</td>\n",
       "      <td>1.0</td>\n",
       "      <td>0.0</td>\n",
       "      <td>1.0</td>\n",
       "      <td>0.0</td>\n",
       "      <td>0.0</td>\n",
       "      <td>0.0</td>\n",
       "      <td>4.0</td>\n",
       "      <td>1.0</td>\n",
       "      <td>0.0</td>\n",
       "      <td>0.0</td>\n",
       "      <td>1.0</td>\n",
       "    </tr>\n",
       "    <tr>\n",
       "      <th>3</th>\n",
       "      <td>0.0</td>\n",
       "      <td>1.0</td>\n",
       "      <td>0.0</td>\n",
       "      <td>0.0</td>\n",
       "      <td>1.0</td>\n",
       "      <td>1.0</td>\n",
       "      <td>0.0</td>\n",
       "      <td>1.0</td>\n",
       "      <td>0.0</td>\n",
       "      <td>0.0</td>\n",
       "      <td>0.0</td>\n",
       "      <td>1.0</td>\n",
       "      <td>0.0</td>\n",
       "      <td>1.0</td>\n",
       "      <td>0.0</td>\n",
       "      <td>0.0</td>\n",
       "    </tr>\n",
       "    <tr>\n",
       "      <th>4</th>\n",
       "      <td>0.0</td>\n",
       "      <td>1.0</td>\n",
       "      <td>1.0</td>\n",
       "      <td>0.0</td>\n",
       "      <td>0.0</td>\n",
       "      <td>1.0</td>\n",
       "      <td>0.0</td>\n",
       "      <td>0.0</td>\n",
       "      <td>0.0</td>\n",
       "      <td>0.0</td>\n",
       "      <td>1.0</td>\n",
       "      <td>2.0</td>\n",
       "      <td>0.0</td>\n",
       "      <td>0.0</td>\n",
       "      <td>0.0</td>\n",
       "      <td>0.0</td>\n",
       "    </tr>\n",
       "    <tr>\n",
       "      <th>...</th>\n",
       "      <td>...</td>\n",
       "      <td>...</td>\n",
       "      <td>...</td>\n",
       "      <td>...</td>\n",
       "      <td>...</td>\n",
       "      <td>...</td>\n",
       "      <td>...</td>\n",
       "      <td>...</td>\n",
       "      <td>...</td>\n",
       "      <td>...</td>\n",
       "      <td>...</td>\n",
       "      <td>...</td>\n",
       "      <td>...</td>\n",
       "      <td>...</td>\n",
       "      <td>...</td>\n",
       "      <td>...</td>\n",
       "    </tr>\n",
       "    <tr>\n",
       "      <th>7209</th>\n",
       "      <td>0.0</td>\n",
       "      <td>1.0</td>\n",
       "      <td>0.0</td>\n",
       "      <td>0.0</td>\n",
       "      <td>1.0</td>\n",
       "      <td>1.0</td>\n",
       "      <td>0.0</td>\n",
       "      <td>1.0</td>\n",
       "      <td>0.0</td>\n",
       "      <td>0.0</td>\n",
       "      <td>0.0</td>\n",
       "      <td>0.0</td>\n",
       "      <td>0.0</td>\n",
       "      <td>0.0</td>\n",
       "      <td>0.0</td>\n",
       "      <td>0.0</td>\n",
       "    </tr>\n",
       "    <tr>\n",
       "      <th>7210</th>\n",
       "      <td>0.0</td>\n",
       "      <td>1.0</td>\n",
       "      <td>0.0</td>\n",
       "      <td>0.0</td>\n",
       "      <td>1.0</td>\n",
       "      <td>1.0</td>\n",
       "      <td>0.0</td>\n",
       "      <td>1.0</td>\n",
       "      <td>0.0</td>\n",
       "      <td>0.0</td>\n",
       "      <td>0.0</td>\n",
       "      <td>0.0</td>\n",
       "      <td>0.0</td>\n",
       "      <td>0.0</td>\n",
       "      <td>0.0</td>\n",
       "      <td>0.0</td>\n",
       "    </tr>\n",
       "    <tr>\n",
       "      <th>7211</th>\n",
       "      <td>0.0</td>\n",
       "      <td>1.0</td>\n",
       "      <td>0.0</td>\n",
       "      <td>1.0</td>\n",
       "      <td>0.0</td>\n",
       "      <td>1.0</td>\n",
       "      <td>0.0</td>\n",
       "      <td>0.0</td>\n",
       "      <td>0.0</td>\n",
       "      <td>0.0</td>\n",
       "      <td>1.0</td>\n",
       "      <td>0.0</td>\n",
       "      <td>0.0</td>\n",
       "      <td>0.0</td>\n",
       "      <td>0.0</td>\n",
       "      <td>0.0</td>\n",
       "    </tr>\n",
       "    <tr>\n",
       "      <th>7212</th>\n",
       "      <td>1.0</td>\n",
       "      <td>0.0</td>\n",
       "      <td>1.0</td>\n",
       "      <td>0.0</td>\n",
       "      <td>0.0</td>\n",
       "      <td>0.0</td>\n",
       "      <td>1.0</td>\n",
       "      <td>1.0</td>\n",
       "      <td>0.0</td>\n",
       "      <td>0.0</td>\n",
       "      <td>0.0</td>\n",
       "      <td>3.0</td>\n",
       "      <td>0.0</td>\n",
       "      <td>0.0</td>\n",
       "      <td>0.0</td>\n",
       "      <td>0.0</td>\n",
       "    </tr>\n",
       "    <tr>\n",
       "      <th>7213</th>\n",
       "      <td>1.0</td>\n",
       "      <td>0.0</td>\n",
       "      <td>0.0</td>\n",
       "      <td>0.0</td>\n",
       "      <td>1.0</td>\n",
       "      <td>1.0</td>\n",
       "      <td>0.0</td>\n",
       "      <td>0.0</td>\n",
       "      <td>0.0</td>\n",
       "      <td>1.0</td>\n",
       "      <td>0.0</td>\n",
       "      <td>2.0</td>\n",
       "      <td>1.0</td>\n",
       "      <td>0.0</td>\n",
       "      <td>0.0</td>\n",
       "      <td>0.0</td>\n",
       "    </tr>\n",
       "  </tbody>\n",
       "</table>\n",
       "<p>7214 rows × 16 columns</p>\n",
       "</div>"
      ],
      "text/plain": [
       "      sex_Female  sex_Male  age_cat_25 - 45  age_cat_Greater than 45  \\\n",
       "0            0.0       1.0              0.0                      1.0   \n",
       "1            0.0       1.0              1.0                      0.0   \n",
       "2            0.0       1.0              0.0                      0.0   \n",
       "3            0.0       1.0              0.0                      0.0   \n",
       "4            0.0       1.0              1.0                      0.0   \n",
       "...          ...       ...              ...                      ...   \n",
       "7209         0.0       1.0              0.0                      0.0   \n",
       "7210         0.0       1.0              0.0                      0.0   \n",
       "7211         0.0       1.0              0.0                      1.0   \n",
       "7212         1.0       0.0              1.0                      0.0   \n",
       "7213         1.0       0.0              0.0                      0.0   \n",
       "\n",
       "      age_cat_Less than 25  c_charge_degree_F  c_charge_degree_M  \\\n",
       "0                      0.0                1.0                0.0   \n",
       "1                      0.0                1.0                0.0   \n",
       "2                      1.0                1.0                0.0   \n",
       "3                      1.0                1.0                0.0   \n",
       "4                      0.0                1.0                0.0   \n",
       "...                    ...                ...                ...   \n",
       "7209                   1.0                1.0                0.0   \n",
       "7210                   1.0                1.0                0.0   \n",
       "7211                   0.0                1.0                0.0   \n",
       "7212                   0.0                0.0                1.0   \n",
       "7213                   1.0                1.0                0.0   \n",
       "\n",
       "      race_African-American  race_Caucasian  race_Hispanic  race_Other  \\\n",
       "0                       0.0             0.0            0.0         1.0   \n",
       "1                       1.0             0.0            0.0         0.0   \n",
       "2                       1.0             0.0            0.0         0.0   \n",
       "3                       1.0             0.0            0.0         0.0   \n",
       "4                       0.0             0.0            0.0         1.0   \n",
       "...                     ...             ...            ...         ...   \n",
       "7209                    1.0             0.0            0.0         0.0   \n",
       "7210                    1.0             0.0            0.0         0.0   \n",
       "7211                    0.0             0.0            0.0         1.0   \n",
       "7212                    1.0             0.0            0.0         0.0   \n",
       "7213                    0.0             0.0            1.0         0.0   \n",
       "\n",
       "      priors_count  two_year_recid  juv_misd_count  juv_fel_count  \\\n",
       "0              0.0             0.0             0.0            0.0   \n",
       "1              0.0             1.0             0.0            0.0   \n",
       "2              4.0             1.0             0.0            0.0   \n",
       "3              1.0             0.0             1.0            0.0   \n",
       "4              2.0             0.0             0.0            0.0   \n",
       "...            ...             ...             ...            ...   \n",
       "7209           0.0             0.0             0.0            0.0   \n",
       "7210           0.0             0.0             0.0            0.0   \n",
       "7211           0.0             0.0             0.0            0.0   \n",
       "7212           3.0             0.0             0.0            0.0   \n",
       "7213           2.0             1.0             0.0            0.0   \n",
       "\n",
       "      juv_other_count  \n",
       "0                 0.0  \n",
       "1                 0.0  \n",
       "2                 1.0  \n",
       "3                 0.0  \n",
       "4                 0.0  \n",
       "...               ...  \n",
       "7209              0.0  \n",
       "7210              0.0  \n",
       "7211              0.0  \n",
       "7212              0.0  \n",
       "7213              0.0  \n",
       "\n",
       "[7214 rows x 16 columns]"
      ]
     },
     "execution_count": 27,
     "metadata": {},
     "output_type": "execute_result"
    }
   ],
   "source": [
    "dfa_num = pd.DataFrame(data=d,columns=cleanedLabels)\n",
    "dfa_num"
   ]
  },
  {
   "cell_type": "markdown",
   "metadata": {},
   "source": [
    "# Algorithms"
   ]
  },
  {
   "cell_type": "markdown",
   "metadata": {},
   "source": [
    "**Comment**: Below we randomly split our data into a training set (70% of the dataset) and a test set (30% of the dataset). "
   ]
  },
  {
   "cell_type": "code",
   "execution_count": 29,
   "metadata": {},
   "outputs": [],
   "source": [
    "from sklearn.model_selection import train_test_split\n",
    "from sklearn.pipeline import make_pipeline\n",
    "from sklearn.preprocessing import StandardScaler\n",
    "from sklearn.model_selection import cross_validate\n",
    "from sklearn.metrics import f1_score\n",
    "Y = dfa_num[\"two_year_recid\"]\n",
    "X = dfa_num.drop(columns=\"two_year_recid\")\n",
    "\n",
    "X_train, X_test, y_train, y_test = train_test_split( X, Y, test_size=0.30, random_state=42)"
   ]
  },
  {
   "cell_type": "code",
   "execution_count": 65,
   "metadata": {},
   "outputs": [
    {
     "name": "stdout",
     "output_type": "stream",
     "text": [
      "      sex_Female  sex_Male  age_cat_25 - 45  age_cat_Greater than 45  \\\n",
      "308          0.0       1.0              0.0                      1.0   \n",
      "381          0.0       1.0              1.0                      0.0   \n",
      "3238         0.0       1.0              0.0                      1.0   \n",
      "2312         0.0       1.0              0.0                      0.0   \n",
      "251          1.0       0.0              1.0                      0.0   \n",
      "...          ...       ...              ...                      ...   \n",
      "3951         0.0       1.0              1.0                      0.0   \n",
      "4894         0.0       1.0              0.0                      1.0   \n",
      "5483         1.0       0.0              1.0                      0.0   \n",
      "416          0.0       1.0              0.0                      0.0   \n",
      "4253         1.0       0.0              1.0                      0.0   \n",
      "\n",
      "      age_cat_Less than 25  c_charge_degree_F  c_charge_degree_M  \\\n",
      "308                    0.0                1.0                0.0   \n",
      "381                    0.0                0.0                1.0   \n",
      "3238                   0.0                0.0                1.0   \n",
      "2312                   1.0                1.0                0.0   \n",
      "251                    0.0                0.0                1.0   \n",
      "...                    ...                ...                ...   \n",
      "3951                   0.0                1.0                0.0   \n",
      "4894                   0.0                0.0                1.0   \n",
      "5483                   0.0                0.0                1.0   \n",
      "416                    1.0                0.0                1.0   \n",
      "4253                   0.0                0.0                1.0   \n",
      "\n",
      "      race_African-American  race_Caucasian  race_Hispanic  race_Other  \\\n",
      "308                     0.0             1.0            0.0         0.0   \n",
      "381                     1.0             0.0            0.0         0.0   \n",
      "3238                    1.0             0.0            0.0         0.0   \n",
      "2312                    1.0             0.0            0.0         0.0   \n",
      "251                     0.0             0.0            0.0         1.0   \n",
      "...                     ...             ...            ...         ...   \n",
      "3951                    1.0             0.0            0.0         0.0   \n",
      "4894                    0.0             1.0            0.0         0.0   \n",
      "5483                    0.0             1.0            0.0         0.0   \n",
      "416                     0.0             0.0            1.0         0.0   \n",
      "4253                    0.0             1.0            0.0         0.0   \n",
      "\n",
      "      priors_count  juv_misd_count  juv_fel_count  juv_other_count  \\\n",
      "308            0.0             0.0            0.0              0.0   \n",
      "381            1.0             0.0            0.0              0.0   \n",
      "3238           8.0             0.0            0.0              0.0   \n",
      "2312           1.0             1.0            0.0              0.0   \n",
      "251            0.0             0.0            0.0              0.0   \n",
      "...            ...             ...            ...              ...   \n",
      "3951           3.0             0.0            0.0              0.0   \n",
      "4894           1.0             0.0            0.0              0.0   \n",
      "5483           1.0             0.0            0.0              0.0   \n",
      "416            0.0             0.0            0.0              0.0   \n",
      "4253           0.0             0.0            0.0              0.0   \n",
      "\n",
      "      two_year_recid  \n",
      "308              0.0  \n",
      "381              0.0  \n",
      "3238             1.0  \n",
      "2312             1.0  \n",
      "251              0.0  \n",
      "...              ...  \n",
      "3951             0.0  \n",
      "4894             0.0  \n",
      "5483             1.0  \n",
      "416              0.0  \n",
      "4253             1.0  \n",
      "\n",
      "[2165 rows x 16 columns]\n"
     ]
    }
   ],
   "source": [
    "# creating copies of data for confusion matricies\n",
    "cm_data = X_test\n",
    "cm_data[\"two_year_recid\"] = y_test"
   ]
  },
  {
   "cell_type": "code",
   "execution_count": 73,
   "metadata": {},
   "outputs": [],
   "source": [
    "def DisplayCM (cf_matrix, label):  \n",
    "    group_names = ['True Neg','False Pos','False Neg','True Pos']\n",
    "\n",
    "    group_counts = [\"{0:0.0f}\".format(value) for value in\n",
    "                    cf_matrix.flatten()]\n",
    "\n",
    "    group_percentages = [\"{0:.2%}\".format(value) for value in\n",
    "                         cf_matrix.flatten()/np.sum(cf_matrix)]\n",
    "\n",
    "    labels = [f\"{v1}\\n{v2}\\n{v3}\" for v1, v2, v3 in\n",
    "              zip(group_names,group_counts,group_percentages)]\n",
    "\n",
    "    labels = np.asarray(labels).reshape(2,2)\n",
    "\n",
    "    ax = sns.heatmap(cf_matrix, annot=labels, fmt='', cmap='Blues')\n",
    "\n",
    "    ax.set_title('Confusion Matrix for ' + label);\n",
    "    ax.set_xlabel('\\nPredicted Values')\n",
    "    ax.set_ylabel('Actual Values ');\n",
    "\n",
    "    ## Ticket labels - List must be in alphabetical order\n",
    "    ax.xaxis.set_ticklabels(['False','True'])\n",
    "    ax.yaxis.set_ticklabels(['False','True'])\n",
    "\n",
    "    ## Display the visualization of the Confusion Matrix.\n",
    "    plt.show()"
   ]
  },
  {
   "cell_type": "markdown",
   "metadata": {},
   "source": [
    "## Logistic Regression"
   ]
  },
  {
   "cell_type": "code",
   "execution_count": 45,
   "metadata": {},
   "outputs": [
    {
     "data": {
      "text/plain": [
       "0.6877598152424942"
      ]
     },
     "execution_count": 45,
     "metadata": {},
     "output_type": "execute_result"
    }
   ],
   "source": [
    "from sklearn.linear_model import LogisticRegression\n",
    "clf = LogisticRegression(random_state=0).fit(X_train, y_train)\n",
    "clf.predict(X_test)\n",
    "clf.score(X_test,y_test) # accuracy on test set"
   ]
  },
  {
   "cell_type": "code",
   "execution_count": 49,
   "metadata": {
    "scrolled": true
   },
   "outputs": [
    {
     "data": {
      "text/plain": [
       "0.6877598152424942"
      ]
     },
     "execution_count": 49,
     "metadata": {},
     "output_type": "execute_result"
    }
   ],
   "source": [
    "# cross validation for logistic regression\n",
    "scores = []\n",
    "for c in np.arange (0.01, 1, 0.05):\n",
    "    clf = LogisticRegression(random_state=0,C = c)\n",
    "    cv = cross_validate(clf, X_train, y_train, cv=10,scoring='f1_macro')\n",
    "    score = np.mean(cv[\"test_score\"])\n",
    "    scores.append([score,c])\n",
    "reg = max(scores)\n",
    "clf = LogisticRegression(random_state=0,C = reg[1] ).fit(X_train, y_train)\n",
    "predictions = clf.predict(X_test)\n",
    "clf.score(X_test,y_test) # accuracy on test set"
   ]
  },
  {
   "cell_type": "code",
   "execution_count": 75,
   "metadata": {},
   "outputs": [
    {
     "data": {
      "image/png": "[encoded data removed]",
      "text/plain": [
       "<Figure size 432x288 with 2 Axes>"
      ]
     },
     "metadata": {
      "needs_background": "light"
     },
     "output_type": "display_data"
    }
   ],
   "source": [
    "# confusion matrices for logistic regression\n",
    "cm_data[\"predictions\"] = predictions # add the predictions to the table with data\n",
    "cm_data_caucasian = cm_data.loc[dfr['race'] == \"Caucasian\"]\n",
    "cm = confusion_matrix(cm_data_caucasian[\"two_year_recid\"], cm_data_caucasian[\"predictions\"])\n",
    "DisplayCM(cm, \"Caucasian\")\n",
    "\n",
    "# aux_df = dfr.loc[dfr['race'] == race]\n",
    "# DisplayCM(confusion_matrix(y_test, predictions), )\n",
    "#df_logreg = X_test[[\"two_year_recid\",\"sex\",\"race\"]]\n",
    "\n",
    "# def is_recid(row):\n",
    "#    if(row[\"decile_score\"] >= 5):\n",
    "#        return 1\n",
    "#    else:\n",
    "#        return 0\n",
    "    \n",
    "#df_logreg['pred_log_reg'] = predictions\n",
    "# dfr.apply (lambda row: is_recid(row), axis=1)\n",
    "# dfr.head()\n",
    "\n",
    "\n",
    "\n",
    "# races = dfa[\"race\"].unique().tolist()\n",
    "# genders = [\"Male\",\"Female\"]\n",
    "# for race in races:\n",
    "#    aux_df = dfr.loc[dfr['race'] == race]\n",
    "#    makeCM(aux_df,race)  \n",
    "\n",
    "# for sex in genders:\n",
    "#    aux_df = dfr.loc[dfr['sex'] == sex]\n",
    "#    makeCM(aux_df,sex)"
   ]
  },
  {
   "cell_type": "code",
   "execution_count": 33,
   "metadata": {
    "scrolled": false
   },
   "outputs": [
    {
     "name": "stdout",
     "output_type": "stream",
     "text": [
      "Feature: sex_Female, Score: -0.14658\n",
      "Feature: sex_Male, Score: 0.14777\n",
      "Feature: age_cat_25 - 45, Score: 0.00992\n",
      "Feature: age_cat_Greater than 45, Score: -0.61941\n",
      "Feature: age_cat_Less than 25, Score: 0.61068\n",
      "Feature: c_charge_degree_F, Score: 0.11166\n",
      "Feature: c_charge_degree_M, Score: -0.11048\n",
      "Feature: race_African-American, Score: 0.10626\n",
      "Feature: race_Caucasian, Score: 0.08095\n",
      "Feature: race_Hispanic, Score: -0.07918\n",
      "Feature: race_Other, Score: -0.10685\n",
      "Feature: priors_count, Score: 0.13732\n",
      "Feature: two_year_recid, Score: 0.12532\n",
      "Feature: juv_misd_count, Score: 0.17192\n",
      "Feature: juv_fel_count, Score: 0.21405\n",
      "16\n",
      "15\n"
     ]
    },
    {
     "data": {
      "image/png": "[encoded data removed]",
      "text/plain": [
       "<Figure size 800x400 with 1 Axes>"
      ]
     },
     "metadata": {
      "needs_background": "light"
     },
     "output_type": "display_data"
    }
   ],
   "source": [
    "importance = clf.coef_[0]\n",
    "# summarize feature importance\n",
    "j = 0\n",
    "for i,v in enumerate(importance):\n",
    "    print('Feature: %0s, Score: %.5f' % (listedLabels[j],v))\n",
    "    j += 1\n",
    "# plot feature importance\n",
    "print(len(listedLabels))\n",
    "print(len(importance))\n",
    "plt.figure(figsize=(10, 5), dpi=80)\n",
    "plt.bar(listedLabels[:-1], importance)\n",
    "plt.rcParams['font.size'] = '25'\n",
    "plt.xticks(rotation=90)\n",
    "plt.show()"
   ]
  },
  {
   "cell_type": "code",
   "execution_count": 34,
   "metadata": {},
   "outputs": [],
   "source": [
    "#Re-add asians and native americans\n",
    "#Testing from which number to split from\n",
    "#we can drop some cols"
   ]
  },
  {
   "cell_type": "markdown",
   "metadata": {},
   "source": [
    "## SVC"
   ]
  },
  {
   "cell_type": "code",
   "execution_count": 35,
   "metadata": {},
   "outputs": [
    {
     "name": "stdout",
     "output_type": "stream",
     "text": [
      "Accuracy 0.6877598152424942\n",
      "F1-Score 0.6759682384489764\n"
     ]
    }
   ],
   "source": [
    "from sklearn.svm import SVC\n",
    "svc = make_pipeline(StandardScaler(), SVC(gamma='auto'))\n",
    "svc.fit(X_train, y_train)\n",
    "svc.score(X_test,y_test)\n",
    "pred = svc.predict(X_test)\n",
    "print( \"Accuracy \" + str(svc.score(X_test,y_test)))\n",
    "f1 = f1_score(y_test, pred, average='macro')\n",
    "print(\"F1-Score \" + str(f1))"
   ]
  },
  {
   "cell_type": "code",
   "execution_count": 36,
   "metadata": {},
   "outputs": [
    {
     "name": "stdout",
     "output_type": "stream",
     "text": [
      "[0.6553807166430928, 0.81]\n"
     ]
    }
   ],
   "source": [
    "scores = []\n",
    "for c in np.arange (0.01, 1, 0.05):\n",
    "    svc = make_pipeline(StandardScaler(), SVC(gamma='auto', C = c))\n",
    "    cv = cross_validate(svc, X_train, y_train, cv=10)\n",
    "    score = np.mean(cv[\"test_score\"])\n",
    "    scores.append([score,c])\n",
    "reg = max(scores)\n",
    "print(reg)"
   ]
  },
  {
   "cell_type": "code",
   "execution_count": 37,
   "metadata": {},
   "outputs": [
    {
     "name": "stdout",
     "output_type": "stream",
     "text": [
      "Accuracy 0.6863741339491917\n",
      "F1-Score 0.6744706232233328\n"
     ]
    }
   ],
   "source": [
    "best_svc = make_pipeline(StandardScaler(), SVC(gamma='auto',C = reg[1]))\n",
    "best_svc.fit(X_train, y_train)\n",
    "pred = best_svc.predict(X_test)\n",
    "print( \"Accuracy \" + str(best_svc.score(X_test,y_test)))\n",
    "f1 = f1_score(y_test, pred, average='macro')\n",
    "print(\"F1-Score \" + str(f1))"
   ]
  },
  {
   "cell_type": "markdown",
   "metadata": {},
   "source": [
    "## Nearest Neighbors"
   ]
  },
  {
   "cell_type": "code",
   "execution_count": null,
   "metadata": {},
   "outputs": [],
   "source": [
    "from sklearn.neighbors import KNeighborsClassifier\n",
    "k_scores = []\n",
    "for k in range(3,12,2):\n",
    "    neigh = KNeighborsClassifier(n_neighbors=k)\n",
    "    cv = cross_validate(neigh, X_train, y_train, cv=5)\n",
    "    k_score = np.mean(cv[\"test_score\"])\n",
    "    k_scores.append([k_score,k])\n",
    "k_reg = max(k_scores)\n",
    "print(k_reg)"
   ]
  },
  {
   "cell_type": "code",
   "execution_count": null,
   "metadata": {},
   "outputs": [],
   "source": [
    "best_neigh = KNeighborsClassifier(n_neighbors=k_reg[1])\n",
    "best_neigh.fit(X_train, y_train)\n",
    "pred = best_neigh.predict(X_test)\n",
    "print( \"Accuracy \" + str(best_neigh.score(X_test,y_test)))\n",
    "f1 = f1_score(y_test, pred, average='macro')\n",
    "print(\"F1-Score \" + str(f1))"
   ]
  },
  {
   "cell_type": "markdown",
   "metadata": {},
   "source": [
    "## Random Forest"
   ]
  },
  {
   "cell_type": "code",
   "execution_count": null,
   "metadata": {},
   "outputs": [],
   "source": [
    "from sklearn.ensemble import RandomForestClassifier\n",
    "from sklearn.model_selection import RandomizedSearchCV\n",
    "##code from https://towardsdatascience.com/hyperparameter-tuning-the-random-forest-in-python-using-scikit-learn-28d2aa77dd74\n",
    "n_estimators = [int(x) for x in np.linspace(start = 200, stop = 2000, num = 10)]\n",
    "# Number of features to consider at every split\n",
    "max_features = ['auto', 'sqrt']\n",
    "# Maximum number of levels in tree\n",
    "max_depth = [int(x) for x in np.linspace(10, 110, num = 11)]\n",
    "max_depth.append(None)\n",
    "# Minimum number of samples required to split a node\n",
    "min_samples_split = [2, 5, 10]\n",
    "# Minimum number of samples required at each leaf node\n",
    "min_samples_leaf = [1, 2, 4]\n",
    "# Method of selecting samples for training each tree\n",
    "bootstrap = [True, False]\n",
    "random_grid = {'n_estimators': n_estimators,\n",
    "               'max_features': max_features,\n",
    "               'max_depth': max_depth,\n",
    "               'min_samples_split': min_samples_split,\n",
    "               'min_samples_leaf': min_samples_leaf,\n",
    "               'bootstrap': bootstrap}\n",
    "rf = RandomForestClassifier()\n",
    "rf_random = RandomizedSearchCV(estimator = rf, param_distributions = random_grid, n_iter = 100, cv = 3, verbose=2, random_state=42, n_jobs = -1)\n",
    "rf_random.fit(X_train, y_train)\n"
   ]
  },
  {
   "cell_type": "code",
   "execution_count": null,
   "metadata": {},
   "outputs": [],
   "source": [
    "print(rf_random.best_params_)\n",
    "rf_random.best_params_[\"min_samples_leaf\"]"
   ]
  },
  {
   "cell_type": "code",
   "execution_count": null,
   "metadata": {},
   "outputs": [],
   "source": [
    "best_rf = RandomForestClassifier(max_depth=rf_random.best_params_[\"max_depth\"], random_state=0, n_estimators=rf_random.best_params_[\"n_estimators\"],min_samples_split=rf_random.best_params_[\"min_samples_split\"],min_samples_leaf=rf_random.best_params_[\"min_samples_leaf\"],max_features=rf_random.best_params_[\"max_features\"],bootstrap=rf_random.best_params_[\"bootstrap\"])\n",
    "best_rf.fit(X_train, y_train)\n",
    "pred = best_rf.predict(X_test)\n",
    "print( \"Accuracy \" + str(best_rf.score(X_test,y_test)))\n",
    "f1 = f1_score(y_test, pred, average='macro')\n",
    "print(\"F1-Score \" + str(f1))"
   ]
  },
  {
   "cell_type": "code",
   "execution_count": null,
   "metadata": {},
   "outputs": [],
   "source": [
    "X.columns"
   ]
  },
  {
   "cell_type": "code",
   "execution_count": null,
   "metadata": {},
   "outputs": [],
   "source": [
    "Index(['sex_Female', 'sex_Male', 'age_cat_25 - 45', 'age_cat_Greater than 45',\n",
    "       'age_cat_Less than 25', 'c_charge_degree_F', 'c_charge_degree_M',\n",
    "       'race_African-American', 'race_Caucasian', 'race_Hispanic',\n",
    "       'race_Other', 'priors_count', 'two_year_recid', 'juv_misd_count',\n",
    "       'juv_fel_count', 'juv_other_count'],\n",
    "      dtype='object')"
   ]
  },
  {
   "cell_type": "markdown",
   "metadata": {},
   "source": [
    "## Neural Network"
   ]
  },
  {
   "cell_type": "code",
   "execution_count": 39,
   "metadata": {
    "scrolled": false
   },
   "outputs": [
    {
     "name": "stdout",
     "output_type": "stream",
     "text": [
      "Model: \"sequential\"\n",
      "_________________________________________________________________\n",
      " Layer (type)                Output Shape              Param #   \n",
      "=================================================================\n",
      " dense (Dense)               (None, 64)                1024      \n",
      "                                                                 \n",
      " dense_1 (Dense)             (None, 32)                2080      \n",
      "                                                                 \n",
      " dense_2 (Dense)             (None, 16)                528       \n",
      "                                                                 \n",
      " dense_3 (Dense)             (None, 8)                 136       \n",
      "                                                                 \n",
      " dense_4 (Dense)             (None, 1)                 9         \n",
      "                                                                 \n",
      "=================================================================\n",
      "Total params: 3,777\n",
      "Trainable params: 3,777\n",
      "Non-trainable params: 0\n",
      "_________________________________________________________________\n"
     ]
    },
    {
     "name": "stderr",
     "output_type": "stream",
     "text": [
      "2022-04-19 14:34:55.559097: I tensorflow/core/platform/cpu_feature_guard.cc:151] This TensorFlow binary is optimized with oneAPI Deep Neural Network Library (oneDNN) to use the following CPU instructions in performance-critical operations:  AVX2 FMA\n",
      "To enable them in other operations, rebuild TensorFlow with the appropriate compiler flags.\n"
     ]
    },
    {
     "name": "stdout",
     "output_type": "stream",
     "text": [
      "Epoch 1/500\n",
      "505/505 [==============================] - 2s 3ms/step - loss: 0.6312 - accuracy: 0.6564 - val_loss: 0.6084 - val_accuracy: 0.6855\n",
      "Epoch 2/500\n",
      "505/505 [==============================] - 1s 2ms/step - loss: 0.6200 - accuracy: 0.6647 - val_loss: 0.6032 - val_accuracy: 0.6878\n",
      "Epoch 3/500\n",
      "505/505 [==============================] - 1s 2ms/step - loss: 0.6174 - accuracy: 0.6653 - val_loss: 0.6057 - val_accuracy: 0.6864\n",
      "Epoch 4/500\n",
      "505/505 [==============================] - 1s 2ms/step - loss: 0.6140 - accuracy: 0.6692 - val_loss: 0.6017 - val_accuracy: 0.6910\n",
      "Epoch 5/500\n",
      "505/505 [==============================] - 1s 2ms/step - loss: 0.6120 - accuracy: 0.6704 - val_loss: 0.6075 - val_accuracy: 0.6891\n",
      "Epoch 6/500\n",
      "505/505 [==============================] - 1s 2ms/step - loss: 0.6135 - accuracy: 0.6669 - val_loss: 0.6017 - val_accuracy: 0.6864\n",
      "Epoch 7/500\n",
      "505/505 [==============================] - 1s 3ms/step - loss: 0.6103 - accuracy: 0.6698 - val_loss: 0.6028 - val_accuracy: 0.6864\n",
      "Epoch 8/500\n",
      "505/505 [==============================] - 1s 2ms/step - loss: 0.6097 - accuracy: 0.6766 - val_loss: 0.6016 - val_accuracy: 0.6818\n",
      "Epoch 9/500\n",
      "505/505 [==============================] - 1s 2ms/step - loss: 0.6082 - accuracy: 0.6698 - val_loss: 0.6011 - val_accuracy: 0.6887\n",
      "Epoch 10/500\n",
      "505/505 [==============================] - 1s 3ms/step - loss: 0.6086 - accuracy: 0.6740 - val_loss: 0.6051 - val_accuracy: 0.6882\n",
      "Epoch 11/500\n",
      "505/505 [==============================] - 1s 2ms/step - loss: 0.6064 - accuracy: 0.6720 - val_loss: 0.6032 - val_accuracy: 0.6868\n",
      "Epoch 12/500\n",
      "505/505 [==============================] - 1s 2ms/step - loss: 0.6067 - accuracy: 0.6736 - val_loss: 0.6033 - val_accuracy: 0.6868\n",
      "Epoch 13/500\n",
      "505/505 [==============================] - 1s 2ms/step - loss: 0.6061 - accuracy: 0.6712 - val_loss: 0.6035 - val_accuracy: 0.6855\n",
      "Epoch 14/500\n",
      "505/505 [==============================] - 1s 2ms/step - loss: 0.6035 - accuracy: 0.6791 - val_loss: 0.6019 - val_accuracy: 0.6864\n"
     ]
    },
    {
     "data": {
      "image/png": "[encoded data removed]",
      "text/plain": [
       "<Figure size 432x288 with 1 Axes>"
      ]
     },
     "metadata": {
      "needs_background": "light"
     },
     "output_type": "display_data"
    },
    {
     "data": {
      "image/png": "[encoded data removed]",
      "text/plain": [
       "<Figure size 432x288 with 1 Axes>"
      ]
     },
     "metadata": {
      "needs_background": "light"
     },
     "output_type": "display_data"
    },
    {
     "name": "stdout",
     "output_type": "stream",
     "text": [
      "Test accuracy: 0.690993070602417\n"
     ]
    }
   ],
   "source": [
    "#https://medium.com/luca-chuangs-bapm-notes/build-a-neural-network-in-python-binary-classification-49596d7dcabf\n",
    "from keras.wrappers.scikit_learn import KerasClassifier\n",
    "from keras.utils import np_utils\n",
    "from keras.models import Sequential\n",
    "from keras.layers import Dense, Dropout\n",
    "from keras.callbacks import EarlyStopping\n",
    "\n",
    "\n",
    "model = Sequential()\n",
    "model.add(Dense(64, input_shape=(X.shape[1],), activation='relu'))\n",
    "model.add(Dense(32, activation='relu'))\n",
    "model.add(Dense(16, activation='relu'))\n",
    "model.add(Dense(8, activation='relu'))\n",
    "model.add(Dense(1, activation='sigmoid'))\n",
    "model.summary() \n",
    "\n",
    "# compile the model\n",
    "model.compile(optimizer='Adam', \n",
    "              loss='binary_crossentropy',\n",
    "              metrics=['accuracy'])\n",
    "\n",
    "# early stopping callback\n",
    "# This callback will stop the training when there is no improvement in  \n",
    "# the validation loss for 10 consecutive epochs.  \n",
    "es = EarlyStopping(monitor='val_accuracy', \n",
    "                                   mode='max', # don't minimize the accuracy!\n",
    "                                   patience=10,\n",
    "                                   restore_best_weights=True)\n",
    "\n",
    "# now we just update our model fit call\n",
    "history = model.fit(X_train,\n",
    "                    y_train,\n",
    "                    callbacks=[es],\n",
    "                    epochs=500, # you can set this to a big number!\n",
    "                    batch_size=10,\n",
    "                    validation_data=(X_test,y_test),\n",
    "                    shuffle=True,\n",
    "                    verbose=1)\n",
    "\n",
    "\n",
    "\n",
    "history_dict = history.history\n",
    "# Learning curve(Loss)\n",
    "# let's see the training and validation loss by epoch\n",
    "\n",
    "# loss\n",
    "loss_values = history_dict['loss'] # you can change this\n",
    "val_loss_values = history_dict['val_loss'] # you can also change this\n",
    "\n",
    "# range of X (no. of epochs)\n",
    "epochs = range(1, len(loss_values) + 1) \n",
    "\n",
    "# plot\n",
    "plt.plot(epochs, loss_values, 'bo', label='Training loss')\n",
    "plt.plot(epochs, val_loss_values, 'orange', label='Validation loss')\n",
    "plt.title('Training and validation loss')\n",
    "plt.xlabel('Epochs')\n",
    "plt.ylabel('Loss')\n",
    "plt.legend()\n",
    "plt.show()\n",
    "\n",
    "\n",
    "# Learning curve(accuracy)\n",
    "# let's see the training and validation accuracy by epoch\n",
    "\n",
    "# accuracy\n",
    "acc = history.history['accuracy']\n",
    "val_acc = history.history['val_accuracy']\n",
    "\n",
    "# range of X (no. of epochs)\n",
    "epochs = range(1, len(acc) + 1)\n",
    "\n",
    "# plot\n",
    "# \"bo\" is for \"blue dot\"\n",
    "plt.plot(epochs, acc, 'bo', label='Training accuracy')\n",
    "# orange is for \"orange\"\n",
    "plt.plot(epochs, val_acc, 'orange', label='Validation accuracy')\n",
    "plt.title('Training and validation accuracy')\n",
    "plt.xlabel('Epochs')\n",
    "plt.ylabel('Accuracy')\n",
    "plt.legend()\n",
    "plt.show()\n",
    "\n",
    "# this is the max value - should correspond to\n",
    "# the HIGHEST train accuracy\n",
    "#np.max(val_acc)\n",
    "\n",
    "score = model.evaluate(X_test, y_test, verbose=0)\n",
    "print('Test accuracy:', score[1])"
   ]
  },
  {
   "cell_type": "code",
   "execution_count": null,
   "metadata": {},
   "outputs": [],
   "source": [
    "#analyze each model"
   ]
  }
 ],
 "metadata": {
  "kernelspec": {
   "display_name": "Python 3 (ipykernel)",
   "language": "python",
   "name": "python3"
  },
  "language_info": {
   "codemirror_mode": {
    "name": "ipython",
    "version": 3
   },
   "file_extension": ".py",
   "mimetype": "text/x-python",
   "name": "python",
   "nbconvert_exporter": "python",
   "pygments_lexer": "ipython3",
   "version": "3.10.4"
  }
 },
 "nbformat": 4,
 "nbformat_minor": 4
}
