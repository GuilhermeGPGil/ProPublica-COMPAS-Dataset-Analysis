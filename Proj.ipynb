{
 "cells": [
  {
   "cell_type": "markdown",
   "metadata": {},
   "source": [
    "# Course Project\n",
    "### Guilherme Gil, Alva Ringi & Francisco Simões\n",
    "\n",
    "## Dataset\n",
    "\n",
    "You will examine the ProPublica COMPAS dataset, which consists of all criminal defendants who were subject to COMPAS screening in Broward County, Florida, during 2013 and 2014. For each defendant, various information fields (‘features’) were also gathered by ProPublica. Broadly, these fields are related to the defendant’s demographic information (e.g., gender and race), criminal history (e.g., the number of prior offenses) and administrative information about the case (e.g., the case number, arrest date, risk of recidivism predicted by the COMPAS tool). Finally, the dataset also contains information about whether the defendant did actually recidivate or not.\n",
    "\n",
    "The COMPAS score uses answers to 137 questions to assign a risk score to defendants -- essentially a probability of re-arrest. The actual output is two-fold: a risk rating of 1-10 and a \"low\", \"medium\", or \"high\" risk label.\n",
    "\n",
    "Link to dataset: https://github.com/propublica/compas-analysis\n",
    "\n",
    "The file we will analyze is: compas-scores-two-years.csv\n",
    "\n",
    "Link to the ProPublica article:\n",
    "\n",
    "https://www.propublica.org/article/machine-bias-risk-assessments-in-criminal-sentencing\n",
    "\n",
    "\n",
    "## Project goal\n",
    "\n",
    "The project has three parts: \n",
    "\n",
    "1.  The COMPAS scores have been shown to have biases against certain racial groups. Analyze the dataset to highlight these biases.  \n",
    "\n",
    "2. Based on the features in the COMPAS dataset, train classifiers to predict who will re-offend (hint: no need to use all features, just the ones you find relevant).  Study if your classifiers are more or less fair than the COMPAS classifier. \n",
    "\n",
    "3. Build a fair classifier (last lecture will cover fair classification techniques). Is excluding the race from the feature set enough?\n"
   ]
  },
  {
   "cell_type": "code",
   "execution_count": 1,
   "metadata": {},
   "outputs": [
    {
     "name": "stdout",
     "output_type": "stream",
     "text": [
      "Requirement already satisfied: cvxpy in /home/gil/.local/lib/python3.9/site-packages (1.2.0)\r\n",
      "Requirement already satisfied: scs>=1.1.6 in /home/gil/.local/lib/python3.9/site-packages (from cvxpy) (3.2.0)\r\n",
      "Requirement already satisfied: ecos>=2 in /home/gil/.local/lib/python3.9/site-packages (from cvxpy) (2.0.10)\r\n",
      "Requirement already satisfied: osqp>=0.4.1 in /home/gil/.local/lib/python3.9/site-packages (from cvxpy) (0.6.2.post5)\r\n",
      "Requirement already satisfied: numpy>=1.15 in /home/gil/.local/lib/python3.9/site-packages (from cvxpy) (1.21.2)\r\n",
      "Requirement already satisfied: scipy>=1.1.0 in /home/gil/.local/lib/python3.9/site-packages (from cvxpy) (1.8.0)\r\n",
      "Requirement already satisfied: qdldl in /home/gil/.local/lib/python3.9/site-packages (from osqp>=0.4.1->cvxpy) (0.1.5.post2)\r\n"
     ]
    }
   ],
   "source": [
    "# installations that might be needed to run this notebook\n",
    "\n",
    "# !pip3 install scikit-lego[all]\n",
    "# !pip3 install tensorflow\n",
    "!pip3 install cvxpy"
   ]
  },
  {
   "cell_type": "markdown",
   "metadata": {},
   "source": [
    "## Load the data\n",
    "\n",
    "We first need to load the data from the ProPublica repo:\n",
    "https://github.com/propublica/compas-analysis\n"
   ]
  },
  {
   "cell_type": "code",
   "execution_count": 2,
   "metadata": {},
   "outputs": [
    {
     "name": "stdout",
     "output_type": "stream",
     "text": [
      "Looking for file '%s' in the current directory... compas-scores-two-years.csv\n",
      "File found in current directory..\n"
     ]
    }
   ],
   "source": [
    "import urllib\n",
    "import os,sys\n",
    "import numpy as np\n",
    "import pandas as pd\n",
    "import matplotlib.pyplot as plt\n",
    "import seaborn as sns\n",
    "from sklearn import feature_extraction\n",
    "from sklearn import preprocessing\n",
    "from sklearn.metrics import accuracy_score,confusion_matrix\n",
    "\n",
    "from random import seed, shuffle\n",
    "#from __future__ import division\n",
    "#from collections import defaultdict\n",
    "#import utils as ut\n",
    "\n",
    "SEED = 1234\n",
    "seed(SEED)\n",
    "np.random.seed(SEED)\n",
    "pd.set_option('display.max_columns', None)\n",
    "def check_data_file(fname):\n",
    "    files = os.listdir(\".\") # get the current directory listing\n",
    "    print(\"Looking for file '%s' in the current directory...\",fname)\n",
    "\n",
    "    if fname not in files:\n",
    "        print(\"'%s' not found! Downloading from GitHub...\",fname)\n",
    "        addr = \"https://raw.githubusercontent.com/propublica/compas-analysis/master/compas-scores-two-years.csv\"\n",
    "        response = urllib.request.urlopen(addr)\n",
    "        data = response.read()\n",
    "        fileOut = open(fname, \"wb\")\n",
    "        fileOut.write(data)\n",
    "        fileOut.close()\n",
    "        print(\"'%s' download and saved locally..\",fname)\n",
    "    else:\n",
    "        print(\"File found in current directory..\")\n",
    "    \n",
    "COMPAS_INPUT_FILE = \"compas-scores-two-years.csv\"\n",
    "check_data_file(COMPAS_INPUT_FILE)\n",
    "\n",
    "df = pd.read_csv(COMPAS_INPUT_FILE) # representing data as a dataframe"
   ]
  },
  {
   "cell_type": "markdown",
   "metadata": {},
   "source": [
    "# Part 1: Analysis of the dataset and its biases"
   ]
  },
  {
   "cell_type": "markdown",
   "metadata": {},
   "source": [
    "- **The dataset contains data on how many convicts?** "
   ]
  },
  {
   "cell_type": "code",
   "execution_count": null,
   "metadata": {},
   "outputs": [],
   "source": [
    "print(\"There are \", df.shape[0], \"samples in the dataset.\")"
   ]
  },
  {
   "cell_type": "markdown",
   "metadata": {},
   "source": [
    "- **What are the features the dataset contains?**"
   ]
  },
  {
   "cell_type": "code",
   "execution_count": null,
   "metadata": {},
   "outputs": [],
   "source": [
    "df.head()"
   ]
  },
  {
   "cell_type": "markdown",
   "metadata": {},
   "source": [
    "<span style=\"color:red\">\n",
    "\n",
    "\n",
    "- **Are there missing values (NaN)? are there outliers?**  \n",
    "\n",
    "hint pandas: check isnull function in pandas\n",
    "\n",
    "- **Does ProPublica mentions how to clean the data?**  \n",
    "\n",
    "</span>"
   ]
  },
  {
   "cell_type": "code",
   "execution_count": 3,
   "metadata": {},
   "outputs": [
    {
     "data": {
      "text/html": [
       "<div>\n",
       "<style scoped>\n",
       "    .dataframe tbody tr th:only-of-type {\n",
       "        vertical-align: middle;\n",
       "    }\n",
       "\n",
       "    .dataframe tbody tr th {\n",
       "        vertical-align: top;\n",
       "    }\n",
       "\n",
       "    .dataframe thead th {\n",
       "        text-align: right;\n",
       "    }\n",
       "</style>\n",
       "<table border=\"1\" class=\"dataframe\">\n",
       "  <thead>\n",
       "    <tr style=\"text-align: right;\">\n",
       "      <th></th>\n",
       "      <th>id</th>\n",
       "      <th>name</th>\n",
       "      <th>first</th>\n",
       "      <th>last</th>\n",
       "      <th>compas_screening_date</th>\n",
       "      <th>sex</th>\n",
       "      <th>dob</th>\n",
       "      <th>age</th>\n",
       "      <th>age_cat</th>\n",
       "      <th>race</th>\n",
       "      <th>juv_fel_count</th>\n",
       "      <th>decile_score</th>\n",
       "      <th>juv_misd_count</th>\n",
       "      <th>juv_other_count</th>\n",
       "      <th>priors_count</th>\n",
       "      <th>days_b_screening_arrest</th>\n",
       "      <th>c_jail_in</th>\n",
       "      <th>c_jail_out</th>\n",
       "      <th>c_case_number</th>\n",
       "      <th>c_offense_date</th>\n",
       "      <th>c_arrest_date</th>\n",
       "      <th>c_days_from_compas</th>\n",
       "      <th>c_charge_degree</th>\n",
       "      <th>c_charge_desc</th>\n",
       "      <th>is_recid</th>\n",
       "      <th>r_case_number</th>\n",
       "      <th>r_charge_degree</th>\n",
       "      <th>r_days_from_arrest</th>\n",
       "      <th>r_offense_date</th>\n",
       "      <th>r_charge_desc</th>\n",
       "      <th>r_jail_in</th>\n",
       "      <th>r_jail_out</th>\n",
       "      <th>violent_recid</th>\n",
       "      <th>is_violent_recid</th>\n",
       "      <th>vr_case_number</th>\n",
       "      <th>vr_charge_degree</th>\n",
       "      <th>vr_offense_date</th>\n",
       "      <th>vr_charge_desc</th>\n",
       "      <th>type_of_assessment</th>\n",
       "      <th>decile_score.1</th>\n",
       "      <th>score_text</th>\n",
       "      <th>screening_date</th>\n",
       "      <th>v_type_of_assessment</th>\n",
       "      <th>v_decile_score</th>\n",
       "      <th>v_score_text</th>\n",
       "      <th>v_screening_date</th>\n",
       "      <th>in_custody</th>\n",
       "      <th>out_custody</th>\n",
       "      <th>priors_count.1</th>\n",
       "      <th>start</th>\n",
       "      <th>end</th>\n",
       "      <th>event</th>\n",
       "      <th>two_year_recid</th>\n",
       "    </tr>\n",
       "  </thead>\n",
       "  <tbody>\n",
       "    <tr>\n",
       "      <th>0</th>\n",
       "      <td>1</td>\n",
       "      <td>miguel hernandez</td>\n",
       "      <td>miguel</td>\n",
       "      <td>hernandez</td>\n",
       "      <td>2013-08-14</td>\n",
       "      <td>Male</td>\n",
       "      <td>1947-04-18</td>\n",
       "      <td>69</td>\n",
       "      <td>Greater than 45</td>\n",
       "      <td>Other</td>\n",
       "      <td>0</td>\n",
       "      <td>1</td>\n",
       "      <td>0</td>\n",
       "      <td>0</td>\n",
       "      <td>0</td>\n",
       "      <td>-1.0</td>\n",
       "      <td>2013-08-13 06:03:42</td>\n",
       "      <td>2013-08-14 05:41:20</td>\n",
       "      <td>13011352CF10A</td>\n",
       "      <td>2013-08-13</td>\n",
       "      <td>NaN</td>\n",
       "      <td>1.0</td>\n",
       "      <td>F</td>\n",
       "      <td>Aggravated Assault w/Firearm</td>\n",
       "      <td>0</td>\n",
       "      <td>NaN</td>\n",
       "      <td>NaN</td>\n",
       "      <td>NaN</td>\n",
       "      <td>NaN</td>\n",
       "      <td>NaN</td>\n",
       "      <td>NaN</td>\n",
       "      <td>NaN</td>\n",
       "      <td>NaN</td>\n",
       "      <td>0</td>\n",
       "      <td>NaN</td>\n",
       "      <td>NaN</td>\n",
       "      <td>NaN</td>\n",
       "      <td>NaN</td>\n",
       "      <td>Risk of Recidivism</td>\n",
       "      <td>1</td>\n",
       "      <td>Low</td>\n",
       "      <td>2013-08-14</td>\n",
       "      <td>Risk of Violence</td>\n",
       "      <td>1</td>\n",
       "      <td>Low</td>\n",
       "      <td>2013-08-14</td>\n",
       "      <td>2014-07-07</td>\n",
       "      <td>2014-07-14</td>\n",
       "      <td>0</td>\n",
       "      <td>0</td>\n",
       "      <td>327</td>\n",
       "      <td>0</td>\n",
       "      <td>0</td>\n",
       "    </tr>\n",
       "    <tr>\n",
       "      <th>1</th>\n",
       "      <td>3</td>\n",
       "      <td>kevon dixon</td>\n",
       "      <td>kevon</td>\n",
       "      <td>dixon</td>\n",
       "      <td>2013-01-27</td>\n",
       "      <td>Male</td>\n",
       "      <td>1982-01-22</td>\n",
       "      <td>34</td>\n",
       "      <td>25 - 45</td>\n",
       "      <td>African-American</td>\n",
       "      <td>0</td>\n",
       "      <td>3</td>\n",
       "      <td>0</td>\n",
       "      <td>0</td>\n",
       "      <td>0</td>\n",
       "      <td>-1.0</td>\n",
       "      <td>2013-01-26 03:45:27</td>\n",
       "      <td>2013-02-05 05:36:53</td>\n",
       "      <td>13001275CF10A</td>\n",
       "      <td>2013-01-26</td>\n",
       "      <td>NaN</td>\n",
       "      <td>1.0</td>\n",
       "      <td>F</td>\n",
       "      <td>Felony Battery w/Prior Convict</td>\n",
       "      <td>1</td>\n",
       "      <td>13009779CF10A</td>\n",
       "      <td>(F3)</td>\n",
       "      <td>NaN</td>\n",
       "      <td>2013-07-05</td>\n",
       "      <td>Felony Battery (Dom Strang)</td>\n",
       "      <td>NaN</td>\n",
       "      <td>NaN</td>\n",
       "      <td>NaN</td>\n",
       "      <td>1</td>\n",
       "      <td>13009779CF10A</td>\n",
       "      <td>(F3)</td>\n",
       "      <td>2013-07-05</td>\n",
       "      <td>Felony Battery (Dom Strang)</td>\n",
       "      <td>Risk of Recidivism</td>\n",
       "      <td>3</td>\n",
       "      <td>Low</td>\n",
       "      <td>2013-01-27</td>\n",
       "      <td>Risk of Violence</td>\n",
       "      <td>1</td>\n",
       "      <td>Low</td>\n",
       "      <td>2013-01-27</td>\n",
       "      <td>2013-01-26</td>\n",
       "      <td>2013-02-05</td>\n",
       "      <td>0</td>\n",
       "      <td>9</td>\n",
       "      <td>159</td>\n",
       "      <td>1</td>\n",
       "      <td>1</td>\n",
       "    </tr>\n",
       "    <tr>\n",
       "      <th>2</th>\n",
       "      <td>4</td>\n",
       "      <td>ed philo</td>\n",
       "      <td>ed</td>\n",
       "      <td>philo</td>\n",
       "      <td>2013-04-14</td>\n",
       "      <td>Male</td>\n",
       "      <td>1991-05-14</td>\n",
       "      <td>24</td>\n",
       "      <td>Less than 25</td>\n",
       "      <td>African-American</td>\n",
       "      <td>0</td>\n",
       "      <td>4</td>\n",
       "      <td>0</td>\n",
       "      <td>1</td>\n",
       "      <td>4</td>\n",
       "      <td>-1.0</td>\n",
       "      <td>2013-04-13 04:58:34</td>\n",
       "      <td>2013-04-14 07:02:04</td>\n",
       "      <td>13005330CF10A</td>\n",
       "      <td>2013-04-13</td>\n",
       "      <td>NaN</td>\n",
       "      <td>1.0</td>\n",
       "      <td>F</td>\n",
       "      <td>Possession of Cocaine</td>\n",
       "      <td>1</td>\n",
       "      <td>13011511MM10A</td>\n",
       "      <td>(M1)</td>\n",
       "      <td>0.0</td>\n",
       "      <td>2013-06-16</td>\n",
       "      <td>Driving Under The Influence</td>\n",
       "      <td>2013-06-16</td>\n",
       "      <td>2013-06-16</td>\n",
       "      <td>NaN</td>\n",
       "      <td>0</td>\n",
       "      <td>NaN</td>\n",
       "      <td>NaN</td>\n",
       "      <td>NaN</td>\n",
       "      <td>NaN</td>\n",
       "      <td>Risk of Recidivism</td>\n",
       "      <td>4</td>\n",
       "      <td>Low</td>\n",
       "      <td>2013-04-14</td>\n",
       "      <td>Risk of Violence</td>\n",
       "      <td>3</td>\n",
       "      <td>Low</td>\n",
       "      <td>2013-04-14</td>\n",
       "      <td>2013-06-16</td>\n",
       "      <td>2013-06-16</td>\n",
       "      <td>4</td>\n",
       "      <td>0</td>\n",
       "      <td>63</td>\n",
       "      <td>0</td>\n",
       "      <td>1</td>\n",
       "    </tr>\n",
       "    <tr>\n",
       "      <th>3</th>\n",
       "      <td>5</td>\n",
       "      <td>marcu brown</td>\n",
       "      <td>marcu</td>\n",
       "      <td>brown</td>\n",
       "      <td>2013-01-13</td>\n",
       "      <td>Male</td>\n",
       "      <td>1993-01-21</td>\n",
       "      <td>23</td>\n",
       "      <td>Less than 25</td>\n",
       "      <td>African-American</td>\n",
       "      <td>0</td>\n",
       "      <td>8</td>\n",
       "      <td>1</td>\n",
       "      <td>0</td>\n",
       "      <td>1</td>\n",
       "      <td>NaN</td>\n",
       "      <td>NaN</td>\n",
       "      <td>NaN</td>\n",
       "      <td>13000570CF10A</td>\n",
       "      <td>2013-01-12</td>\n",
       "      <td>NaN</td>\n",
       "      <td>1.0</td>\n",
       "      <td>F</td>\n",
       "      <td>Possession of Cannabis</td>\n",
       "      <td>0</td>\n",
       "      <td>NaN</td>\n",
       "      <td>NaN</td>\n",
       "      <td>NaN</td>\n",
       "      <td>NaN</td>\n",
       "      <td>NaN</td>\n",
       "      <td>NaN</td>\n",
       "      <td>NaN</td>\n",
       "      <td>NaN</td>\n",
       "      <td>0</td>\n",
       "      <td>NaN</td>\n",
       "      <td>NaN</td>\n",
       "      <td>NaN</td>\n",
       "      <td>NaN</td>\n",
       "      <td>Risk of Recidivism</td>\n",
       "      <td>8</td>\n",
       "      <td>High</td>\n",
       "      <td>2013-01-13</td>\n",
       "      <td>Risk of Violence</td>\n",
       "      <td>6</td>\n",
       "      <td>Medium</td>\n",
       "      <td>2013-01-13</td>\n",
       "      <td>NaN</td>\n",
       "      <td>NaN</td>\n",
       "      <td>1</td>\n",
       "      <td>0</td>\n",
       "      <td>1174</td>\n",
       "      <td>0</td>\n",
       "      <td>0</td>\n",
       "    </tr>\n",
       "    <tr>\n",
       "      <th>4</th>\n",
       "      <td>6</td>\n",
       "      <td>bouthy pierrelouis</td>\n",
       "      <td>bouthy</td>\n",
       "      <td>pierrelouis</td>\n",
       "      <td>2013-03-26</td>\n",
       "      <td>Male</td>\n",
       "      <td>1973-01-22</td>\n",
       "      <td>43</td>\n",
       "      <td>25 - 45</td>\n",
       "      <td>Other</td>\n",
       "      <td>0</td>\n",
       "      <td>1</td>\n",
       "      <td>0</td>\n",
       "      <td>0</td>\n",
       "      <td>2</td>\n",
       "      <td>NaN</td>\n",
       "      <td>NaN</td>\n",
       "      <td>NaN</td>\n",
       "      <td>12014130CF10A</td>\n",
       "      <td>NaN</td>\n",
       "      <td>2013-01-09</td>\n",
       "      <td>76.0</td>\n",
       "      <td>F</td>\n",
       "      <td>arrest case no charge</td>\n",
       "      <td>0</td>\n",
       "      <td>NaN</td>\n",
       "      <td>NaN</td>\n",
       "      <td>NaN</td>\n",
       "      <td>NaN</td>\n",
       "      <td>NaN</td>\n",
       "      <td>NaN</td>\n",
       "      <td>NaN</td>\n",
       "      <td>NaN</td>\n",
       "      <td>0</td>\n",
       "      <td>NaN</td>\n",
       "      <td>NaN</td>\n",
       "      <td>NaN</td>\n",
       "      <td>NaN</td>\n",
       "      <td>Risk of Recidivism</td>\n",
       "      <td>1</td>\n",
       "      <td>Low</td>\n",
       "      <td>2013-03-26</td>\n",
       "      <td>Risk of Violence</td>\n",
       "      <td>1</td>\n",
       "      <td>Low</td>\n",
       "      <td>2013-03-26</td>\n",
       "      <td>NaN</td>\n",
       "      <td>NaN</td>\n",
       "      <td>2</td>\n",
       "      <td>0</td>\n",
       "      <td>1102</td>\n",
       "      <td>0</td>\n",
       "      <td>0</td>\n",
       "    </tr>\n",
       "  </tbody>\n",
       "</table>\n",
       "</div>"
      ],
      "text/plain": [
       "   id                name   first         last compas_screening_date   sex  \\\n",
       "0   1    miguel hernandez  miguel    hernandez            2013-08-14  Male   \n",
       "1   3         kevon dixon   kevon        dixon            2013-01-27  Male   \n",
       "2   4            ed philo      ed        philo            2013-04-14  Male   \n",
       "3   5         marcu brown   marcu        brown            2013-01-13  Male   \n",
       "4   6  bouthy pierrelouis  bouthy  pierrelouis            2013-03-26  Male   \n",
       "\n",
       "          dob  age          age_cat              race  juv_fel_count  \\\n",
       "0  1947-04-18   69  Greater than 45             Other              0   \n",
       "1  1982-01-22   34          25 - 45  African-American              0   \n",
       "2  1991-05-14   24     Less than 25  African-American              0   \n",
       "3  1993-01-21   23     Less than 25  African-American              0   \n",
       "4  1973-01-22   43          25 - 45             Other              0   \n",
       "\n",
       "   decile_score  juv_misd_count  juv_other_count  priors_count  \\\n",
       "0             1               0                0             0   \n",
       "1             3               0                0             0   \n",
       "2             4               0                1             4   \n",
       "3             8               1                0             1   \n",
       "4             1               0                0             2   \n",
       "\n",
       "   days_b_screening_arrest            c_jail_in           c_jail_out  \\\n",
       "0                     -1.0  2013-08-13 06:03:42  2013-08-14 05:41:20   \n",
       "1                     -1.0  2013-01-26 03:45:27  2013-02-05 05:36:53   \n",
       "2                     -1.0  2013-04-13 04:58:34  2013-04-14 07:02:04   \n",
       "3                      NaN                  NaN                  NaN   \n",
       "4                      NaN                  NaN                  NaN   \n",
       "\n",
       "   c_case_number c_offense_date c_arrest_date  c_days_from_compas  \\\n",
       "0  13011352CF10A     2013-08-13           NaN                 1.0   \n",
       "1  13001275CF10A     2013-01-26           NaN                 1.0   \n",
       "2  13005330CF10A     2013-04-13           NaN                 1.0   \n",
       "3  13000570CF10A     2013-01-12           NaN                 1.0   \n",
       "4  12014130CF10A            NaN    2013-01-09                76.0   \n",
       "\n",
       "  c_charge_degree                   c_charge_desc  is_recid  r_case_number  \\\n",
       "0               F    Aggravated Assault w/Firearm         0            NaN   \n",
       "1               F  Felony Battery w/Prior Convict         1  13009779CF10A   \n",
       "2               F           Possession of Cocaine         1  13011511MM10A   \n",
       "3               F          Possession of Cannabis         0            NaN   \n",
       "4               F           arrest case no charge         0            NaN   \n",
       "\n",
       "  r_charge_degree  r_days_from_arrest r_offense_date  \\\n",
       "0             NaN                 NaN            NaN   \n",
       "1            (F3)                 NaN     2013-07-05   \n",
       "2            (M1)                 0.0     2013-06-16   \n",
       "3             NaN                 NaN            NaN   \n",
       "4             NaN                 NaN            NaN   \n",
       "\n",
       "                 r_charge_desc   r_jail_in  r_jail_out  violent_recid  \\\n",
       "0                          NaN         NaN         NaN            NaN   \n",
       "1  Felony Battery (Dom Strang)         NaN         NaN            NaN   \n",
       "2  Driving Under The Influence  2013-06-16  2013-06-16            NaN   \n",
       "3                          NaN         NaN         NaN            NaN   \n",
       "4                          NaN         NaN         NaN            NaN   \n",
       "\n",
       "   is_violent_recid vr_case_number vr_charge_degree vr_offense_date  \\\n",
       "0                 0            NaN              NaN             NaN   \n",
       "1                 1  13009779CF10A             (F3)      2013-07-05   \n",
       "2                 0            NaN              NaN             NaN   \n",
       "3                 0            NaN              NaN             NaN   \n",
       "4                 0            NaN              NaN             NaN   \n",
       "\n",
       "                vr_charge_desc  type_of_assessment  decile_score.1 score_text  \\\n",
       "0                          NaN  Risk of Recidivism               1        Low   \n",
       "1  Felony Battery (Dom Strang)  Risk of Recidivism               3        Low   \n",
       "2                          NaN  Risk of Recidivism               4        Low   \n",
       "3                          NaN  Risk of Recidivism               8       High   \n",
       "4                          NaN  Risk of Recidivism               1        Low   \n",
       "\n",
       "  screening_date v_type_of_assessment  v_decile_score v_score_text  \\\n",
       "0     2013-08-14     Risk of Violence               1          Low   \n",
       "1     2013-01-27     Risk of Violence               1          Low   \n",
       "2     2013-04-14     Risk of Violence               3          Low   \n",
       "3     2013-01-13     Risk of Violence               6       Medium   \n",
       "4     2013-03-26     Risk of Violence               1          Low   \n",
       "\n",
       "  v_screening_date  in_custody out_custody  priors_count.1  start   end  \\\n",
       "0       2013-08-14  2014-07-07  2014-07-14               0      0   327   \n",
       "1       2013-01-27  2013-01-26  2013-02-05               0      9   159   \n",
       "2       2013-04-14  2013-06-16  2013-06-16               4      0    63   \n",
       "3       2013-01-13         NaN         NaN               1      0  1174   \n",
       "4       2013-03-26         NaN         NaN               2      0  1102   \n",
       "\n",
       "   event  two_year_recid  \n",
       "0      0               0  \n",
       "1      1               1  \n",
       "2      0               1  \n",
       "3      0               0  \n",
       "4      0               0  "
      ]
     },
     "execution_count": 3,
     "metadata": {},
     "output_type": "execute_result"
    }
   ],
   "source": [
    "# pd.isna(df[\"sex\"])\n",
    "# df[\"age\"].max()\n",
    "# df = df.dropna(axis=0, how='any', thresh=5, subset=[\"days_b_screening_arrest\"], inplace=False)\n",
    "# df = df.dropna(subset=[\"sex\", \"days_b_screening_arrest\"])\n",
    "# df.shape"
   ]
  },
  {
   "cell_type": "markdown",
   "metadata": {},
   "source": [
    "<span style=\"color:red\">\n",
    "    \n",
    "- **What is the effect of the following function?**\n",
    "</span>"
   ]
  },
  {
   "cell_type": "code",
   "execution_count": null,
   "metadata": {},
   "outputs": [],
   "source": [
    "print(df.shape)\n",
    "df = df.dropna(subset=[\"days_b_screening_arrest\"]) # dropping missing vals\n",
    "df = df[ (df.days_b_screening_arrest <= 30) &\n",
    "(df.days_b_screening_arrest >= -30) &\n",
    "(df.is_recid != -1) & (df.c_charge_degree != 'O') & (df.score_text != 'N/A') ]\n",
    "df.reset_index(inplace=True, drop=True) # renumber the rows from 0 again\n",
    "print(df.shape)"
   ]
  },
  {
   "cell_type": "markdown",
   "metadata": {},
   "source": [
    "<span style=\"color:red\">\n",
    "\n",
    "**Comment**: It first removes all rows in the dataset that have no value for the feature \"days before screening arrest\". Then it filters out rows that does not full fill the given requirements. This can be used to filter out missing data and outliers. \n",
    "</span>"
   ]
  },
  {
   "cell_type": "markdown",
   "metadata": {},
   "source": [
    "## Basic analysis of demographics\n",
    "\n",
    "- **What are the different races present in the dataset?** "
   ]
  },
  {
   "cell_type": "code",
   "execution_count": null,
   "metadata": {},
   "outputs": [],
   "source": [
    "df[\"race\"].unique().tolist()"
   ]
  },
  {
   "cell_type": "markdown",
   "metadata": {},
   "source": [
    "- **What is the number of people by age category?**"
   ]
  },
  {
   "cell_type": "code",
   "execution_count": null,
   "metadata": {},
   "outputs": [],
   "source": [
    "age_cat_names = list(df[\"age_cat\"].unique().tolist())\n",
    "age_cat_size = list(df.groupby([\"age_cat\"], sort=False).size())\n",
    "plt.bar(age_cat_names, age_cat_size)\n",
    "plt.title(\"Number of people per age category\")\n",
    "plt.show()"
   ]
  },
  {
   "cell_type": "markdown",
   "metadata": {},
   "source": [
    "**Comment**: There is a majority of people in the dataset are between 25 and 45 years old."
   ]
  },
  {
   "cell_type": "markdown",
   "metadata": {},
   "source": [
    "- **What is the number of people by COMPAS score (decile_score)?**"
   ]
  },
  {
   "cell_type": "code",
   "execution_count": null,
   "metadata": {},
   "outputs": [],
   "source": [
    "decile_score_names = list(df[\"decile_score\"].unique().tolist())\n",
    "decile_score_size = list(df.groupby(\"decile_score\", sort=False).size())\n",
    "plt.bar(decile_score_names, decile_score_size)\n",
    "plt.title(\"Number of people per COMPAS score\")\n",
    "plt.show()"
   ]
  },
  {
   "cell_type": "markdown",
   "metadata": {},
   "source": [
    "**Comment**: The by far most common score is 1. The higher score, the less common."
   ]
  },
  {
   "cell_type": "markdown",
   "metadata": {},
   "source": [
    "- **What is the number of people by COMPAS risk category (score_text)?**"
   ]
  },
  {
   "cell_type": "code",
   "execution_count": null,
   "metadata": {},
   "outputs": [],
   "source": [
    "score_text_names = list(df[\"score_text\"].unique().tolist())\n",
    "score_text_size = list(df.groupby(\"score_text\", sort=False).size())\n",
    "plt.bar(score_text_names, score_text_size)\n",
    "plt.title(\"Number of people per COMPAS risk category\")\n",
    "plt.show()"
   ]
  },
  {
   "cell_type": "markdown",
   "metadata": {},
   "source": [
    "**Comment**: The by far most common class is \"low score\", followed by \"medium\" and \"high\". This follows well the distribution of the numerical scores observed in the plot above."
   ]
  },
  {
   "cell_type": "markdown",
   "metadata": {},
   "source": [
    "- **What is the number of people by race?**"
   ]
  },
  {
   "cell_type": "code",
   "execution_count": null,
   "metadata": {},
   "outputs": [],
   "source": [
    "race_names = list(df[\"race\"].unique().tolist())\n",
    "race_size = list(df.groupby(\"race\", sort=False).size())\n",
    "plt.bar(race_names, race_size)\n",
    "plt.xticks(rotation=20)\n",
    "plt.title(\"Number of people per race\")\n",
    "plt.show()"
   ]
  },
  {
   "cell_type": "markdown",
   "metadata": {},
   "source": [
    "**Comment**: There are very few Native American and Asian people in this dataset. We do not think there are enough people in these groups to have an unbiased estimator for them. For this reason, we will remove the categories \"Native American\" and \"Asian\" and place these samples in the category \"Other\". "
   ]
  },
  {
   "cell_type": "code",
   "execution_count": null,
   "metadata": {},
   "outputs": [],
   "source": [
    "df.loc[(df.race == 'Asian'),'race']='Other'\n",
    "df.loc[(df.race == 'Native American'),'race']='Other'"
   ]
  },
  {
   "cell_type": "markdown",
   "metadata": {},
   "source": [
    "## Basic investigations of gender and race bias in COMPAS scores"
   ]
  },
  {
   "cell_type": "markdown",
   "metadata": {},
   "source": [
    "- **What is the mean COMPAS score (decile_score) per race and gender?** "
   ]
  },
  {
   "cell_type": "code",
   "execution_count": null,
   "metadata": {},
   "outputs": [],
   "source": [
    "# mean score per race\n",
    "race_names = list(df[\"race\"].unique().tolist())\n",
    "race_score_mean = list(df.groupby([\"race\"], sort=False).mean()[\"decile_score\"])\n",
    "plt.bar(race_names, race_score_mean)\n",
    "plt.title(\"Mean COMPAS score per race\")\n",
    "plt.show()\n",
    "\n",
    "# mean score per gender\n",
    "sex_names = list(df[\"sex\"].unique().tolist())\n",
    "sex_score_mean = list(df.groupby([\"sex\"], sort=False).mean()[\"decile_score\"])\n",
    "plt.bar(sex_names, sex_score_mean)\n",
    "plt.title(\"Mean COMPAS score per gender\")\n",
    "plt.show()"
   ]
  },
  {
   "cell_type": "markdown",
   "metadata": {},
   "source": [
    "**Comment**: The mean score is the highest for the race group \"African-American\" which indicates that there is a bias against them. For men women, the mean score is similar which indicates that there are not much bias based on gender. "
   ]
  },
  {
   "cell_type": "markdown",
   "metadata": {},
   "source": [
    "- **What is the distribution (histogram) of decile_score per race and gender?**"
   ]
  },
  {
   "cell_type": "code",
   "execution_count": null,
   "metadata": {},
   "outputs": [],
   "source": [
    "# decile score per race\n",
    "df.hist(column='decile_score', by=[\"race\"],figsize = (9,7));\n",
    "plt.show()\n",
    "\n",
    "# decile score per gender\n",
    "df.hist(column='decile_score', by=[\"sex\"],figsize = (9,3));\n",
    "plt.show()"
   ]
  },
  {
   "cell_type": "markdown",
   "metadata": {},
   "source": [
    "**Comment**: There seems to be a bias towards African American people since the histogram distribution on this race is more evenly distributed when compared to the other races histograms (we can observe a higher percentage of higher scores in the African American race). For the other races we can see that the  histogram is more squewed to lower values.\n",
    "\n",
    "Comparing men and women, we see that the decile score distribution is similar for the two genders which indicates that there is not much bias against any of them."
   ]
  },
  {
   "cell_type": "markdown",
   "metadata": {},
   "source": [
    "- **How many people were re-arrested?** "
   ]
  },
  {
   "cell_type": "code",
   "execution_count": null,
   "metadata": {},
   "outputs": [],
   "source": [
    "rearrested = df[df[\"two_year_recid\"]==1]\n",
    "print(\"Number of Re-arrests:\", len(rearrested.index))"
   ]
  },
  {
   "cell_type": "markdown",
   "metadata": {},
   "source": [
    "- **Compute the recidivism (i.e., people that got re-arrested) rates by race and gender**"
   ]
  },
  {
   "cell_type": "code",
   "execution_count": null,
   "metadata": {},
   "outputs": [],
   "source": [
    "# calculate number of re-arrested people as well as total number of people per race\n",
    "races_names = list(df[\"race\"].unique().tolist())\n",
    "race_nr_ra = list(df.loc[(df['two_year_recid'] == 0)].groupby([\"race\"], sort=False).size())\n",
    "race_nr = list(df.groupby([\"race\"], sort=False).size())\n",
    "\n",
    "# calculate ratios per race\n",
    "race_ra_rate = []\n",
    "for i in range(len(races_names)):\n",
    "    race_ra_rate.append(1-(race_nr_ra[i] / race_nr[i]))\n",
    "\n",
    "# plot result\n",
    "plt.bar(race_names, race_ra_rate)\n",
    "plt.title(\"Recidivism rate per race\")\n",
    "plt.show()\n",
    "\n",
    "# calculate number of re-arrested people as well as total number of people per gender\n",
    "sex_names = list(df[\"sex\"].unique().tolist())\n",
    "sex_nr_ra = list(df.loc[(df['two_year_recid'] == 0)].groupby([\"sex\"], sort=False).size())\n",
    "sex_nr = list(df.groupby([\"sex\"], sort=False).size())\n",
    "\n",
    "# calculate ratios per gender\n",
    "sex_ra_rate = []\n",
    "for i in range(len(sex_names)):\n",
    "    sex_ra_rate.append(1-(sex_nr_ra[i] / sex_nr[i]))\n",
    "\n",
    "# plot result    \n",
    "plt.bar(sex_names, sex_ra_rate)\n",
    "plt.title(\"Recidivism rate per sex\")\n",
    "plt.show()"
   ]
  },
  {
   "cell_type": "markdown",
   "metadata": {},
   "source": [
    "**Comment**: The recidivism rate is higher for African-Americans compared to the other races. This indicates that the dataset itself is bias. With a bias dataset, classifiers will learn these patterns and, in this case, give higher decile scores to African-Americans.\n",
    "\n",
    "Comparing genders, the recidivism rate is higher for men than women. This is not as clearly reflected in the decile scores as in the case with race. The mean decile score for men and women is more equal than the recidivism rate in the dataset."
   ]
  },
  {
   "cell_type": "code",
   "execution_count": null,
   "metadata": {},
   "outputs": [],
   "source": [
    "dfr = df[[\"decile_score\",\"two_year_recid\",\"sex\",\"race\"]]\n",
    "\n",
    "# transform decile score [0, 10] to binary by splitting at decile score = 5\n",
    "def is_recid(row):\n",
    "    if(row[\"decile_score\"] >= 5):\n",
    "        return 1\n",
    "    else:\n",
    "        return 0\n",
    "    \n",
    "dfr['pred_is_recid'] = dfr.apply (lambda row: is_recid(row), axis=1)"
   ]
  },
  {
   "cell_type": "markdown",
   "metadata": {},
   "source": [
    "**Comment**: We consider any decile scores equal or above 5 to be a positive recidivism prediction since the decile score goes from 1 to 10."
   ]
  },
  {
   "cell_type": "markdown",
   "metadata": {},
   "source": [
    "- **What is the accuracy of the COMPAS scores to predict recidivism**"
   ]
  },
  {
   "cell_type": "code",
   "execution_count": null,
   "metadata": {},
   "outputs": [],
   "source": [
    "print(\"Accuracy: \", accuracy_score(dfr[\"two_year_recid\"], dfr[\"pred_is_recid\"]))"
   ]
  },
  {
   "cell_type": "markdown",
   "metadata": {},
   "source": [
    "- **Is the accuracy higher/lower if we look at particular races/genders?**"
   ]
  },
  {
   "cell_type": "code",
   "execution_count": null,
   "metadata": {},
   "outputs": [],
   "source": [
    "races = df[\"race\"].unique().tolist()\n",
    "genders = [\"Male\",\"Female\"]\n",
    "for race in races:\n",
    "    aux_df = dfr.loc[dfr['race'] == race]\n",
    "    acc = accuracy_score(aux_df[\"two_year_recid\"], aux_df[\"pred_is_recid\"])\n",
    "    print(\"Accuracy for {race} is {acc}\".format(race = race, acc = acc))\n",
    "\n",
    "print(\"\")\n",
    "    \n",
    "for sex in genders:\n",
    "    aux_df = dfr.loc[dfr['sex'] == sex]\n",
    "    acc = accuracy_score(aux_df[\"two_year_recid\"], aux_df[\"pred_is_recid\"])\n",
    "    print(\"Accuracy for {sex} is {acc}\".format(sex = sex, acc = acc))"
   ]
  },
  {
   "cell_type": "markdown",
   "metadata": {},
   "source": [
    "**Comment**: The accuracy seems to be lower for African-Americans than for any other race, which might indicate the existence of some bias. As for gender, both accuracies are similar."
   ]
  },
  {
   "cell_type": "markdown",
   "metadata": {},
   "source": [
    "- **What about false positives and false negatives?**"
   ]
  },
  {
   "cell_type": "code",
   "execution_count": null,
   "metadata": {},
   "outputs": [],
   "source": [
    "def makeCM (dfr,label):\n",
    "    cf_matrix = confusion_matrix(dfr[\"two_year_recid\"], dfr[\"pred_is_recid\"])\n",
    "\n",
    "    group_names = ['True Neg','False Pos','False Neg','True Pos']\n",
    "\n",
    "    group_counts = [\"{0:0.0f}\".format(value) for value in\n",
    "                    cf_matrix.flatten()]\n",
    "\n",
    "    group_percentages = [\"{0:.2%}\".format(value) for value in\n",
    "                         cf_matrix.flatten()/np.sum(cf_matrix)]\n",
    "\n",
    "    labels = [f\"{v1}\\n{v2}\\n{v3}\" for v1, v2, v3 in\n",
    "              zip(group_names,group_counts,group_percentages)]\n",
    "\n",
    "    labels = np.asarray(labels).reshape(2,2)\n",
    "\n",
    "    ax = sns.heatmap(cf_matrix, annot=labels, fmt='', cmap='Blues')\n",
    "\n",
    "    ax.set_title('Confusion Matrix for ' + label);\n",
    "    ax.set_xlabel('\\nPredicted Values')\n",
    "    ax.set_ylabel('Actual Values ');\n",
    "\n",
    "    # Ticket labels - List must be in alphabetical order\n",
    "    ax.xaxis.set_ticklabels(['False','True'])\n",
    "    ax.yaxis.set_ticklabels(['False','True'])\n",
    "\n",
    "    # Display the visualization of the Confusion Matrix.\n",
    "    plt.show()"
   ]
  },
  {
   "cell_type": "code",
   "execution_count": null,
   "metadata": {},
   "outputs": [],
   "source": [
    "races = df[\"race\"].unique().tolist()\n",
    "genders = [\"Male\",\"Female\"]\n",
    "for race in races:\n",
    "    aux_df = dfr.loc[dfr['race'] == race]\n",
    "    makeCM(aux_df,race)  \n",
    "\n",
    "for sex in genders:\n",
    "    aux_df = dfr.loc[dfr['sex'] == sex]\n",
    "    makeCM(aux_df,sex)"
   ]
  },
  {
   "cell_type": "markdown",
   "metadata": {},
   "source": [
    "**Comment**: From the confusion matrices we can see that the false positive rate is highest among African-Americans indicating that there's a bias against them. The opposite can be found for the other races. The False Negatives is then lower for African-Americans than for other races meaning that the model does a bad job at identifying people that will recomit a crime if they are not African-American."
   ]
  },
  {
   "cell_type": "markdown",
   "metadata": {},
   "source": [
    "# Choosing Features"
   ]
  },
  {
   "cell_type": "markdown",
   "metadata": {},
   "source": [
    "**Comment**: Below we choose what features to use when training our algorithms. We have chosen to use:\n",
    "- **Sex**: Female, male\n",
    "- **Age category**: (<25, 25-45, >45 years) \n",
    "- **Charge degree**: Misdemeanors, felony\n",
    "- **Race**: African american, caucasian, hispanic and others (including asian and native american since we have too little data to analyze these races independently)\n",
    "- **Priors count**: Number of earlier crimes\n",
    "- **Juvenile mesdemeanor count**: Number of juvenile crimes, misdemeanors\n",
    "- **Juvenile felony count**: Number of juvenile crimes, felonies\n",
    "- **Juvenile other count**: Number of juvenile crimes, neither misdemanors nor felonies\n",
    "- **Two years recid**: Ground truth\n",
    "\n",
    "Features like e.g. names and dates are not being used since we do not consider them interesting for the prediction. \n",
    "\n",
    "We also make all features numerical (using the function \"OneHotEncoder\") since some algorithms for classifying can only handle numerical data. "
   ]
  },
  {
   "cell_type": "code",
   "execution_count": 5,
   "metadata": {},
   "outputs": [],
   "source": [
    "# choose features\n",
    "dfa = df[[\"sex\",\"age_cat\",\"race\",\"priors_count\",\"two_year_recid\",\"juv_misd_count\",\"juv_fel_count\",\"juv_other_count\",\"c_charge_degree\"]]"
   ]
  },
  {
   "cell_type": "code",
   "execution_count": 6,
   "metadata": {},
   "outputs": [
    {
     "data": {
      "text/html": [
       "<div>\n",
       "<style scoped>\n",
       "    .dataframe tbody tr th:only-of-type {\n",
       "        vertical-align: middle;\n",
       "    }\n",
       "\n",
       "    .dataframe tbody tr th {\n",
       "        vertical-align: top;\n",
       "    }\n",
       "\n",
       "    .dataframe thead th {\n",
       "        text-align: right;\n",
       "    }\n",
       "</style>\n",
       "<table border=\"1\" class=\"dataframe\">\n",
       "  <thead>\n",
       "    <tr style=\"text-align: right;\">\n",
       "      <th></th>\n",
       "      <th>sex</th>\n",
       "      <th>age_cat</th>\n",
       "      <th>race</th>\n",
       "      <th>priors_count</th>\n",
       "      <th>two_year_recid</th>\n",
       "      <th>juv_misd_count</th>\n",
       "      <th>juv_fel_count</th>\n",
       "      <th>juv_other_count</th>\n",
       "      <th>c_charge_degree</th>\n",
       "    </tr>\n",
       "  </thead>\n",
       "  <tbody>\n",
       "    <tr>\n",
       "      <th>0</th>\n",
       "      <td>Male</td>\n",
       "      <td>Greater than 45</td>\n",
       "      <td>Other</td>\n",
       "      <td>0</td>\n",
       "      <td>0</td>\n",
       "      <td>0</td>\n",
       "      <td>0</td>\n",
       "      <td>0</td>\n",
       "      <td>F</td>\n",
       "    </tr>\n",
       "    <tr>\n",
       "      <th>1</th>\n",
       "      <td>Male</td>\n",
       "      <td>25 - 45</td>\n",
       "      <td>African-American</td>\n",
       "      <td>0</td>\n",
       "      <td>1</td>\n",
       "      <td>0</td>\n",
       "      <td>0</td>\n",
       "      <td>0</td>\n",
       "      <td>F</td>\n",
       "    </tr>\n",
       "    <tr>\n",
       "      <th>2</th>\n",
       "      <td>Male</td>\n",
       "      <td>Less than 25</td>\n",
       "      <td>African-American</td>\n",
       "      <td>4</td>\n",
       "      <td>1</td>\n",
       "      <td>0</td>\n",
       "      <td>0</td>\n",
       "      <td>1</td>\n",
       "      <td>F</td>\n",
       "    </tr>\n",
       "    <tr>\n",
       "      <th>3</th>\n",
       "      <td>Male</td>\n",
       "      <td>Less than 25</td>\n",
       "      <td>African-American</td>\n",
       "      <td>1</td>\n",
       "      <td>0</td>\n",
       "      <td>1</td>\n",
       "      <td>0</td>\n",
       "      <td>0</td>\n",
       "      <td>F</td>\n",
       "    </tr>\n",
       "    <tr>\n",
       "      <th>4</th>\n",
       "      <td>Male</td>\n",
       "      <td>25 - 45</td>\n",
       "      <td>Other</td>\n",
       "      <td>2</td>\n",
       "      <td>0</td>\n",
       "      <td>0</td>\n",
       "      <td>0</td>\n",
       "      <td>0</td>\n",
       "      <td>F</td>\n",
       "    </tr>\n",
       "    <tr>\n",
       "      <th>...</th>\n",
       "      <td>...</td>\n",
       "      <td>...</td>\n",
       "      <td>...</td>\n",
       "      <td>...</td>\n",
       "      <td>...</td>\n",
       "      <td>...</td>\n",
       "      <td>...</td>\n",
       "      <td>...</td>\n",
       "      <td>...</td>\n",
       "    </tr>\n",
       "    <tr>\n",
       "      <th>7209</th>\n",
       "      <td>Male</td>\n",
       "      <td>Less than 25</td>\n",
       "      <td>African-American</td>\n",
       "      <td>0</td>\n",
       "      <td>0</td>\n",
       "      <td>0</td>\n",
       "      <td>0</td>\n",
       "      <td>0</td>\n",
       "      <td>F</td>\n",
       "    </tr>\n",
       "    <tr>\n",
       "      <th>7210</th>\n",
       "      <td>Male</td>\n",
       "      <td>Less than 25</td>\n",
       "      <td>African-American</td>\n",
       "      <td>0</td>\n",
       "      <td>0</td>\n",
       "      <td>0</td>\n",
       "      <td>0</td>\n",
       "      <td>0</td>\n",
       "      <td>F</td>\n",
       "    </tr>\n",
       "    <tr>\n",
       "      <th>7211</th>\n",
       "      <td>Male</td>\n",
       "      <td>Greater than 45</td>\n",
       "      <td>Other</td>\n",
       "      <td>0</td>\n",
       "      <td>0</td>\n",
       "      <td>0</td>\n",
       "      <td>0</td>\n",
       "      <td>0</td>\n",
       "      <td>F</td>\n",
       "    </tr>\n",
       "    <tr>\n",
       "      <th>7212</th>\n",
       "      <td>Female</td>\n",
       "      <td>25 - 45</td>\n",
       "      <td>African-American</td>\n",
       "      <td>3</td>\n",
       "      <td>0</td>\n",
       "      <td>0</td>\n",
       "      <td>0</td>\n",
       "      <td>0</td>\n",
       "      <td>M</td>\n",
       "    </tr>\n",
       "    <tr>\n",
       "      <th>7213</th>\n",
       "      <td>Female</td>\n",
       "      <td>Less than 25</td>\n",
       "      <td>Hispanic</td>\n",
       "      <td>2</td>\n",
       "      <td>1</td>\n",
       "      <td>0</td>\n",
       "      <td>0</td>\n",
       "      <td>0</td>\n",
       "      <td>F</td>\n",
       "    </tr>\n",
       "  </tbody>\n",
       "</table>\n",
       "<p>7214 rows × 9 columns</p>\n",
       "</div>"
      ],
      "text/plain": [
       "         sex          age_cat              race  priors_count  two_year_recid  \\\n",
       "0       Male  Greater than 45             Other             0               0   \n",
       "1       Male          25 - 45  African-American             0               1   \n",
       "2       Male     Less than 25  African-American             4               1   \n",
       "3       Male     Less than 25  African-American             1               0   \n",
       "4       Male          25 - 45             Other             2               0   \n",
       "...      ...              ...               ...           ...             ...   \n",
       "7209    Male     Less than 25  African-American             0               0   \n",
       "7210    Male     Less than 25  African-American             0               0   \n",
       "7211    Male  Greater than 45             Other             0               0   \n",
       "7212  Female          25 - 45  African-American             3               0   \n",
       "7213  Female     Less than 25          Hispanic             2               1   \n",
       "\n",
       "      juv_misd_count  juv_fel_count  juv_other_count c_charge_degree  \n",
       "0                  0              0                0               F  \n",
       "1                  0              0                0               F  \n",
       "2                  0              0                1               F  \n",
       "3                  1              0                0               F  \n",
       "4                  0              0                0               F  \n",
       "...              ...            ...              ...             ...  \n",
       "7209               0              0                0               F  \n",
       "7210               0              0                0               F  \n",
       "7211               0              0                0               F  \n",
       "7212               0              0                0               M  \n",
       "7213               0              0                0               F  \n",
       "\n",
       "[7214 rows x 9 columns]"
      ]
     },
     "execution_count": 6,
     "metadata": {},
     "output_type": "execute_result"
    }
   ],
   "source": [
    "# merge race groups \"asian\" and \"native american\" with \"other\"\n",
    "dfa.loc[(df.race == 'Asian'),'race']='Other'\n",
    "dfa.loc[(df.race == 'Native American'),'race']='Other'"
   ]
  },
  {
   "cell_type": "code",
   "execution_count": 7,
   "metadata": {},
   "outputs": [],
   "source": [
    "# make non-numerical features numerical\n",
    "from sklearn.preprocessing import OneHotEncoder\n",
    "from sklearn.compose import make_column_transformer\n",
    "column_trans = make_column_transformer(\n",
    "    (OneHotEncoder(), ['sex', 'age_cat',\"c_charge_degree\",\"race\"]),\n",
    "    remainder='passthrough')\n",
    "d = column_trans.fit_transform(dfa)"
   ]
  },
  {
   "cell_type": "code",
   "execution_count": 8,
   "metadata": {},
   "outputs": [],
   "source": [
    "# clean lables\n",
    "labels = column_trans.get_feature_names_out()\n",
    "\n",
    "def cleanLabels(label):\n",
    "    if(\"onehotencoder__\" in label):\n",
    "        return label.removeprefix(\"onehotencoder__\")\n",
    "    else:\n",
    "        return label.removeprefix(\"remainder__\")\n",
    "cleanedLabels = map(cleanLabels,labels)\n",
    "listedLabels = list(map(cleanLabels,labels))"
   ]
  },
  {
   "cell_type": "code",
   "execution_count": 9,
   "metadata": {
    "scrolled": true
   },
   "outputs": [
    {
     "data": {
      "text/html": [
       "<div>\n",
       "<style scoped>\n",
       "    .dataframe tbody tr th:only-of-type {\n",
       "        vertical-align: middle;\n",
       "    }\n",
       "\n",
       "    .dataframe tbody tr th {\n",
       "        vertical-align: top;\n",
       "    }\n",
       "\n",
       "    .dataframe thead th {\n",
       "        text-align: right;\n",
       "    }\n",
       "</style>\n",
       "<table border=\"1\" class=\"dataframe\">\n",
       "  <thead>\n",
       "    <tr style=\"text-align: right;\">\n",
       "      <th></th>\n",
       "      <th>sex_Female</th>\n",
       "      <th>sex_Male</th>\n",
       "      <th>age_cat_25 - 45</th>\n",
       "      <th>age_cat_Greater than 45</th>\n",
       "      <th>age_cat_Less than 25</th>\n",
       "      <th>c_charge_degree_F</th>\n",
       "      <th>c_charge_degree_M</th>\n",
       "      <th>race_African-American</th>\n",
       "      <th>race_Caucasian</th>\n",
       "      <th>race_Hispanic</th>\n",
       "      <th>race_Other</th>\n",
       "      <th>priors_count</th>\n",
       "      <th>two_year_recid</th>\n",
       "      <th>juv_misd_count</th>\n",
       "      <th>juv_fel_count</th>\n",
       "      <th>juv_other_count</th>\n",
       "    </tr>\n",
       "  </thead>\n",
       "  <tbody>\n",
       "    <tr>\n",
       "      <th>0</th>\n",
       "      <td>0.0</td>\n",
       "      <td>1.0</td>\n",
       "      <td>0.0</td>\n",
       "      <td>1.0</td>\n",
       "      <td>0.0</td>\n",
       "      <td>1.0</td>\n",
       "      <td>0.0</td>\n",
       "      <td>0.0</td>\n",
       "      <td>0.0</td>\n",
       "      <td>0.0</td>\n",
       "      <td>1.0</td>\n",
       "      <td>0.0</td>\n",
       "      <td>0.0</td>\n",
       "      <td>0.0</td>\n",
       "      <td>0.0</td>\n",
       "      <td>0.0</td>\n",
       "    </tr>\n",
       "    <tr>\n",
       "      <th>1</th>\n",
       "      <td>0.0</td>\n",
       "      <td>1.0</td>\n",
       "      <td>1.0</td>\n",
       "      <td>0.0</td>\n",
       "      <td>0.0</td>\n",
       "      <td>1.0</td>\n",
       "      <td>0.0</td>\n",
       "      <td>1.0</td>\n",
       "      <td>0.0</td>\n",
       "      <td>0.0</td>\n",
       "      <td>0.0</td>\n",
       "      <td>0.0</td>\n",
       "      <td>1.0</td>\n",
       "      <td>0.0</td>\n",
       "      <td>0.0</td>\n",
       "      <td>0.0</td>\n",
       "    </tr>\n",
       "    <tr>\n",
       "      <th>2</th>\n",
       "      <td>0.0</td>\n",
       "      <td>1.0</td>\n",
       "      <td>0.0</td>\n",
       "      <td>0.0</td>\n",
       "      <td>1.0</td>\n",
       "      <td>1.0</td>\n",
       "      <td>0.0</td>\n",
       "      <td>1.0</td>\n",
       "      <td>0.0</td>\n",
       "      <td>0.0</td>\n",
       "      <td>0.0</td>\n",
       "      <td>4.0</td>\n",
       "      <td>1.0</td>\n",
       "      <td>0.0</td>\n",
       "      <td>0.0</td>\n",
       "      <td>1.0</td>\n",
       "    </tr>\n",
       "    <tr>\n",
       "      <th>3</th>\n",
       "      <td>0.0</td>\n",
       "      <td>1.0</td>\n",
       "      <td>0.0</td>\n",
       "      <td>0.0</td>\n",
       "      <td>1.0</td>\n",
       "      <td>1.0</td>\n",
       "      <td>0.0</td>\n",
       "      <td>1.0</td>\n",
       "      <td>0.0</td>\n",
       "      <td>0.0</td>\n",
       "      <td>0.0</td>\n",
       "      <td>1.0</td>\n",
       "      <td>0.0</td>\n",
       "      <td>1.0</td>\n",
       "      <td>0.0</td>\n",
       "      <td>0.0</td>\n",
       "    </tr>\n",
       "    <tr>\n",
       "      <th>4</th>\n",
       "      <td>0.0</td>\n",
       "      <td>1.0</td>\n",
       "      <td>1.0</td>\n",
       "      <td>0.0</td>\n",
       "      <td>0.0</td>\n",
       "      <td>1.0</td>\n",
       "      <td>0.0</td>\n",
       "      <td>0.0</td>\n",
       "      <td>0.0</td>\n",
       "      <td>0.0</td>\n",
       "      <td>1.0</td>\n",
       "      <td>2.0</td>\n",
       "      <td>0.0</td>\n",
       "      <td>0.0</td>\n",
       "      <td>0.0</td>\n",
       "      <td>0.0</td>\n",
       "    </tr>\n",
       "    <tr>\n",
       "      <th>...</th>\n",
       "      <td>...</td>\n",
       "      <td>...</td>\n",
       "      <td>...</td>\n",
       "      <td>...</td>\n",
       "      <td>...</td>\n",
       "      <td>...</td>\n",
       "      <td>...</td>\n",
       "      <td>...</td>\n",
       "      <td>...</td>\n",
       "      <td>...</td>\n",
       "      <td>...</td>\n",
       "      <td>...</td>\n",
       "      <td>...</td>\n",
       "      <td>...</td>\n",
       "      <td>...</td>\n",
       "      <td>...</td>\n",
       "    </tr>\n",
       "    <tr>\n",
       "      <th>7209</th>\n",
       "      <td>0.0</td>\n",
       "      <td>1.0</td>\n",
       "      <td>0.0</td>\n",
       "      <td>0.0</td>\n",
       "      <td>1.0</td>\n",
       "      <td>1.0</td>\n",
       "      <td>0.0</td>\n",
       "      <td>1.0</td>\n",
       "      <td>0.0</td>\n",
       "      <td>0.0</td>\n",
       "      <td>0.0</td>\n",
       "      <td>0.0</td>\n",
       "      <td>0.0</td>\n",
       "      <td>0.0</td>\n",
       "      <td>0.0</td>\n",
       "      <td>0.0</td>\n",
       "    </tr>\n",
       "    <tr>\n",
       "      <th>7210</th>\n",
       "      <td>0.0</td>\n",
       "      <td>1.0</td>\n",
       "      <td>0.0</td>\n",
       "      <td>0.0</td>\n",
       "      <td>1.0</td>\n",
       "      <td>1.0</td>\n",
       "      <td>0.0</td>\n",
       "      <td>1.0</td>\n",
       "      <td>0.0</td>\n",
       "      <td>0.0</td>\n",
       "      <td>0.0</td>\n",
       "      <td>0.0</td>\n",
       "      <td>0.0</td>\n",
       "      <td>0.0</td>\n",
       "      <td>0.0</td>\n",
       "      <td>0.0</td>\n",
       "    </tr>\n",
       "    <tr>\n",
       "      <th>7211</th>\n",
       "      <td>0.0</td>\n",
       "      <td>1.0</td>\n",
       "      <td>0.0</td>\n",
       "      <td>1.0</td>\n",
       "      <td>0.0</td>\n",
       "      <td>1.0</td>\n",
       "      <td>0.0</td>\n",
       "      <td>0.0</td>\n",
       "      <td>0.0</td>\n",
       "      <td>0.0</td>\n",
       "      <td>1.0</td>\n",
       "      <td>0.0</td>\n",
       "      <td>0.0</td>\n",
       "      <td>0.0</td>\n",
       "      <td>0.0</td>\n",
       "      <td>0.0</td>\n",
       "    </tr>\n",
       "    <tr>\n",
       "      <th>7212</th>\n",
       "      <td>1.0</td>\n",
       "      <td>0.0</td>\n",
       "      <td>1.0</td>\n",
       "      <td>0.0</td>\n",
       "      <td>0.0</td>\n",
       "      <td>0.0</td>\n",
       "      <td>1.0</td>\n",
       "      <td>1.0</td>\n",
       "      <td>0.0</td>\n",
       "      <td>0.0</td>\n",
       "      <td>0.0</td>\n",
       "      <td>3.0</td>\n",
       "      <td>0.0</td>\n",
       "      <td>0.0</td>\n",
       "      <td>0.0</td>\n",
       "      <td>0.0</td>\n",
       "    </tr>\n",
       "    <tr>\n",
       "      <th>7213</th>\n",
       "      <td>1.0</td>\n",
       "      <td>0.0</td>\n",
       "      <td>0.0</td>\n",
       "      <td>0.0</td>\n",
       "      <td>1.0</td>\n",
       "      <td>1.0</td>\n",
       "      <td>0.0</td>\n",
       "      <td>0.0</td>\n",
       "      <td>0.0</td>\n",
       "      <td>1.0</td>\n",
       "      <td>0.0</td>\n",
       "      <td>2.0</td>\n",
       "      <td>1.0</td>\n",
       "      <td>0.0</td>\n",
       "      <td>0.0</td>\n",
       "      <td>0.0</td>\n",
       "    </tr>\n",
       "  </tbody>\n",
       "</table>\n",
       "<p>7214 rows × 16 columns</p>\n",
       "</div>"
      ],
      "text/plain": [
       "      sex_Female  sex_Male  age_cat_25 - 45  age_cat_Greater than 45  \\\n",
       "0            0.0       1.0              0.0                      1.0   \n",
       "1            0.0       1.0              1.0                      0.0   \n",
       "2            0.0       1.0              0.0                      0.0   \n",
       "3            0.0       1.0              0.0                      0.0   \n",
       "4            0.0       1.0              1.0                      0.0   \n",
       "...          ...       ...              ...                      ...   \n",
       "7209         0.0       1.0              0.0                      0.0   \n",
       "7210         0.0       1.0              0.0                      0.0   \n",
       "7211         0.0       1.0              0.0                      1.0   \n",
       "7212         1.0       0.0              1.0                      0.0   \n",
       "7213         1.0       0.0              0.0                      0.0   \n",
       "\n",
       "      age_cat_Less than 25  c_charge_degree_F  c_charge_degree_M  \\\n",
       "0                      0.0                1.0                0.0   \n",
       "1                      0.0                1.0                0.0   \n",
       "2                      1.0                1.0                0.0   \n",
       "3                      1.0                1.0                0.0   \n",
       "4                      0.0                1.0                0.0   \n",
       "...                    ...                ...                ...   \n",
       "7209                   1.0                1.0                0.0   \n",
       "7210                   1.0                1.0                0.0   \n",
       "7211                   0.0                1.0                0.0   \n",
       "7212                   0.0                0.0                1.0   \n",
       "7213                   1.0                1.0                0.0   \n",
       "\n",
       "      race_African-American  race_Caucasian  race_Hispanic  race_Other  \\\n",
       "0                       0.0             0.0            0.0         1.0   \n",
       "1                       1.0             0.0            0.0         0.0   \n",
       "2                       1.0             0.0            0.0         0.0   \n",
       "3                       1.0             0.0            0.0         0.0   \n",
       "4                       0.0             0.0            0.0         1.0   \n",
       "...                     ...             ...            ...         ...   \n",
       "7209                    1.0             0.0            0.0         0.0   \n",
       "7210                    1.0             0.0            0.0         0.0   \n",
       "7211                    0.0             0.0            0.0         1.0   \n",
       "7212                    1.0             0.0            0.0         0.0   \n",
       "7213                    0.0             0.0            1.0         0.0   \n",
       "\n",
       "      priors_count  two_year_recid  juv_misd_count  juv_fel_count  \\\n",
       "0              0.0             0.0             0.0            0.0   \n",
       "1              0.0             1.0             0.0            0.0   \n",
       "2              4.0             1.0             0.0            0.0   \n",
       "3              1.0             0.0             1.0            0.0   \n",
       "4              2.0             0.0             0.0            0.0   \n",
       "...            ...             ...             ...            ...   \n",
       "7209           0.0             0.0             0.0            0.0   \n",
       "7210           0.0             0.0             0.0            0.0   \n",
       "7211           0.0             0.0             0.0            0.0   \n",
       "7212           3.0             0.0             0.0            0.0   \n",
       "7213           2.0             1.0             0.0            0.0   \n",
       "\n",
       "      juv_other_count  \n",
       "0                 0.0  \n",
       "1                 0.0  \n",
       "2                 1.0  \n",
       "3                 0.0  \n",
       "4                 0.0  \n",
       "...               ...  \n",
       "7209              0.0  \n",
       "7210              0.0  \n",
       "7211              0.0  \n",
       "7212              0.0  \n",
       "7213              0.0  \n",
       "\n",
       "[7214 rows x 16 columns]"
      ]
     },
     "execution_count": 9,
     "metadata": {},
     "output_type": "execute_result"
    }
   ],
   "source": [
    "# create new dataframe with only numerical data\n",
    "dfa_num = pd.DataFrame(data=d,columns=cleanedLabels)"
   ]
  },
  {
   "cell_type": "markdown",
   "metadata": {},
   "source": [
    "# Part 2: Train classifiers"
   ]
  },
  {
   "cell_type": "markdown",
   "metadata": {},
   "source": [
    "**Comment**: Below we randomly split our data into a training set (70% of the dataset) and a test set (30% of the dataset). "
   ]
  },
  {
   "cell_type": "code",
   "execution_count": 10,
   "metadata": {},
   "outputs": [],
   "source": [
    "from sklearn.model_selection import train_test_split\n",
    "from sklearn.pipeline import make_pipeline\n",
    "from sklearn.preprocessing import StandardScaler\n",
    "from sklearn.model_selection import cross_validate\n",
    "from sklearn.metrics import f1_score\n",
    "from sklego.metrics import p_percent_score\n",
    "from sklego.metrics import equal_opportunity_score\n",
    "Y = dfa_num[\"two_year_recid\"]\n",
    "X = dfa_num.drop(columns=\"two_year_recid\")\n",
    "\n",
    "X_train, X_test, y_train, y_test = train_test_split( X, Y, test_size=0.30, random_state=42)"
   ]
  },
  {
   "cell_type": "code",
   "execution_count": null,
   "metadata": {},
   "outputs": [],
   "source": [
    "def DisplayCM (cf_matrix, label):  \n",
    "    group_names = ['True Neg','False Pos','False Neg','True Pos']\n",
    "\n",
    "    group_counts = [\"{0:0.0f}\".format(value) for value in\n",
    "                    cf_matrix.flatten()]\n",
    "\n",
    "    group_percentages = [\"{0:.2%}\".format(value) for value in\n",
    "                         cf_matrix.flatten()/np.sum(cf_matrix)]\n",
    "\n",
    "    labels = [f\"{v1}\\n{v2}\\n{v3}\" for v1, v2, v3 in\n",
    "              zip(group_names,group_counts,group_percentages)]\n",
    "\n",
    "    labels = np.asarray(labels).reshape(2,2)\n",
    "\n",
    "    ax = sns.heatmap(cf_matrix, annot=labels, fmt='', cmap='Blues')\n",
    "\n",
    "    ax.set_title('Confusion Matrix for ' + label);\n",
    "    ax.set_xlabel('\\nPredicted Values')\n",
    "    ax.set_ylabel('Actual Values ');\n",
    "\n",
    "    ## Ticket labels - List must be in alphabetical order\n",
    "    ax.xaxis.set_ticklabels(['False','True'])\n",
    "    ax.yaxis.set_ticklabels(['False','True'])\n",
    "\n",
    "    ## Display the visualization of the Confusion Matrix.\n",
    "    plt.show()"
   ]
  },
  {
   "cell_type": "code",
   "execution_count": null,
   "metadata": {},
   "outputs": [],
   "source": [
    "def SetupMatrix(cf, normalize):\n",
    "    predictions = cf.predict(X_test)\n",
    "    if normalize:\n",
    "        for p in predictions:\n",
    "            if p[0]>=0.5:\n",
    "                p[0] = 1\n",
    "            else:\n",
    "                p[0] = 0 \n",
    "    cm_data = X_test.copy() # do we change X_test by doing this? If so, we can't do this\n",
    "    cm_data[\"two_year_recid\"] = y_test\n",
    "    cm_data[\"predictions\"] = predictions # add the predictions to the table with data\n",
    "    \n",
    "    \n",
    "    races = [\"race_African-American\",\"race_Caucasian\",\"race_Hispanic\",\"race_Other\"]\n",
    "    genders = [\"sex_Male\",\"sex_Female\"]\n",
    "\n",
    "    for race in races:\n",
    "        aux_df = dfr.loc[dfr['race'] == race]\n",
    "        cm_data_filtered = cm_data.loc[cm_data[race] == 1.0]\n",
    "        cm = confusion_matrix(cm_data_filtered[\"two_year_recid\"], cm_data_filtered[\"predictions\"])\n",
    "        DisplayCM(cm, race)\n",
    "\n",
    "    for sex in genders:\n",
    "        aux_df = dfr.loc[dfr['sex'] == sex]\n",
    "        cm_data_filtered = cm_data.loc[cm_data[sex] == 1.0]\n",
    "        cm = confusion_matrix(cm_data_filtered[\"two_year_recid\"], cm_data_filtered[\"predictions\"])\n",
    "        DisplayCM(cm, sex)"
   ]
  },
  {
   "cell_type": "markdown",
   "metadata": {},
   "source": [
    "## Logistic Regression"
   ]
  },
  {
   "cell_type": "code",
   "execution_count": 24,
   "metadata": {},
   "outputs": [
    {
     "data": {
      "text/plain": [
       "0.6877598152424942"
      ]
     },
     "execution_count": 24,
     "metadata": {},
     "output_type": "execute_result"
    }
   ],
   "source": [
    "from sklearn.linear_model import LogisticRegression\n",
    "clf = LogisticRegression(random_state=0).fit(X_train, y_train)\n",
    "clf.predict(X_test)\n",
    "clf.score(X_test,y_test) # accuracy on test set"
   ]
  },
  {
   "cell_type": "code",
   "execution_count": 25,
   "metadata": {},
   "outputs": [
    {
     "name": "stdout",
     "output_type": "stream",
     "text": [
      "[0.6462561282029832, 0.31000000000000005]\n"
     ]
    }
   ],
   "source": [
    "# cross validation for logistic regression\n",
    "scores = []\n",
    "for c in np.arange (0.01, 1, 0.05):\n",
    "    clf = LogisticRegression(random_state=0,C = c)\n",
    "    cv = cross_validate(clf, X_train, y_train, cv=10,scoring='f1_macro')\n",
    "    score = np.mean(cv[\"test_score\"])\n",
    "    scores.append([score,c])\n",
    "reg = max(scores)\n",
    "clf = LogisticRegression(random_state=0,C = reg[1] ).fit(X_train, y_train)\n",
    "log_reg_score = clf.score(X_test,y_test) # accuracy on test set\n",
    "print(\"Accuracy on test set for logistic regression: \", log_reg_score)"
   ]
  },
  {
   "cell_type": "code",
   "execution_count": 26,
   "metadata": {},
   "outputs": [
    {
     "data": {
      "text/plain": [
       "0.6877598152424942"
      ]
     },
     "execution_count": 26,
     "metadata": {},
     "output_type": "execute_result"
    }
   ],
   "source": [
    "# confusion matrices for logistic regression\n",
    "SetupMatrix(clf,0)"
   ]
  },
  {
   "cell_type": "markdown",
   "metadata": {},
   "source": [
    "**Comment**: Our Logistic Regression model has a higher False Positive rate for African-Americans when compared to the other races. However, it's an improvement from the COMPAS predictor since our False Positive rate is lower by more than 7% (at the cost of -2% for the True Positive rate). Yet, it's still higher than the other races' rates. In fact, the other races present a fairly high False Negative rate, meaning a lot of people predicted to not re-commit crimes will actually do so. Our False Negative rates are worse than the COMPAS' ones."
   ]
  },
  {
   "cell_type": "code",
   "execution_count": 30,
   "metadata": {},
   "outputs": [
    {
     "name": "stdout",
     "output_type": "stream",
     "text": [
      "P% score for African-American feature: 0.4653536429045585\n",
      "P% score for Caucasian feature: 0.6121310616326603\n",
      "P% score for Hispanic feature: 0.4693163978878265\n",
      "P% score for Other Race feature: 0.3843994839684088\n"
     ]
    }
   ],
   "source": [
    "print(\"P% score for African-American feature: \" + str(p_percent_score(sensitive_column=\"race_African-American\")(clf, X)))\n",
    "print(\"P% score for Caucasian feature: \" + str(p_percent_score(sensitive_column=\"race_Caucasian\")(clf, X)))\n",
    "print(\"P% score for Hispanic feature: \" + str(p_percent_score(sensitive_column=\"race_Hispanic\")(clf, X)))\n",
    "print(\"P% score for Other Race feature: \" + str(p_percent_score(sensitive_column=\"race_Other\")(clf, X)))"
   ]
  },
  {
   "cell_type": "code",
   "execution_count": 29,
   "metadata": {},
   "outputs": [
    {
     "name": "stdout",
     "output_type": "stream",
     "text": [
      "Equal opportunity score for African-American feature: 0.5659435766187156\n",
      "Equal opportunity score for Caucasian feature: 0.6731302419075346\n",
      "Equal opportunity score for Hispanic feature: 0.5454062003826894\n",
      "Equal opportunity score for Other Race feature: 0.5212544726138414\n"
     ]
    }
   ],
   "source": [
    "print(\"Equal opportunity score for African-American feature: \" + str(equal_opportunity_score(sensitive_column=\"race_African-American\")(clf, X,Y)))\n",
    "print(\"Equal opportunity score for Caucasian feature: \" + str(equal_opportunity_score(sensitive_column=\"race_Caucasian\")(clf, X,Y)))\n",
    "print(\"Equal opportunity score for Hispanic feature: \" + str(equal_opportunity_score(sensitive_column=\"race_Hispanic\")(clf, X,Y)))\n",
    "print(\"Equal opportunity score for Other Race feature: \" + str(equal_opportunity_score(sensitive_column=\"race_Other\")(clf, X,Y)))"
   ]
  },
  {
   "cell_type": "code",
   "execution_count": 48,
   "metadata": {
    "scrolled": false
   },
   "outputs": [
    {
     "name": "stdout",
     "output_type": "stream",
     "text": [
      "Feature: sex_Female, Score: -0.14663\n",
      "Feature: sex_Male, Score: 0.14953\n",
      "Feature: age_cat_25 - 45, Score: 0.01086\n",
      "Feature: age_cat_Greater than 45, Score: -0.62562\n",
      "Feature: age_cat_Less than 25, Score: 0.61766\n",
      "Feature: c_charge_degree_F, Score: 0.11281\n",
      "Feature: c_charge_degree_M, Score: -0.10991\n",
      "Feature: race_African-American, Score: 0.10727\n",
      "Feature: race_Caucasian, Score: 0.08400\n",
      "Feature: race_Hispanic, Score: -0.08001\n",
      "Feature: race_Other, Score: -0.10837\n",
      "Feature: priors_count, Score: 0.13757\n",
      "Feature: two_year_recid, Score: 0.12486\n",
      "Feature: juv_misd_count, Score: 0.17396\n",
      "Feature: juv_fel_count, Score: 0.21464\n",
      "16\n",
      "15\n"
     ]
    },
    {
     "data": {
      "image/png": "[encoded data removed]",
      "text/plain": [
       "<Figure size 800x400 with 1 Axes>"
      ]
     },
     "metadata": {
      "needs_background": "light"
     },
     "output_type": "display_data"
    }
   ],
   "source": [
    "# summarize and plot importance of features\n",
    "importance = clf.coef_[0]\n",
    "plt.figure(figsize=(6, 4), dpi=(60))\n",
    "plt.bar(listedLabels[:-1], importance)\n",
    "plt.rcParams['font.size'] = '20'\n",
    "plt.xticks(rotation=90, fontsize=15)\n",
    "plt.title(\"Importance of features\")\n",
    "plt.show()"
   ]
  },
  {
   "cell_type": "markdown",
   "metadata": {},
   "source": [
    "**Comment**: The most important feature for predicting recidivism is age. An age under 25 increases the risk of being predicted as high risk. An age over 45 lowers the risk of being predicted high risk. The second most importent features are related to earlier commited crimes. Considering race, african americans and caucasians are more likely to be predicted as high risk than hispanics and others. "
   ]
  },
  {
   "cell_type": "markdown",
   "metadata": {},
   "source": [
    "## SVC"
   ]
  },
  {
   "cell_type": "code",
   "execution_count": 30,
   "metadata": {},
   "outputs": [
    {
     "name": "stdout",
     "output_type": "stream",
     "text": [
      "Accuracy 0.6877598152424942\n",
      "F1-Score 0.6759682384489764\n"
     ]
    }
   ],
   "source": [
    "from sklearn.svm import SVC\n",
    "svc = make_pipeline(StandardScaler(), SVC(gamma='auto'))\n",
    "svc.fit(X_train, y_train)\n",
    "svc.score(X_test,y_test)\n",
    "pred = svc.predict(X_test)\n",
    "print( \"Accuracy \" + str(svc.score(X_test,y_test)))\n",
    "f1 = f1_score(y_test, pred, average='macro')\n",
    "print(\"F1-Score \" + str(f1))"
   ]
  },
  {
   "cell_type": "code",
   "execution_count": 31,
   "metadata": {},
   "outputs": [
    {
     "name": "stdout",
     "output_type": "stream",
     "text": [
      "[0.6553807166430928, 0.81]\n"
     ]
    }
   ],
   "source": [
    "scores = []\n",
    "for c in np.arange (0.01, 1, 0.05):\n",
    "    svc = make_pipeline(StandardScaler(), SVC(gamma='auto', C = c))\n",
    "    cv = cross_validate(svc, X_train, y_train, cv=10)\n",
    "    score = np.mean(cv[\"test_score\"])\n",
    "    scores.append([score,c])\n",
    "reg = max(scores)\n",
    "print(reg)"
   ]
  },
  {
   "cell_type": "code",
   "execution_count": 32,
   "metadata": {},
   "outputs": [
    {
     "name": "stdout",
     "output_type": "stream",
     "text": [
      "Accuracy 0.6863741339491917\n",
      "F1-Score 0.6744706232233328\n"
     ]
    }
   ],
   "source": [
    "best_svc = make_pipeline(StandardScaler(), SVC(gamma='auto',C = reg[1]))\n",
    "best_svc.fit(X_train, y_train)\n",
    "pred = best_svc.predict(X_test)\n",
    "print( \"Accuracy \" + str(best_svc.score(X_test,y_test)))\n",
    "f1 = f1_score(y_test, pred, average='macro')\n",
    "print(\"F1-Score \" + str(f1))"
   ]
  },
  {
   "cell_type": "code",
   "execution_count": null,
   "metadata": {},
   "outputs": [],
   "source": [
    "# confusion matrices for SVC\n",
    "SetupMatrix(best_svc,0)"
   ]
  },
  {
   "cell_type": "markdown",
   "metadata": {},
   "source": [
    "**Comment**: Just like for the Logistic Regression, we're able to improve the False Positive rate for the African-Americans, yet this value is still higher when compared to the other races. And we can draw the same conclusion regarding the False Negative rates being too high, higher than the COMPAS' rates."
   ]
  },
  {
   "cell_type": "markdown",
   "metadata": {},
   "outputs": [
    {
     "ename": "NameError",
     "evalue": "name 'best_svc' is not defined",
     "output_type": "error",
     "traceback": [
      "\u001b[0;31m---------------------------------------------------------------------------\u001b[0m",
      "\u001b[0;31mNameError\u001b[0m                                 Traceback (most recent call last)",
      "\u001b[0;32m/tmp/ipykernel_13853/3657320451.py\u001b[0m in \u001b[0;36m<module>\u001b[0;34m\u001b[0m\n\u001b[0;32m----> 1\u001b[0;31m \u001b[0mprint\u001b[0m\u001b[0;34m(\u001b[0m\u001b[0;34m\"P% score for African-American feature: \"\u001b[0m \u001b[0;34m+\u001b[0m \u001b[0mstr\u001b[0m\u001b[0;34m(\u001b[0m\u001b[0mp_percent_score\u001b[0m\u001b[0;34m(\u001b[0m\u001b[0msensitive_column\u001b[0m\u001b[0;34m=\u001b[0m\u001b[0;34m\"race_African-American\"\u001b[0m\u001b[0;34m)\u001b[0m\u001b[0;34m(\u001b[0m\u001b[0mbest_svc\u001b[0m\u001b[0;34m,\u001b[0m \u001b[0mX\u001b[0m\u001b[0;34m)\u001b[0m\u001b[0;34m)\u001b[0m\u001b[0;34m)\u001b[0m\u001b[0;34m\u001b[0m\u001b[0;34m\u001b[0m\u001b[0m\n\u001b[0m\u001b[1;32m      2\u001b[0m \u001b[0mprint\u001b[0m\u001b[0;34m(\u001b[0m\u001b[0;34m\"P% score for Caucasian feature: \"\u001b[0m \u001b[0;34m+\u001b[0m \u001b[0mstr\u001b[0m\u001b[0;34m(\u001b[0m\u001b[0mp_percent_score\u001b[0m\u001b[0;34m(\u001b[0m\u001b[0msensitive_column\u001b[0m\u001b[0;34m=\u001b[0m\u001b[0;34m\"race_Caucasian\"\u001b[0m\u001b[0;34m)\u001b[0m\u001b[0;34m(\u001b[0m\u001b[0mbest_svc\u001b[0m\u001b[0;34m,\u001b[0m \u001b[0mX\u001b[0m\u001b[0;34m)\u001b[0m\u001b[0;34m)\u001b[0m\u001b[0;34m)\u001b[0m\u001b[0;34m\u001b[0m\u001b[0;34m\u001b[0m\u001b[0m\n\u001b[1;32m      3\u001b[0m \u001b[0mprint\u001b[0m\u001b[0;34m(\u001b[0m\u001b[0;34m\"P% score for Hispanic feature: \"\u001b[0m \u001b[0;34m+\u001b[0m \u001b[0mstr\u001b[0m\u001b[0;34m(\u001b[0m\u001b[0mp_percent_score\u001b[0m\u001b[0;34m(\u001b[0m\u001b[0msensitive_column\u001b[0m\u001b[0;34m=\u001b[0m\u001b[0;34m\"race_Hispanic\"\u001b[0m\u001b[0;34m)\u001b[0m\u001b[0;34m(\u001b[0m\u001b[0mbest_svc\u001b[0m\u001b[0;34m,\u001b[0m \u001b[0mX\u001b[0m\u001b[0;34m)\u001b[0m\u001b[0;34m)\u001b[0m\u001b[0;34m)\u001b[0m\u001b[0;34m\u001b[0m\u001b[0;34m\u001b[0m\u001b[0m\n\u001b[1;32m      4\u001b[0m \u001b[0mprint\u001b[0m\u001b[0;34m(\u001b[0m\u001b[0;34m\"P% score for Other Race feature: \"\u001b[0m \u001b[0;34m+\u001b[0m \u001b[0mstr\u001b[0m\u001b[0;34m(\u001b[0m\u001b[0mp_percent_score\u001b[0m\u001b[0;34m(\u001b[0m\u001b[0msensitive_column\u001b[0m\u001b[0;34m=\u001b[0m\u001b[0;34m\"race_Other\"\u001b[0m\u001b[0;34m)\u001b[0m\u001b[0;34m(\u001b[0m\u001b[0mbest_svc\u001b[0m\u001b[0;34m,\u001b[0m \u001b[0mX\u001b[0m\u001b[0;34m)\u001b[0m\u001b[0;34m)\u001b[0m\u001b[0;34m)\u001b[0m\u001b[0;34m\u001b[0m\u001b[0;34m\u001b[0m\u001b[0m\n",
      "\u001b[0;31mNameError\u001b[0m: name 'best_svc' is not defined"
     ]
    }
   ],
   "source": [
    "print(\"P% score for African-American feature: \" + str(p_percent_score(sensitive_column=\"race_African-American\")(best_svc, X)))\n",
    "print(\"P% score for Caucasian feature: \" + str(p_percent_score(sensitive_column=\"race_Caucasian\")(best_svc, X)))\n",
    "print(\"P% score for Hispanic feature: \" + str(p_percent_score(sensitive_column=\"race_Hispanic\")(best_svc, X)))\n",
    "print(\"P% score for Other Race feature: \" + str(p_percent_score(sensitive_column=\"race_Other\")(best_svc, X)))"
   ]
  },
  {
   "cell_type": "code",
   "execution_count": null,
   "metadata": {},
   "outputs": [],
   "source": [
    "print(\"Equal opportunity score for African-American feature: \" + str(equal_opportunity_score(sensitive_column=\"race_African-American\")(best_svc, X,Y)))\n",
    "print(\"Equal opportunity score for Caucasian feature: \" + str(equal_opportunity_score(sensitive_column=\"race_Caucasian\")(best_svc, X,Y)))\n",
    "print(\"Equal opportunity score for Hispanic feature: \" + str(equal_opportunity_score(sensitive_column=\"race_Hispanic\")(best_svc, X,Y)))\n",
    "print(\"Equal opportunity score for Other Race feature: \" + str(equal_opportunity_score(sensitive_column=\"race_Other\")(best_svc, X,Y)))"
   ]
  },
  {
   "cell_type": "markdown",
   "metadata": {},
   "source": [
    "## Nearest Neighbors"
   ]
  },
  {
   "cell_type": "code",
   "execution_count": 35,
   "metadata": {},
   "outputs": [
    {
     "name": "stdout",
     "output_type": "stream",
     "text": [
      "[0.6423038200747726, 11]\n"
     ]
    }
   ],
   "source": [
    "from sklearn.neighbors import KNeighborsClassifier\n",
    "k_scores = []\n",
    "for k in range(3,12,2):\n",
    "    neigh = KNeighborsClassifier(n_neighbors=k)\n",
    "    cv = cross_validate(neigh, X_train, y_train, cv=5)\n",
    "    k_score = np.mean(cv[\"test_score\"])\n",
    "    k_scores.append([k_score,k])\n",
    "k_reg = max(k_scores)\n",
    "print(k_reg)"
   ]
  },
  {
   "cell_type": "code",
   "execution_count": 36,
   "metadata": {},
   "outputs": [
    {
     "name": "stdout",
     "output_type": "stream",
     "text": [
      "Accuracy 0.6683602771362587\n",
      "F1-Score 0.6586583223539746\n"
     ]
    }
   ],
   "source": [
    "best_neigh = KNeighborsClassifier(n_neighbors=k_reg[1])\n",
    "best_neigh.fit(X_train, y_train)\n",
    "pred = best_neigh.predict(X_test)\n",
    "print( \"Accuracy \" + str(best_neigh.score(X_test,y_test)))\n",
    "f1 = f1_score(y_test, pred, average='macro')\n",
    "print(\"F1-Score \" + str(f1))"
   ]
  },
  {
   "cell_type": "code",
   "execution_count": null,
   "metadata": {},
   "outputs": [],
   "source": [
    "# confusion matrices for Nearest Neighbors\n",
    "SetupMatrix(best_neigh,0)"
   ]
  },
  {
   "cell_type": "markdown",
   "metadata": {},
   "source": [
    "**Comment**: We seem to have an improvement on this classifier regarding the False Positive rates. These have a much smaller variation between races, meaning we're heading torwards a fairer model. We're also able to drop the False Negative rates slightly compared to the previous classifiers, edging closer to the COMPAS' rates."
   ]
  },
  {
   "cell_type": "markdown",
   "metadata": {},
   "outputs": [],
   "source": [
    "print(\"P% score for African-American feature: \" + str(p_percent_score(sensitive_column=\"race_African-American\")(best_neigh, X)))\n",
    "print(\"P% score for Caucasian feature: \" + str(p_percent_score(sensitive_column=\"race_Caucasian\")(best_neigh, X)))\n",
    "print(\"P% score for Hispanic feature: \" + str(p_percent_score(sensitive_column=\"race_Hispanic\")(best_neigh, X)))\n",
    "print(\"P% score for Other Race feature: \" + str(p_percent_score(sensitive_column=\"race_Other\")(best_neigh, X)))"
   ]
  },
  {
   "cell_type": "code",
   "execution_count": null,
   "metadata": {},
   "outputs": [],
   "source": [
    "print(\"Equal opportunity score for African-American feature: \" + str(equal_opportunity_score(sensitive_column=\"race_African-American\")(best_neigh, X,Y)))\n",
    "print(\"Equal opportunity score for Caucasian feature: \" + str(equal_opportunity_score(sensitive_column=\"race_Caucasian\")(best_neigh, X,Y)))\n",
    "print(\"Equal opportunity score for Hispanic feature: \" + str(equal_opportunity_score(sensitive_column=\"race_Hispanic\")(best_neigh, X,Y)))\n",
    "print(\"Equal opportunity score for Other Race feature: \" + str(equal_opportunity_score(sensitive_column=\"race_Other\")(best_neigh, X,Y)))"
   ]
  },
  {
   "cell_type": "markdown",
   "metadata": {},
   "source": [
    "## Random Forest"
   ]
  },
  {
   "cell_type": "code",
   "execution_count": 38,
   "metadata": {},
   "outputs": [
    {
     "name": "stdout",
     "output_type": "stream",
     "text": [
      "Fitting 3 folds for each of 100 candidates, totalling 300 fits\n"
     ]
    },
    {
     "data": {
      "text/plain": [
       "RandomizedSearchCV(cv=3, estimator=RandomForestClassifier(), n_iter=100,\n",
       "                   n_jobs=-1,\n",
       "                   param_distributions={'bootstrap': [True, False],\n",
       "                                        'max_depth': [10, 20, 30, 40, 50, 60,\n",
       "                                                      70, 80, 90, 100, 110,\n",
       "                                                      None],\n",
       "                                        'max_features': ['auto', 'sqrt'],\n",
       "                                        'min_samples_leaf': [1, 2, 4],\n",
       "                                        'min_samples_split': [2, 5, 10],\n",
       "                                        'n_estimators': [200, 400, 600, 800,\n",
       "                                                         1000, 1200, 1400, 1600,\n",
       "                                                         1800, 2000]},\n",
       "                   random_state=42, verbose=2)"
      ]
     },
     "execution_count": 38,
     "metadata": {},
     "output_type": "execute_result"
    }
   ],
   "source": [
    "from sklearn.ensemble import RandomForestClassifier\n",
    "from sklearn.model_selection import RandomizedSearchCV\n",
    "##code from https://towardsdatascience.com/hyperparameter-tuning-the-random-forest-in-python-using-scikit-learn-28d2aa77dd74\n",
    "n_estimators = [int(x) for x in np.linspace(start = 200, stop = 2000, num = 10)]\n",
    "# Number of features to consider at every split\n",
    "max_features = ['auto', 'sqrt']\n",
    "# Maximum number of levels in tree\n",
    "max_depth = [int(x) for x in np.linspace(10, 110, num = 11)]\n",
    "max_depth.append(None)\n",
    "# Minimum number of samples required to split a node\n",
    "min_samples_split = [2, 5, 10]\n",
    "# Minimum number of samples required at each leaf node\n",
    "min_samples_leaf = [1, 2, 4]\n",
    "# Method of selecting samples for training each tree\n",
    "bootstrap = [True, False]\n",
    "random_grid = {'n_estimators': n_estimators,\n",
    "               'max_features': max_features,\n",
    "               'max_depth': max_depth,\n",
    "               'min_samples_split': min_samples_split,\n",
    "               'min_samples_leaf': min_samples_leaf,\n",
    "               'bootstrap': bootstrap}\n",
    "rf = RandomForestClassifier()\n",
    "rf_random = RandomizedSearchCV(estimator = rf, param_distributions = random_grid, n_iter = 100, cv = 3, verbose=2, random_state=42, n_jobs = -1)\n",
    "rf_random.fit(X_train, y_train)\n"
   ]
  },
  {
   "cell_type": "code",
   "execution_count": 40,
   "metadata": {},
   "outputs": [
    {
     "name": "stdout",
     "output_type": "stream",
     "text": [
      "Accuracy 0.68729792147806\n",
      "F1-Score 0.6773582517486367\n"
     ]
    }
   ],
   "source": [
    "best_rf = RandomForestClassifier(max_depth=rf_random.best_params_[\"max_depth\"], random_state=0, n_estimators=rf_random.best_params_[\"n_estimators\"],min_samples_split=rf_random.best_params_[\"min_samples_split\"],min_samples_leaf=rf_random.best_params_[\"min_samples_leaf\"],max_features=rf_random.best_params_[\"max_features\"],bootstrap=rf_random.best_params_[\"bootstrap\"])\n",
    "best_rf.fit(X_train, y_train)\n",
    "pred = best_rf.predict(X_test)\n",
    "print( \"Accuracy \" + str(best_rf.score(X_test,y_test)))\n",
    "f1 = f1_score(y_test, pred, average='macro')\n",
    "print(\"F1-Score \" + str(f1))"
   ]
  },
  {
   "cell_type": "code",
   "execution_count": null,
   "metadata": {},
   "outputs": [],
   "source": [
    "print(\"P% score for African-American feature: \" + str(p_percent_score(sensitive_column=\"race_African-American\")(best_rf, X)))\n",
    "print(\"P% score for Caucasian feature: \" + str(p_percent_score(sensitive_column=\"race_Caucasian\")(best_rf, X)))\n",
    "print(\"P% score for Hispanic feature: \" + str(p_percent_score(sensitive_column=\"race_Hispanic\")(best_rf, X)))\n",
    "print(\"P% score for Other Race feature: \" + str(p_percent_score(sensitive_column=\"race_Other\")(best_rf, X)))",
    "# confusion matrices for Random Forest\n",
    "SetupMatrix(best_rf,0)"
   ]
  },
  {
   "cell_type": "markdown",
   "metadata": {},
   "source": [
    "print(\"Equal opportunity score for African-American feature: \" + str(equal_opportunity_score(sensitive_column=\"race_African-American\")(best_rf, X,Y)))\n",
    "print(\"Equal opportunity score for Caucasian feature: \" + str(equal_opportunity_score(sensitive_column=\"race_Caucasian\")(best_rf, X,Y)))\n",
    "print(\"Equal opportunity score for Hispanic feature: \" + str(equal_opportunity_score(sensitive_column=\"race_Hispanic\")(best_rf, X,Y)))\n",
    "print(\"Equal opportunity score for Other Race feature: \" + str(equal_opportunity_score(sensitive_column=\"race_Other\")(best_rf, X,Y)))",
    "**Comment**: With this model, we achieve our lowest False Positive rate for African-Americans while maintaining a slightly lower rate for the other races. The False Negative rates are still within the expected values (similar to Nearest Neighbors)."
   ]
  },
  {
   "cell_type": "markdown",
   "metadata": {},
   "source": [
    "## Neural Network"
   ]
  },
  {
   "cell_type": "code",
   "execution_count": 21,
   "metadata": {
    "scrolled": true
   },
   "outputs": [],
   "source": [
    "#https://medium.com/luca-chuangs-bapm-notes/build-a-neural-network-in-python-binary-classification-49596d7dcabf\n",
    "from keras.wrappers.scikit_learn import KerasClassifier\n",
    "from keras.utils import np_utils\n",
    "from keras.models import Sequential\n",
    "from keras.layers import Dense, Dropout\n",
    "from keras.callbacks import EarlyStopping\n",
    "\n",
    "\n",
    "model = Sequential()\n",
    "model.add(Dense(64, input_shape=(X.shape[1],), activation='relu'))\n",
    "model.add(Dense(32, activation='relu'))\n",
    "model.add(Dense(16, activation='relu'))\n",
    "model.add(Dense(8, activation='relu'))\n",
    "model.add(Dense(1, activation='sigmoid'))\n",
    "model.summary() \n",
    "\n",
    "# compile the model\n",
    "model.compile(optimizer='Adam', \n",
    "              loss='binary_crossentropy',\n",
    "              metrics=['accuracy'])\n",
    "\n",
    "# early stopping callback\n",
    "# This callback will stop the training when there is no improvement in  \n",
    "# the validation loss for 10 consecutive epochs.  \n",
    "es = EarlyStopping(monitor='val_accuracy', \n",
    "                                   mode='max', # don't minimize the accuracy!\n",
    "                                   patience=10,\n",
    "                                   restore_best_weights=True)\n",
    "\n",
    "# now we just update our model fit call\n",
    "history = model.fit(X_train,\n",
    "                    y_train,\n",
    "                    callbacks=[es],\n",
    "                    epochs=500, # you can set this to a big number!\n",
    "                    batch_size=10,\n",
    "                    validation_data=(X_test,y_test),\n",
    "                    shuffle=True,\n",
    "                    verbose=1)\n",
    "\n",
    "\n",
    "\n",
    "history_dict = history.history\n",
    "# Learning curve(Loss)\n",
    "# let's see the training and validation loss by epoch\n",
    "\n",
    "# loss\n",
    "loss_values = history_dict['loss'] # you can change this\n",
    "val_loss_values = history_dict['val_loss'] # you can also change this\n",
    "\n",
    "# range of X (no. of epochs)\n",
    "epochs = range(1, len(loss_values) + 1) \n",
    "\n",
    "# plot\n",
    "plt.plot(epochs, loss_values, 'bo', label='Training loss')\n",
    "plt.plot(epochs, val_loss_values, 'orange', label='Validation loss')\n",
    "plt.title('Training and validation loss')\n",
    "plt.xlabel('Epochs')\n",
    "plt.ylabel('Loss')\n",
    "plt.legend()\n",
    "plt.show()\n",
    "\n",
    "\n",
    "# Learning curve(accuracy)\n",
    "# let's see the training and validation accuracy by epoch\n",
    "\n",
    "# accuracy\n",
    "acc = history.history['accuracy']\n",
    "val_acc = history.history['val_accuracy']\n",
    "\n",
    "# range of X (no. of epochs)\n",
    "epochs = range(1, len(acc) + 1)\n",
    "\n",
    "# plot\n",
    "# \"bo\" is for \"blue dot\"\n",
    "plt.plot(epochs, acc, 'bo', label='Training accuracy')\n",
    "# orange is for \"orange\"\n",
    "plt.plot(epochs, val_acc, 'orange', label='Validation accuracy')\n",
    "plt.title('Training and validation accuracy')\n",
    "plt.xlabel('Epochs')\n",
    "plt.ylabel('Accuracy')\n",
    "plt.legend()\n",
    "plt.show()\n",
    "\n",
    "# this is the max value - should correspond to\n",
    "# the HIGHEST train accuracy\n",
    "#np.max(val_acc)\n",
    "\n",
    "score = model.evaluate(X_test, y_test, verbose=0)\n",
    "print('Test accuracy:', score[1])"
   ]
  },
  {
   "cell_type": "markdown",
   "metadata": {},
   "source": [
    "## Fair classifiers"
   ]
  },
  {
   "cell_type": "markdown",
   "metadata": {},
   "source": [
    "The three definitons of fairness in machine learning.\n",
    "\n",
    "Demographic Parity:\n",
    "\n",
    "\tDemographic Parity states that the proportion of each segment of a protected class (e.g. gender) should receive the positive outcome at equal rates.\n",
    "\n",
    "\tIn mathematical terms, Demographic Parity requires the outcome to be independent of the protected class A:\n",
    "\n",
    "\tWith regard to the confusion matrix, we require the Positive Rate (PR) to be the same for each segment of the protected class.\n",
    "\n",
    "Equal Opportunity:\n",
    "\n",
    "\tEqual Opportunity states that each group should get the positive outcome at equal rates, assuming that people in this group qualify for it.\n",
    "\n",
    "\tEqual Opportunity requires the positive outcome to be independent of the protected class A, conditional on Y being an actual positive:\n",
    "\t\n",
    "\tBased on the confusion matrix, we require the True Positive Rate (TPR) to be the same for each segment of the protected class.\n",
    "\n",
    "Equalised Odds:\n",
    "\n",
    "\tCorrectly identify the positive outcome at equal rates across groups (same as in Equal Opportunity), but also\n",
    "    \tmiss-classify the positive outcome at equal rates across groups (creating the same proportion of False Positives across groups)\n",
    "\n",
    "\tEqualised Odds requires the positive outcome to be independent of the protected class A, conditional on the actual Y\n",
    "\n",
    "\tEqualised Odds requires the positive outcome to be independent of the protected class A, conditional on the actual Y\n",
    "\n",
    "\n",
    "\n",
    "\n",
    "\n",
    "\n",
    "\n",
    "\n"
   ]
  },
  {
   "cell_type": "markdown",
   "metadata": {},
   "source": [
    "### In search for fairer classifiers we found these variations of logistic regression: DemographicParityClassifier and EqualOpportunityClassifier. "
   ]
  },
  {
   "cell_type": "markdown",
   "metadata": {},
   "source": [
    "### The DemographicParityClassifier takes into consideration the p% score but since it's a non-convex function it instead aproximates this function by taking the covariance between the users’ sensitive attributes and the decision boundary. "
   ]
  },
  {
   "attachments": {
    "demoparity.png": {
     "image/png": "[encoded data removed]"
    }
   },
   "cell_type": "markdown",
   "metadata": {},
   "source": [
    "![demoparity.png](attachment:demoparity.png)"
   ]
  },
  {
   "cell_type": "code",
   "execution_count": 48,
   "metadata": {},
   "outputs": [
    {
     "data": {
      "text/plain": [
       "OneVsRestClassifier(estimator=_DemographicParityClassifier(covariance_threshold=0.5,\n",
       "                                                           sensitive_cols=['race_African-American',\n",
       "                                                                           'race_Caucasian',\n",
       "                                                                           'race_Hispanic',\n",
       "                                                                           'race_Other']),\n",
       "                    n_jobs=1)"
      ]
     },
     "execution_count": 48,
     "metadata": {},
     "output_type": "execute_result"
    }
   ],
   "source": [
    "from sklego.linear_model import DemographicParityClassifier\n",
    "from sklego.metrics import p_percent_score\n",
    "\n",
    "\n",
    "\n",
    "demo_parity = DemographicParityClassifier(sensitive_cols=[\"race_African-American\",\"race_Caucasian\",\"race_Hispanic\",\"race_Other\"], covariance_threshold=0.5)\n",
    "demo_parity.fit(X_train, y_train)"
   ]
  },
  {
   "cell_type": "code",
   "execution_count": 49,
   "metadata": {},
   "outputs": [
    {
     "name": "stdout",
     "output_type": "stream",
     "text": [
      "Accuracy: 0.6849884526558891\n"
     ]
    }
   ],
   "source": [
    "demo_parity.predict(X_test)\n",
    "print(\"Demographic Parity Classifier Accuracy: \" + str(demo_parity.score(X_test,y_test)))"
   ]
  },
  {
   "cell_type": "code",
   "execution_count": 51,
   "metadata": {},
   "outputs": [
    {
     "name": "stdout",
     "output_type": "stream",
     "text": [
      "Regular Logistic Regression Accuracy: 0.6877598152424942\n"
     ]
    }
   ],
   "source": [
    "print(\"Regular Logistic Regression Accuracy: \" + str(clf.score(X_test,y_test)))"
   ]
  },
  {
   "cell_type": "code",
   "execution_count": 32,
   "metadata": {},
   "outputs": [
    {
     "name": "stdout",
     "output_type": "stream",
     "text": [
      "P% score for African-American feature: 0.5320095952522914\n",
      "P% score for Caucasian feature: 0.5798673560462944\n",
      "P% score for Hispanic feature: 0.7241102838698313\n",
      "P% score for Other Race feature: 0.6705240764280869\n"
     ]
    }
   ],
   "source": [
    "print(\"Demographic Parity Classifier\")\n",
    "print(\"P% score for African-American feature: \" + str(p_percent_score(sensitive_column=\"race_African-American\")(demo_parity, X)))\n",
    "print(\"P% score for Caucasian feature: \" + str(p_percent_score(sensitive_column=\"race_Caucasian\")(demo_parity, X)))\n",
    "print(\"P% score for Hispanic feature: \" + str(p_percent_score(sensitive_column=\"race_Hispanic\")(demo_parity, X)))\n",
    "print(\"P% score for Other Race feature: \" + str(p_percent_score(sensitive_column=\"race_Other\")(demo_parity, X)))"
   ]
  },
  {
   "cell_type": "code",
   "execution_count": 52,
   "metadata": {},
   "outputs": [
    {
     "name": "stdout",
     "output_type": "stream",
     "text": [
      "Regular Logistic Regression\n",
      "P% score for African-American feature: 0.4653536429045585\n",
      "P% score for Caucasian feature: 0.6121310616326603\n",
      "P% score for Hispanic feature: 0.4693163978878265\n",
      "P% score for Other Race feature: 0.3843994839684088\n"
     ]
    }
   ],
   "source": [
    "print(\"Regular Logistic Regression\")\n",
    "print(\"P% score for African-American feature: \" + str(p_percent_score(sensitive_column=\"race_African-American\")(clf, X)))\n",
    "print(\"P% score for Caucasian feature: \" + str(p_percent_score(sensitive_column=\"race_Caucasian\")(clf, X)))\n",
    "print(\"P% score for Hispanic feature: \" + str(p_percent_score(sensitive_column=\"race_Hispanic\")(clf, X)))\n",
    "print(\"P% score for Other Race feature: \" + str(p_percent_score(sensitive_column=\"race_Other\")(clf, X)))"
   ]
  },
  {
   "cell_type": "markdown",
   "metadata": {},
   "source": [
    "### As we can see there is a slight decrease in accuracy but a significant improvement in all of the p% scores except for te caucasian."
   ]
  },
  {
   "cell_type": "markdown",
   "metadata": {},
   "source": [
    "### Equal Opportunity Classifier optimizes the following function:"
   ]
  },
  {
   "attachments": {
    "equalopt.png": {
     "image/png": "[encoded data removed]"
    }
   },
   "cell_type": "markdown",
   "metadata": {},
   "source": [
    "![equalopt.png](attachment:equalopt.png)"
   ]
  },
  {
   "cell_type": "code",
   "execution_count": 42,
   "metadata": {
    "scrolled": true
   },
   "outputs": [
    {
     "data": {
      "text/plain": [
       "OneVsRestClassifier(estimator=_EqualOpportunityClassifier(covariance_threshold=0.5,\n",
       "                                                          positive_target=True,\n",
       "                                                          sensitive_cols=['race_African-American',\n",
       "                                                                          'race_Caucasian',\n",
       "                                                                          'race_Hispanic',\n",
       "                                                                          'race_Other']),\n",
       "                    n_jobs=1)"
      ]
     },
     "execution_count": 42,
     "metadata": {},
     "output_type": "execute_result"
    }
   ],
   "source": [
    "from sklego.linear_model import EqualOpportunityClassifier\n",
    "\n",
    "equal_opt = EqualOpportunityClassifier(sensitive_cols=[\"race_African-American\",\"race_Caucasian\",\"race_Hispanic\",\"race_Other\"], covariance_threshold=0.5,positive_target=True)\n",
    "equal_opt.fit(X_train, y_train)"
   ]
  },
  {
   "cell_type": "code",
   "execution_count": 55,
   "metadata": {},
   "outputs": [
    {
     "name": "stdout",
     "output_type": "stream",
     "text": [
      "Equal Opportunity Classifier accuracy: 0.6849884526558891\n"
     ]
    }
   ],
   "source": [
    "equal_opt.predict(X_test)\n",
    "print(\"Equal Opportunity Classifier accuracy: \" + str(equal_opt.score(X_test,y_test)))"
   ]
  },
  {
   "cell_type": "code",
   "execution_count": 56,
   "metadata": {},
   "outputs": [
    {
     "name": "stdout",
     "output_type": "stream",
     "text": [
      "Regular Logistic Regression Accuracy: 0.6877598152424942\n"
     ]
    }
   ],
   "source": [
    "print(\"Regular Logistic Regression Accuracy: \" + str(clf.score(X_test,y_test)))"
   ]
  },
  {
   "cell_type": "code",
   "execution_count": 57,
   "metadata": {},
   "outputs": [
    {
     "name": "stdout",
     "output_type": "stream",
     "text": [
      "Equal Opportunity Classifier\n",
      "Equal opportunity score for African-American feature: 0.6356306940922325\n",
      "Equal opportunity score for Caucasian feature: 0.6452751597303116\n",
      "Equal opportunity score for Hispanic feature: 0.8304410759304363\n",
      "Equal opportunity score for Other Race feature: 0.7765743333545473\n"
     ]
    }
   ],
   "source": [
    "print(\"Equal Opportunity Classifier\")\n",
    "print(\"Equal opportunity score for African-American feature: \" + str(equal_opportunity_score(sensitive_column=\"race_African-American\")(equal_opt, X,Y)))\n",
    "print(\"Equal opportunity score for Caucasian feature: \" + str(equal_opportunity_score(sensitive_column=\"race_Caucasian\")(equal_opt, X,Y)))\n",
    "print(\"Equal opportunity score for Hispanic feature: \" + str(equal_opportunity_score(sensitive_column=\"race_Hispanic\")(equal_opt, X,Y)))\n",
    "print(\"Equal opportunity score for Other Race feature: \" + str(equal_opportunity_score(sensitive_column=\"race_Other\")(equal_opt, X,Y)))"
   ]
  },
  {
   "cell_type": "code",
   "execution_count": 58,
   "metadata": {},
   "outputs": [
    {
     "name": "stdout",
     "output_type": "stream",
     "text": [
      "Regular Logistic Regression\n",
      "Equal opportunity score for African-American feature: 0.5659435766187156\n",
      "Equal opportunity score for Caucasian feature: 0.6731302419075346\n",
      "Equal opportunity score for Hispanic feature: 0.5454062003826894\n",
      "Equal opportunity score for Other Race feature: 0.5212544726138414\n"
     ]
    }
   ],
   "source": [
    "print(\"Regular Logistic Regression\")\n",
    "print(\"Equal opportunity score for African-American feature: \" + str(equal_opportunity_score(sensitive_column=\"race_African-American\")(clf, X,Y)))\n",
    "print(\"Equal opportunity score for Caucasian feature: \" + str(equal_opportunity_score(sensitive_column=\"race_Caucasian\")(clf, X,Y)))\n",
    "print(\"Equal opportunity score for Hispanic feature: \" + str(equal_opportunity_score(sensitive_column=\"race_Hispanic\")(clf, X,Y)))\n",
    "print(\"Equal opportunity score for Other Race feature: \" + str(equal_opportunity_score(sensitive_column=\"race_Other\")(clf, X,Y)))"
   ]
  },
  {
   "cell_type": "markdown",
   "metadata": {},
   "source": [
    "### Again using this classifier we get a slight hit on accuracy but we get improved equal opportunity score for every race except the caucasian.",
    "# confusion matrices for Neural Network\n",
    "SetupMatrix(model, 1)"
   ]
  },
  {
   "cell_type": "markdown",
   "metadata": {},
   "source": [
    "**Comment**: Our results with the Neural Network are similar to COMPAS, except with the extreme improvement on the False Positive rate, meaning we're not falsefully predicting as many people to re-commit crimes as COMPAS. So we get a strong True Positive rate and a decent False Positive, a vast improvement from COMPAS and one of the best classifiers we trained."
   ]
  },
  {
   "cell_type": "markdown",
   "metadata": {},
   "source": [
    "# Part 3: Fair classifier"
   ]
  },
  {
   "cell_type": "markdown",
   "metadata": {},
   "source": [
    "### Definition of fairness"
   ]
  },
  {
   "cell_type": "markdown",
   "metadata": {},
   "source": [
    "### Building a fair classifier"
   ]
  },
  {
   "cell_type": "code",
   "execution_count": null,
   "metadata": {},
   "outputs": [],
   "source": [
    "from sklego.linear_model import DemographicParityClassifier\n",
    "from sklearn.linear_model import LogisticRegression\n",
    "from sklego.metrics import p_percent_score\n",
    "\n",
    "from sklearn.metrics import accuracy_score, make_scorer\n",
    "from sklearn.model_selection import GridSearchCV\n",
    "\n",
    "fair_classifier = DemographicParityClassifier(sensitive_cols=[\"race_African-American\",\"race_Caucasian\",\"race_Hispanic\",\"race_Other\"], covariance_threshold=0.5)\n",
    "fair_classifier.fit(X_train, y_train)"
   ]
  },
  {
   "cell_type": "code",
   "execution_count": null,
   "metadata": {},
   "outputs": [],
   "source": []
  }
 ],
 "metadata": {
  "kernelspec": {
   "display_name": "Python 3 (ipykernel)",
   "language": "python",
   "name": "python3"
  },
  "language_info": {
   "codemirror_mode": {
    "name": "ipython",
    "version": 3
   },
   "file_extension": ".py",
   "mimetype": "text/x-python",
   "name": "python",
   "nbconvert_exporter": "python",
   "pygments_lexer": "ipython3",
   "version": "3.9.12"
  }
 },
 "nbformat": 4,
 "nbformat_minor": 4
}
